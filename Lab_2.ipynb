{
 "cells": [
  {
   "cell_type": "code",
   "execution_count": 28,
   "metadata": {
    "slideshow": {
     "slide_type": "slide"
    }
   },
   "outputs": [
    {
     "data": {
      "text/html": [
       "<div>\n",
       "<style>\n",
       "    .dataframe thead tr:only-child th {\n",
       "        text-align: right;\n",
       "    }\n",
       "\n",
       "    .dataframe thead th {\n",
       "        text-align: left;\n",
       "    }\n",
       "\n",
       "    .dataframe tbody tr th {\n",
       "        vertical-align: top;\n",
       "    }\n",
       "</style>\n",
       "<table border=\"1\" class=\"dataframe\">\n",
       "  <thead>\n",
       "    <tr style=\"text-align: right;\">\n",
       "      <th></th>\n",
       "      <th>user</th>\n",
       "      <th>artist-mbid</th>\n",
       "      <th>artist-name</th>\n",
       "      <th>total-plays</th>\n",
       "    </tr>\n",
       "  </thead>\n",
       "  <tbody>\n",
       "    <tr>\n",
       "      <th>0</th>\n",
       "      <td>00000c289a1829a808ac09c00daf10bc3c4e223b</td>\n",
       "      <td>3bd73256-3905-4f3a-97e2-8b341527f805</td>\n",
       "      <td>betty blowtorch</td>\n",
       "      <td>2137</td>\n",
       "    </tr>\n",
       "    <tr>\n",
       "      <th>1</th>\n",
       "      <td>00000c289a1829a808ac09c00daf10bc3c4e223b</td>\n",
       "      <td>f2fb0ff0-5679-42ec-a55c-15109ce6e320</td>\n",
       "      <td>die Ärzte</td>\n",
       "      <td>1099</td>\n",
       "    </tr>\n",
       "    <tr>\n",
       "      <th>2</th>\n",
       "      <td>00000c289a1829a808ac09c00daf10bc3c4e223b</td>\n",
       "      <td>b3ae82c2-e60b-4551-a76d-6620f1b456aa</td>\n",
       "      <td>melissa etheridge</td>\n",
       "      <td>897</td>\n",
       "    </tr>\n",
       "    <tr>\n",
       "      <th>3</th>\n",
       "      <td>00000c289a1829a808ac09c00daf10bc3c4e223b</td>\n",
       "      <td>3d6bbeb7-f90e-4d10-b440-e153c0d10b53</td>\n",
       "      <td>elvenking</td>\n",
       "      <td>717</td>\n",
       "    </tr>\n",
       "    <tr>\n",
       "      <th>4</th>\n",
       "      <td>00000c289a1829a808ac09c00daf10bc3c4e223b</td>\n",
       "      <td>bbd2ffd7-17f4-4506-8572-c1ea58c3f9a8</td>\n",
       "      <td>juliette &amp; the licks</td>\n",
       "      <td>706</td>\n",
       "    </tr>\n",
       "  </tbody>\n",
       "</table>\n",
       "</div>"
      ],
      "text/plain": [
       "                                       user  \\\n",
       "0  00000c289a1829a808ac09c00daf10bc3c4e223b   \n",
       "1  00000c289a1829a808ac09c00daf10bc3c4e223b   \n",
       "2  00000c289a1829a808ac09c00daf10bc3c4e223b   \n",
       "3  00000c289a1829a808ac09c00daf10bc3c4e223b   \n",
       "4  00000c289a1829a808ac09c00daf10bc3c4e223b   \n",
       "\n",
       "                            artist-mbid           artist-name  total-plays  \n",
       "0  3bd73256-3905-4f3a-97e2-8b341527f805       betty blowtorch         2137  \n",
       "1  f2fb0ff0-5679-42ec-a55c-15109ce6e320             die Ärzte         1099  \n",
       "2  b3ae82c2-e60b-4551-a76d-6620f1b456aa     melissa etheridge          897  \n",
       "3  3d6bbeb7-f90e-4d10-b440-e153c0d10b53             elvenking          717  \n",
       "4  bbd2ffd7-17f4-4506-8572-c1ea58c3f9a8  juliette & the licks          706  "
      ]
     },
     "execution_count": 28,
     "metadata": {},
     "output_type": "execute_result"
    }
   ],
   "source": [
    "# загружаем данные\n",
    "from os import path, environ\n",
    "import pandas as pd\n",
    "import numpy as np\n",
    "\n",
    "data_dir = \"/Users/kurzyakov/Desktop/Dr/2/ml-latest-small\"\n",
    "environ[\"DATA_DIR\"] = \"/Users/kurzyakov/Desktop/Dr/2/ml-latest-small\"\n",
    "\n",
    "col_names = [\"user\", \"artist-mbid\", \"artist-name\", \"total-plays\"]\n",
    "data = pd.read_csv(\n",
    "    path.join(data_dir, \"lastfm_small.tsv\"),\n",
    "    sep=\"\\t\",\n",
    "    header=None,\n",
    "    names=[\"user\", \"artist-mbid\", \"artist-name\", \"total-plays\"]\n",
    ")\n",
    "data.head()"
   ]
  },
  {
   "cell_type": "code",
   "execution_count": 29,
   "metadata": {
    "slideshow": {
     "slide_type": "slide"
    }
   },
   "outputs": [
    {
     "data": {
      "text/html": [
       "<div>\n",
       "<style>\n",
       "    .dataframe thead tr:only-child th {\n",
       "        text-align: right;\n",
       "    }\n",
       "\n",
       "    .dataframe thead th {\n",
       "        text-align: left;\n",
       "    }\n",
       "\n",
       "    .dataframe tbody tr th {\n",
       "        vertical-align: top;\n",
       "    }\n",
       "</style>\n",
       "<table border=\"1\" class=\"dataframe\">\n",
       "  <thead>\n",
       "    <tr style=\"text-align: right;\">\n",
       "      <th></th>\n",
       "      <th>total-plays</th>\n",
       "      <th>user_id</th>\n",
       "      <th>artist_id</th>\n",
       "    </tr>\n",
       "  </thead>\n",
       "  <tbody>\n",
       "    <tr>\n",
       "      <th>0</th>\n",
       "      <td>2137</td>\n",
       "      <td>1</td>\n",
       "      <td>15531</td>\n",
       "    </tr>\n",
       "    <tr>\n",
       "      <th>1</th>\n",
       "      <td>1099</td>\n",
       "      <td>1</td>\n",
       "      <td>63469</td>\n",
       "    </tr>\n",
       "    <tr>\n",
       "      <th>2</th>\n",
       "      <td>897</td>\n",
       "      <td>1</td>\n",
       "      <td>46858</td>\n",
       "    </tr>\n",
       "    <tr>\n",
       "      <th>3</th>\n",
       "      <td>717</td>\n",
       "      <td>1</td>\n",
       "      <td>15968</td>\n",
       "    </tr>\n",
       "    <tr>\n",
       "      <th>4</th>\n",
       "      <td>706</td>\n",
       "      <td>1</td>\n",
       "      <td>48969</td>\n",
       "    </tr>\n",
       "  </tbody>\n",
       "</table>\n",
       "</div>"
      ],
      "text/plain": [
       "   total-plays  user_id  artist_id\n",
       "0         2137        1      15531\n",
       "1         1099        1      63469\n",
       "2          897        1      46858\n",
       "3          717        1      15968\n",
       "4          706        1      48969"
      ]
     },
     "execution_count": 29,
     "metadata": {},
     "output_type": "execute_result"
    }
   ],
   "source": [
    "# заполняем пустые значения\n",
    "data.fillna(\"None\", inplace=True)\n",
    "# заменим строковые идентификаторы числовыми кодами\n",
    "# добавляем к индексам единицы, потому что в mrec,\n",
    "# который будем использовать для оценки качества, индексы начинаются с единицы\n",
    "data[\"user_id\"] = data[\"user\"].astype(\"category\").cat.codes.copy() + 1\n",
    "data[\"artist_id\"] = data[\"artist-mbid\"].astype(\"category\").cat.codes.copy() + 1\n",
    "# убираем лишние колонки\n",
    "data.drop([\"artist-name\", \"artist-mbid\", \"user\"], axis=1, inplace=True)\n",
    "data.head()"
   ]
  },
  {
   "cell_type": "code",
   "execution_count": 19,
   "metadata": {},
   "outputs": [
    {
     "name": "stdout",
     "output_type": "stream",
     "text": [
      "Collecting implicit\n",
      "  Using cached implicit-0.2.7.tar.gz\n",
      "Requirement already satisfied: numpy in ./anaconda2/lib/python2.7/site-packages (from implicit)\n",
      "Requirement already satisfied: scipy>=0.16 in ./anaconda2/lib/python2.7/site-packages (from implicit)\n",
      "Building wheels for collected packages: implicit\n",
      "  Running setup.py bdist_wheel for implicit ... \u001b[?25ldone\n",
      "\u001b[?25h  Stored in directory: /Users/kurzyakov/Library/Caches/pip/wheels/9a/6e/e6/71106a349ec65d9024a2832d8ca94a2225c8c271b44bb742c8\n",
      "Successfully built implicit\n",
      "Installing collected packages: implicit\n",
      "Successfully installed implicit-0.2.7\n"
     ]
    }
   ],
   "source": [
    "#!pip install implicit"
   ]
  },
  {
   "cell_type": "code",
   "execution_count": 30,
   "metadata": {
    "slideshow": {
     "slide_type": "slide"
    }
   },
   "outputs": [
    {
     "data": {
      "text/html": [
       "<div>\n",
       "<style>\n",
       "    .dataframe thead tr:only-child th {\n",
       "        text-align: right;\n",
       "    }\n",
       "\n",
       "    .dataframe thead th {\n",
       "        text-align: left;\n",
       "    }\n",
       "\n",
       "    .dataframe tbody tr th {\n",
       "        vertical-align: top;\n",
       "    }\n",
       "</style>\n",
       "<table border=\"1\" class=\"dataframe\">\n",
       "  <thead>\n",
       "    <tr style=\"text-align: right;\">\n",
       "      <th></th>\n",
       "      <th>total-plays</th>\n",
       "      <th>user_id</th>\n",
       "      <th>artist_id</th>\n",
       "    </tr>\n",
       "  </thead>\n",
       "  <tbody>\n",
       "    <tr>\n",
       "      <th>count</th>\n",
       "      <td>1000000.000000</td>\n",
       "      <td>1000000.000000</td>\n",
       "      <td>1000000.000000</td>\n",
       "    </tr>\n",
       "    <tr>\n",
       "      <th>mean</th>\n",
       "      <td>216.606950</td>\n",
       "      <td>10232.925996</td>\n",
       "      <td>33678.492236</td>\n",
       "    </tr>\n",
       "    <tr>\n",
       "      <th>std</th>\n",
       "      <td>604.378024</td>\n",
       "      <td>5912.022447</td>\n",
       "      <td>19230.330182</td>\n",
       "    </tr>\n",
       "    <tr>\n",
       "      <th>min</th>\n",
       "      <td>1.000000</td>\n",
       "      <td>1.000000</td>\n",
       "      <td>1.000000</td>\n",
       "    </tr>\n",
       "    <tr>\n",
       "      <th>25%</th>\n",
       "      <td>34.000000</td>\n",
       "      <td>5118.000000</td>\n",
       "      <td>17298.000000</td>\n",
       "    </tr>\n",
       "    <tr>\n",
       "      <th>50%</th>\n",
       "      <td>94.000000</td>\n",
       "      <td>10237.000000</td>\n",
       "      <td>34544.000000</td>\n",
       "    </tr>\n",
       "    <tr>\n",
       "      <th>75%</th>\n",
       "      <td>225.000000</td>\n",
       "      <td>15347.000000</td>\n",
       "      <td>49488.000000</td>\n",
       "    </tr>\n",
       "    <tr>\n",
       "      <th>max</th>\n",
       "      <td>135392.000000</td>\n",
       "      <td>20465.000000</td>\n",
       "      <td>66799.000000</td>\n",
       "    </tr>\n",
       "  </tbody>\n",
       "</table>\n",
       "</div>"
      ],
      "text/plain": [
       "          total-plays         user_id       artist_id\n",
       "count  1000000.000000  1000000.000000  1000000.000000\n",
       "mean       216.606950    10232.925996    33678.492236\n",
       "std        604.378024     5912.022447    19230.330182\n",
       "min          1.000000        1.000000        1.000000\n",
       "25%         34.000000     5118.000000    17298.000000\n",
       "50%         94.000000    10237.000000    34544.000000\n",
       "75%        225.000000    15347.000000    49488.000000\n",
       "max     135392.000000    20465.000000    66799.000000"
      ]
     },
     "execution_count": 30,
     "metadata": {},
     "output_type": "execute_result"
    }
   ],
   "source": [
    "data.describe()"
   ]
  },
  {
   "cell_type": "code",
   "execution_count": 112,
   "metadata": {
    "collapsed": true,
    "slideshow": {
     "slide_type": "slide"
    }
   },
   "outputs": [],
   "source": [
    "# разобьём наблюдения на тестовую и обучающую выборки\n",
    "test_indices = np.random.choice(\n",
    "    data.index.values,\n",
    "    replace=False,\n",
    "    size=int(len(data.index.values) * 0.4)\n",
    ")\n",
    "test_data = data.iloc[test_indices]\n",
    "train_data = data.drop(test_indices)"
   ]
  },
  {
   "cell_type": "code",
   "execution_count": 113,
   "metadata": {
    "slideshow": {
     "slide_type": "slide"
    }
   },
   "outputs": [
    {
     "name": "stdout",
     "output_type": "stream",
     "text": [
      "нет в обучающей выборке, но есть в тестовой: 6\n",
      "нет в тестовой выборке, но есть в обучающей: 7\n",
      "всего пользователей: 20465\n"
     ]
    }
   ],
   "source": [
    "test_user_set = set(test_data[\"user_id\"].unique()) #set выдает элементы заданного множества, только 1 раз\n",
    "train_user_set = set(train_data[\"user_id\"].unique())\n",
    "print(\"нет в обучающей выборке, но есть в тестовой: {}\".format(\n",
    "    len(test_user_set - train_user_set)))\n",
    "print(\"нет в тестовой выборке, но есть в обучающей: {}\".format(\n",
    "    len(train_user_set - test_user_set)))\n",
    "print(\"всего пользователей: {}\".format(len(data[\"user_id\"].unique())))"
   ]
  },
  {
   "cell_type": "code",
   "execution_count": 114,
   "metadata": {
    "slideshow": {
     "slide_type": "slide"
    }
   },
   "outputs": [
    {
     "name": "stderr",
     "output_type": "stream",
     "text": [
      "/Users/kurzyakov/anaconda2/lib/python2.7/site-packages/ipykernel_launcher.py:4: SettingWithCopyWarning: \n",
      "A value is trying to be set on a copy of a slice from a DataFrame\n",
      "\n",
      "See the caveats in the documentation: http://pandas.pydata.org/pandas-docs/stable/indexing.html#indexing-view-versus-copy\n",
      "  after removing the cwd from sys.path.\n"
     ]
    }
   ],
   "source": [
    "# исключим таких пользователей из тестовой и обучающей выборок\n",
    "user_ids_to_exclude = (test_user_set - train_user_set).union(train_user_set - test_user_set)\n",
    "bad_indices = test_data[test_data[\"user_id\"].isin(user_ids_to_exclude).values].index\n",
    "test_data.drop(bad_indices, inplace=True)\n",
    "bad_indices = train_data[train_data[\"user_id\"].isin(user_ids_to_exclude).values]\n",
    "train_data.drop(bad_indices.index, inplace=True)"
   ]
  },
  {
   "cell_type": "code",
   "execution_count": 115,
   "metadata": {
    "collapsed": true,
    "slideshow": {
     "slide_type": "slide"
    }
   },
   "outputs": [],
   "source": [
    "test_file_name = \"lastfm.test.0\"\n",
    "test_data[[\"user_id\", \"artist_id\", \"total-plays\"]].to_csv(\n",
    "    path.join(data_dir, test_file_name),\n",
    "    sep=\"\\t\",\n",
    "    header=False,\n",
    "    index=False\n",
    ")\n",
    "train_file_name = \"lastfm.train.0\"\n",
    "train_data[[\"user_id\", \"artist_id\", \"total-plays\"]].to_csv(\n",
    "    path.join(data_dir, train_file_name),\n",
    "    sep=\"\\t\",\n",
    "    header=False,\n",
    "    index=False\n",
    ")"
   ]
  },
  {
   "cell_type": "code",
   "execution_count": 106,
   "metadata": {
    "slideshow": {
     "slide_type": "slide"
    }
   },
   "outputs": [
    {
     "ename": "SyntaxError",
     "evalue": "invalid syntax (<ipython-input-106-fb7245614083>, line 4)",
     "output_type": "error",
     "traceback": [
      "\u001b[0;36m  File \u001b[0;32m\"<ipython-input-106-fb7245614083>\"\u001b[0;36m, line \u001b[0;32m4\u001b[0m\n\u001b[0;31m    def sparse_info(sparse_matrix: csr_matrix) -> None:\u001b[0m\n\u001b[0m                                 ^\u001b[0m\n\u001b[0;31mSyntaxError\u001b[0m\u001b[0;31m:\u001b[0m invalid syntax\n"
     ]
    }
   ],
   "source": [
    "# функция, которая красиво печатает информацию о разреженных матрицах\n",
    "from scipy.sparse import csr_matrix\n",
    "\n",
    "def sparse_info(sparse_matrix: csr_matrix) -> None:\n",
    "    print(\"Размерности матрицы: {}\".format(sparse_matrix.shape))\n",
    "    print(\"Ненулевых элементов в матрице: {}\".format(sparse_matrix.nnz))\n",
    "    print(\"Доля ненулевых элементов: {}\"\n",
    "          .format(sparse_matrix.nnz / sparse_matrix.shape[0] / sparse_matrix.shape[1])\n",
    "    )\n",
    "    print(\"Среднее значение ненулевых элементов: {}\".format(sparse_matrix.data.mean()))\n",
    "    print(\"Максимальное значение ненулевых элементов: {}\".format(sparse_matrix.data.max()))\n",
    "    print(\"Минимальное значение ненулевых элементов: {}\".format(sparse_matrix.data.min()))"
   ]
  },
  {
   "cell_type": "code",
   "execution_count": 116,
   "metadata": {
    "slideshow": {
     "slide_type": "slide"
    }
   },
   "outputs": [],
   "source": [
    "# создаём разреженную матрицу item*user\n",
    "from scipy.sparse import coo_matrix\n",
    "import numpy as np\n",
    "\n",
    "#для кос. меры\n",
    "plays = coo_matrix((\n",
    "    train_data[\"total-plays\"].astype(np.float32),\n",
    "    (\n",
    "        train_data[\"artist_id\"],\n",
    "        train_data[\"user_id\"]\n",
    "    )\n",
    "))\n",
    "\n",
    "#для als \n",
    "plays1 = coo_matrix((\n",
    "    train_data[\"total-plays\"].astype('double'),\n",
    "    (\n",
    "        train_data[\"artist_id\"],\n",
    "        train_data[\"user_id\"]\n",
    "    )\n",
    "))\n",
    "\n",
    "#sparse_info(plays.tocsr())"
   ]
  },
  {
   "cell_type": "code",
   "execution_count": 117,
   "metadata": {
    "slideshow": {
     "slide_type": "slide"
    }
   },
   "outputs": [
    {
     "name": "stdout",
     "output_type": "stream",
     "text": [
      "строим матрицу схожести по косинусной мере\n",
      "построили матрицу схожести по косинусной мере за 1.16793107986 секунд\n"
     ]
    }
   ],
   "source": [
    "import time\n",
    "from implicit.nearest_neighbours import CosineRecommender\n",
    "\n",
    "model = CosineRecommender(K=30)\n",
    "print(\"строим матрицу схожести по косинусной мере\")\n",
    "start = time.time()\n",
    "model.fit(plays)\n",
    "print(\"построили матрицу схожести по косинусной мере за {} секунд\".format(\n",
    "        time.time() - start))\n",
    "#sparse_info(model.similarity)"
   ]
  },
  {
   "cell_type": "code",
   "execution_count": 118,
   "metadata": {
    "scrolled": true,
    "slideshow": {
     "slide_type": "slide"
    }
   },
   "outputs": [
    {
     "name": "stdout",
     "output_type": "stream",
     "text": [
      "получаем рекомендации для всех пользователей по косинусной мере\n",
      "получили рекомендации для всех пользователей за 21.3301320076 секнуд\n"
     ]
    }
   ],
   "source": [
    "print(\"получаем рекомендации для всех пользователей по косинусной мере\")\n",
    "start = time.time()\n",
    "user_plays = plays.T.tocsr()\n",
    "with open(path.join(data_dir, \"recs\", test_file_name + \".recs.tsv\"), \"w\") as output_file:\n",
    "    for user_id in test_data[\"user_id\"].unique():\n",
    "        for artist_id, score in model.recommend(user_id, user_plays):\n",
    "                output_file.write(\"%s\\t%s\\t%s\\n\" % (user_id, artist_id, score))\n",
    "print(\"получили рекомендации для всех пользователей за {} секнуд\".format(\n",
    "        time.time() - start))\n",
    "\n"
   ]
  },
  {
   "cell_type": "code",
   "execution_count": 123,
   "metadata": {},
   "outputs": [
    {
     "name": "stdout",
     "output_type": "stream",
     "text": [
      "строим матрицу схожести с помощью als\n"
     ]
    }
   ],
   "source": [
    "from implicit import als \n",
    "model1 = als.AlternatingLeastSquares(factors = 150, iterations = 100)\n",
    "print(\"строим матрицу схожести с помощью als\")\n",
    "model1.fit(plays1)"
   ]
  },
  {
   "cell_type": "code",
   "execution_count": 124,
   "metadata": {},
   "outputs": [
    {
     "name": "stdout",
     "output_type": "stream",
     "text": [
      "получаем рекомендации для всех пользователей с помощью als\n",
      "получили рекомендации для всех пользователей за 121.056670904 секнуд\n"
     ]
    }
   ],
   "source": [
    "print(\"получаем рекомендации для всех пользователей с помощью als\")\n",
    "start = time.time()\n",
    "user_plays1 = plays1.T.tocsr()\n",
    "with open(path.join(data_dir, \"recs1\", test_file_name + \".recs.tsv\"), \"w\") as output_file:\n",
    "    for user_id in test_data[\"user_id\"].unique():\n",
    "        for artist_id, score in model1.recommend(user_id, user_plays1):\n",
    "                output_file.write(\"%s\\t%s\\t%s\\n\" % (user_id, artist_id, score))\n",
    "print(\"получили рекомендации для всех пользователей за {} секнуд\".format(\n",
    "        time.time() - start))\n"
   ]
  },
  {
   "cell_type": "code",
   "execution_count": 119,
   "metadata": {
    "slideshow": {
     "slide_type": "slide"
    }
   },
   "outputs": [
    {
     "name": "stdout",
     "output_type": "stream",
     "text": [
      "[2017-12-05 18:06:48,664] INFO: processing /Users/kurzyakov/Desktop/Dr/2/ml-latest-small/lastfm.test.0...\n",
      "None\n",
      "mrr            0.0630 +/- 0.0000\n",
      "prec@5         0.0226 +/- 0.0000\n",
      "prec@10        0.0225 +/- 0.0000\n",
      "prec@15        0.0150 +/- 0.0000\n",
      "prec@20        0.0112 +/- 0.0000\n"
     ]
    }
   ],
   "source": [
    "# используем mrec в качестве метрики качества для kNN\n",
    "!mrec_evaluate \\\n",
    "    --input_format=tsv --test_input_format=tsv \\\n",
    "    --train $DATA_DIR/lastfm.test.0 \\\n",
    "    --recsdir $DATA_DIR/recs"
   ]
  },
  {
   "cell_type": "code",
   "execution_count": 125,
   "metadata": {},
   "outputs": [
    {
     "name": "stdout",
     "output_type": "stream",
     "text": [
      "[2017-12-05 18:21:10,447] INFO: processing /Users/kurzyakov/Desktop/Dr/2/ml-latest-small/lastfm.test.0...\n",
      "None\n",
      "mrr            0.5025 +/- 0.0000\n",
      "prec@5         0.2618 +/- 0.0000\n",
      "prec@10        0.2179 +/- 0.0000\n",
      "prec@15        0.1453 +/- 0.0000\n",
      "prec@20        0.1090 +/- 0.0000\n"
     ]
    }
   ],
   "source": [
    "# используем mrec в качестве метрики качества для als\n",
    "!mrec_evaluate \\\n",
    "    --input_format=tsv --test_input_format=tsv \\\n",
    "    --train $DATA_DIR/lastfm.test.0 \\\n",
    "    --recsdir $DATA_DIR/recs1"
   ]
  },
  {
   "cell_type": "code",
   "execution_count": null,
   "metadata": {
    "collapsed": true
   },
   "outputs": [],
   "source": []
  }
 ],
 "metadata": {
  "celltoolbar": "Slideshow",
  "kernelspec": {
   "display_name": "Python 2",
   "language": "python",
   "name": "python2"
  },
  "language_info": {
   "codemirror_mode": {
    "name": "ipython",
    "version": 2
   },
   "file_extension": ".py",
   "mimetype": "text/x-python",
   "name": "python",
   "nbconvert_exporter": "python",
   "pygments_lexer": "ipython2",
   "version": "2.7.14"
  }
 },
 "nbformat": 4,
 "nbformat_minor": 1
}
