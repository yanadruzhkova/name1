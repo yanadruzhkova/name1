{
 "cells": [
  {
   "cell_type": "markdown",
   "metadata": {},
   "source": [
    "# Домашнее задание к занятию 2.1: Деревья решений. Классификация"
   ]
  },
  {
   "cell_type": "markdown",
   "metadata": {},
   "source": [
    "## Обзор прошедшего занятия"
   ]
  },
  {
   "cell_type": "markdown",
   "metadata": {},
   "source": [
    "Что мы делали в классе:\n",
    "\n",
    "**Задание 1**\n",
    "* строили деревья\n",
    "* критерии информативности которых написали даже сами\n",
    "* визуализировали границы принятия решений в 2d\n",
    "* и рисовали сами деревья\n",
    "\n",
    "\n",
    "**Задание 2**\n",
    "* приняли участие в соревновании на Kaggle, переварив кучу текстовых фичей в численные, проведя кросс-валидацию и сделав сабмит\n",
    "\n",
    "\n",
    "**Задание 3**\n",
    "* построили руками несколько метрик качества бинарной классификации\n",
    "\n",
    "\n",
    "**Задание 4**\n",
    "* использовали их для оценки классификации разделения статей Ведомостей по топикам"
   ]
  },
  {
   "cell_type": "markdown",
   "metadata": {},
   "source": [
    "*дополнительно было много приятных ништяков. Например, облако слов, мультипоточность в целях парсинга, удобный инструмент для нахождения правильной css разметки, сохранение моделей в статичные файлы, разделение строк на слова и лемматизация этих слов*"
   ]
  },
  {
   "cell_type": "markdown",
   "metadata": {},
   "source": [
    "## Домашнее задание"
   ]
  },
  {
   "cell_type": "markdown",
   "metadata": {},
   "source": [
    "**Lvl 1:**\n",
    "\n",
    "* взять подготовленные раннее данные из задачи **Titanic**, обучиться на них с помощью дерева решений и кросс-валидации и сделать сабмит\n",
    "* кросс-валидацию желательно сделать сразу по нескольким фичам ( параметр *grid* в *GridSearchCV* )\n",
    "* определить самые важные фичи\n",
    "* вывести дерево решений (можете попробовать установить pydot и webgraphviz для отрисовки деревьев внутри ноутбука)\n",
    "\n",
    "**Результат:** скрины нового сабмита на Kaggle и построенного дерева"
   ]
  },
  {
   "cell_type": "markdown",
   "metadata": {},
   "source": [
    "**Lvl 2:** (опционально)\n",
    "\n",
    "* С помощью функций sklearn.metrics.auc, precision, recall составить функцию для расчёта ROC-AUC, ROC-PRC\n",
    "* Придумать себе интересную задачу на основе данных из интернета =) Спарсить ещё какой-нибудь сайт (не Ведомости) и решить задачу классификации. Делать свои проекты - круто. Если будут - кидайте мне =) [@NikitaKuznetsov](http://t.me/NikitaKuznesov)"
   ]
  },
  {
   "cell_type": "code",
   "execution_count": 1,
   "metadata": {
    "collapsed": true
   },
   "outputs": [],
   "source": [
    "import pandas as pd\n",
    "from sklearn.tree import DecisionTreeClassifier\n",
    "from matplotlib import pyplot as plt\n",
    "%matplotlib inline\n",
    "import seaborn as sns"
   ]
  },
  {
   "cell_type": "code",
   "execution_count": 5,
   "metadata": {},
   "outputs": [
    {
     "data": {
      "text/html": [
       "<div>\n",
       "<style>\n",
       "    .dataframe thead tr:only-child th {\n",
       "        text-align: right;\n",
       "    }\n",
       "\n",
       "    .dataframe thead th {\n",
       "        text-align: left;\n",
       "    }\n",
       "\n",
       "    .dataframe tbody tr th {\n",
       "        vertical-align: top;\n",
       "    }\n",
       "</style>\n",
       "<table border=\"1\" class=\"dataframe\">\n",
       "  <thead>\n",
       "    <tr style=\"text-align: right;\">\n",
       "      <th></th>\n",
       "      <th>PassengerId</th>\n",
       "      <th>Survived</th>\n",
       "      <th>Pclass</th>\n",
       "      <th>Name</th>\n",
       "      <th>Sex</th>\n",
       "      <th>Age</th>\n",
       "      <th>SibSp</th>\n",
       "      <th>Parch</th>\n",
       "      <th>Ticket</th>\n",
       "      <th>Fare</th>\n",
       "      <th>Cabin</th>\n",
       "      <th>Embarked</th>\n",
       "    </tr>\n",
       "  </thead>\n",
       "  <tbody>\n",
       "    <tr>\n",
       "      <th>0</th>\n",
       "      <td>1</td>\n",
       "      <td>0</td>\n",
       "      <td>3</td>\n",
       "      <td>Braund, Mr. Owen Harris</td>\n",
       "      <td>male</td>\n",
       "      <td>22.0</td>\n",
       "      <td>1</td>\n",
       "      <td>0</td>\n",
       "      <td>A/5 21171</td>\n",
       "      <td>7.2500</td>\n",
       "      <td>NaN</td>\n",
       "      <td>S</td>\n",
       "    </tr>\n",
       "    <tr>\n",
       "      <th>1</th>\n",
       "      <td>2</td>\n",
       "      <td>1</td>\n",
       "      <td>1</td>\n",
       "      <td>Cumings, Mrs. John Bradley (Florence Briggs Th...</td>\n",
       "      <td>female</td>\n",
       "      <td>38.0</td>\n",
       "      <td>1</td>\n",
       "      <td>0</td>\n",
       "      <td>PC 17599</td>\n",
       "      <td>71.2833</td>\n",
       "      <td>C85</td>\n",
       "      <td>C</td>\n",
       "    </tr>\n",
       "    <tr>\n",
       "      <th>2</th>\n",
       "      <td>3</td>\n",
       "      <td>1</td>\n",
       "      <td>3</td>\n",
       "      <td>Heikkinen, Miss. Laina</td>\n",
       "      <td>female</td>\n",
       "      <td>26.0</td>\n",
       "      <td>0</td>\n",
       "      <td>0</td>\n",
       "      <td>STON/O2. 3101282</td>\n",
       "      <td>7.9250</td>\n",
       "      <td>NaN</td>\n",
       "      <td>S</td>\n",
       "    </tr>\n",
       "    <tr>\n",
       "      <th>3</th>\n",
       "      <td>4</td>\n",
       "      <td>1</td>\n",
       "      <td>1</td>\n",
       "      <td>Futrelle, Mrs. Jacques Heath (Lily May Peel)</td>\n",
       "      <td>female</td>\n",
       "      <td>35.0</td>\n",
       "      <td>1</td>\n",
       "      <td>0</td>\n",
       "      <td>113803</td>\n",
       "      <td>53.1000</td>\n",
       "      <td>C123</td>\n",
       "      <td>S</td>\n",
       "    </tr>\n",
       "    <tr>\n",
       "      <th>4</th>\n",
       "      <td>5</td>\n",
       "      <td>0</td>\n",
       "      <td>3</td>\n",
       "      <td>Allen, Mr. William Henry</td>\n",
       "      <td>male</td>\n",
       "      <td>35.0</td>\n",
       "      <td>0</td>\n",
       "      <td>0</td>\n",
       "      <td>373450</td>\n",
       "      <td>8.0500</td>\n",
       "      <td>NaN</td>\n",
       "      <td>S</td>\n",
       "    </tr>\n",
       "  </tbody>\n",
       "</table>\n",
       "</div>"
      ],
      "text/plain": [
       "   PassengerId  Survived  Pclass  \\\n",
       "0            1         0       3   \n",
       "1            2         1       1   \n",
       "2            3         1       3   \n",
       "3            4         1       1   \n",
       "4            5         0       3   \n",
       "\n",
       "                                                Name     Sex   Age  SibSp  \\\n",
       "0                            Braund, Mr. Owen Harris    male  22.0      1   \n",
       "1  Cumings, Mrs. John Bradley (Florence Briggs Th...  female  38.0      1   \n",
       "2                             Heikkinen, Miss. Laina  female  26.0      0   \n",
       "3       Futrelle, Mrs. Jacques Heath (Lily May Peel)  female  35.0      1   \n",
       "4                           Allen, Mr. William Henry    male  35.0      0   \n",
       "\n",
       "   Parch            Ticket     Fare Cabin Embarked  \n",
       "0      0         A/5 21171   7.2500   NaN        S  \n",
       "1      0          PC 17599  71.2833   C85        C  \n",
       "2      0  STON/O2. 3101282   7.9250   NaN        S  \n",
       "3      0            113803  53.1000  C123        S  \n",
       "4      0            373450   8.0500   NaN        S  "
      ]
     },
     "execution_count": 5,
     "metadata": {},
     "output_type": "execute_result"
    }
   ],
   "source": [
    "train = pd.read_csv('T_train.csv')\n",
    "train.head()"
   ]
  },
  {
   "cell_type": "code",
   "execution_count": 6,
   "metadata": {},
   "outputs": [
    {
     "data": {
      "text/html": [
       "<div>\n",
       "<style>\n",
       "    .dataframe thead tr:only-child th {\n",
       "        text-align: right;\n",
       "    }\n",
       "\n",
       "    .dataframe thead th {\n",
       "        text-align: left;\n",
       "    }\n",
       "\n",
       "    .dataframe tbody tr th {\n",
       "        vertical-align: top;\n",
       "    }\n",
       "</style>\n",
       "<table border=\"1\" class=\"dataframe\">\n",
       "  <thead>\n",
       "    <tr style=\"text-align: right;\">\n",
       "      <th></th>\n",
       "      <th>PassengerId</th>\n",
       "      <th>Pclass</th>\n",
       "      <th>Name</th>\n",
       "      <th>Sex</th>\n",
       "      <th>Age</th>\n",
       "      <th>SibSp</th>\n",
       "      <th>Parch</th>\n",
       "      <th>Ticket</th>\n",
       "      <th>Fare</th>\n",
       "      <th>Cabin</th>\n",
       "      <th>Embarked</th>\n",
       "    </tr>\n",
       "  </thead>\n",
       "  <tbody>\n",
       "    <tr>\n",
       "      <th>0</th>\n",
       "      <td>892</td>\n",
       "      <td>3</td>\n",
       "      <td>Kelly, Mr. James</td>\n",
       "      <td>male</td>\n",
       "      <td>34.5</td>\n",
       "      <td>0</td>\n",
       "      <td>0</td>\n",
       "      <td>330911</td>\n",
       "      <td>7.8292</td>\n",
       "      <td>NaN</td>\n",
       "      <td>Q</td>\n",
       "    </tr>\n",
       "    <tr>\n",
       "      <th>1</th>\n",
       "      <td>893</td>\n",
       "      <td>3</td>\n",
       "      <td>Wilkes, Mrs. James (Ellen Needs)</td>\n",
       "      <td>female</td>\n",
       "      <td>47.0</td>\n",
       "      <td>1</td>\n",
       "      <td>0</td>\n",
       "      <td>363272</td>\n",
       "      <td>7.0000</td>\n",
       "      <td>NaN</td>\n",
       "      <td>S</td>\n",
       "    </tr>\n",
       "    <tr>\n",
       "      <th>2</th>\n",
       "      <td>894</td>\n",
       "      <td>2</td>\n",
       "      <td>Myles, Mr. Thomas Francis</td>\n",
       "      <td>male</td>\n",
       "      <td>62.0</td>\n",
       "      <td>0</td>\n",
       "      <td>0</td>\n",
       "      <td>240276</td>\n",
       "      <td>9.6875</td>\n",
       "      <td>NaN</td>\n",
       "      <td>Q</td>\n",
       "    </tr>\n",
       "    <tr>\n",
       "      <th>3</th>\n",
       "      <td>895</td>\n",
       "      <td>3</td>\n",
       "      <td>Wirz, Mr. Albert</td>\n",
       "      <td>male</td>\n",
       "      <td>27.0</td>\n",
       "      <td>0</td>\n",
       "      <td>0</td>\n",
       "      <td>315154</td>\n",
       "      <td>8.6625</td>\n",
       "      <td>NaN</td>\n",
       "      <td>S</td>\n",
       "    </tr>\n",
       "    <tr>\n",
       "      <th>4</th>\n",
       "      <td>896</td>\n",
       "      <td>3</td>\n",
       "      <td>Hirvonen, Mrs. Alexander (Helga E Lindqvist)</td>\n",
       "      <td>female</td>\n",
       "      <td>22.0</td>\n",
       "      <td>1</td>\n",
       "      <td>1</td>\n",
       "      <td>3101298</td>\n",
       "      <td>12.2875</td>\n",
       "      <td>NaN</td>\n",
       "      <td>S</td>\n",
       "    </tr>\n",
       "  </tbody>\n",
       "</table>\n",
       "</div>"
      ],
      "text/plain": [
       "   PassengerId  Pclass                                          Name     Sex  \\\n",
       "0          892       3                              Kelly, Mr. James    male   \n",
       "1          893       3              Wilkes, Mrs. James (Ellen Needs)  female   \n",
       "2          894       2                     Myles, Mr. Thomas Francis    male   \n",
       "3          895       3                              Wirz, Mr. Albert    male   \n",
       "4          896       3  Hirvonen, Mrs. Alexander (Helga E Lindqvist)  female   \n",
       "\n",
       "    Age  SibSp  Parch   Ticket     Fare Cabin Embarked  \n",
       "0  34.5      0      0   330911   7.8292   NaN        Q  \n",
       "1  47.0      1      0   363272   7.0000   NaN        S  \n",
       "2  62.0      0      0   240276   9.6875   NaN        Q  \n",
       "3  27.0      0      0   315154   8.6625   NaN        S  \n",
       "4  22.0      1      1  3101298  12.2875   NaN        S  "
      ]
     },
     "execution_count": 6,
     "metadata": {},
     "output_type": "execute_result"
    }
   ],
   "source": [
    "test = pd.read_csv('T_test.csv')\n",
    "test.head()"
   ]
  },
  {
   "cell_type": "markdown",
   "metadata": {},
   "source": [
    "## Подготавливаем данные"
   ]
  },
  {
   "cell_type": "code",
   "execution_count": 7,
   "metadata": {
    "collapsed": true
   },
   "outputs": [],
   "source": [
    "y_train = train.Survived\n",
    "train.drop('Survived', axis=1, inplace=True)"
   ]
  },
  {
   "cell_type": "code",
   "execution_count": 12,
   "metadata": {
    "collapsed": true
   },
   "outputs": [],
   "source": [
    "train['is_test'] = 0\n",
    "test['is_test'] = 1"
   ]
  },
  {
   "cell_type": "code",
   "execution_count": 11,
   "metadata": {},
   "outputs": [],
   "source": [
    "df = pd.concat([train, test])"
   ]
  },
  {
   "cell_type": "code",
   "execution_count": 16,
   "metadata": {
    "collapsed": true
   },
   "outputs": [],
   "source": [
    "df['IsSex'] = df.Sex.replace({'male': 0, 'female':1})"
   ]
  },
  {
   "cell_type": "code",
   "execution_count": 31,
   "metadata": {},
   "outputs": [
    {
     "data": {
      "text/html": [
       "<div>\n",
       "<style>\n",
       "    .dataframe thead tr:only-child th {\n",
       "        text-align: right;\n",
       "    }\n",
       "\n",
       "    .dataframe thead th {\n",
       "        text-align: left;\n",
       "    }\n",
       "\n",
       "    .dataframe tbody tr th {\n",
       "        vertical-align: top;\n",
       "    }\n",
       "</style>\n",
       "<table border=\"1\" class=\"dataframe\">\n",
       "  <thead>\n",
       "    <tr style=\"text-align: right;\">\n",
       "      <th></th>\n",
       "      <th>Pclass</th>\n",
       "      <th>Age</th>\n",
       "      <th>SibSp</th>\n",
       "      <th>Parch</th>\n",
       "      <th>Fare</th>\n",
       "      <th>Embarked</th>\n",
       "      <th>is_test</th>\n",
       "      <th>IsSex</th>\n",
       "    </tr>\n",
       "  </thead>\n",
       "  <tbody>\n",
       "    <tr>\n",
       "      <th>0</th>\n",
       "      <td>3</td>\n",
       "      <td>22.0</td>\n",
       "      <td>1</td>\n",
       "      <td>0</td>\n",
       "      <td>7.2500</td>\n",
       "      <td>S</td>\n",
       "      <td>0</td>\n",
       "      <td>0</td>\n",
       "    </tr>\n",
       "    <tr>\n",
       "      <th>1</th>\n",
       "      <td>1</td>\n",
       "      <td>38.0</td>\n",
       "      <td>1</td>\n",
       "      <td>0</td>\n",
       "      <td>71.2833</td>\n",
       "      <td>C</td>\n",
       "      <td>0</td>\n",
       "      <td>1</td>\n",
       "    </tr>\n",
       "    <tr>\n",
       "      <th>2</th>\n",
       "      <td>3</td>\n",
       "      <td>26.0</td>\n",
       "      <td>0</td>\n",
       "      <td>0</td>\n",
       "      <td>7.9250</td>\n",
       "      <td>S</td>\n",
       "      <td>0</td>\n",
       "      <td>1</td>\n",
       "    </tr>\n",
       "    <tr>\n",
       "      <th>3</th>\n",
       "      <td>1</td>\n",
       "      <td>35.0</td>\n",
       "      <td>1</td>\n",
       "      <td>0</td>\n",
       "      <td>53.1000</td>\n",
       "      <td>S</td>\n",
       "      <td>0</td>\n",
       "      <td>1</td>\n",
       "    </tr>\n",
       "    <tr>\n",
       "      <th>4</th>\n",
       "      <td>3</td>\n",
       "      <td>35.0</td>\n",
       "      <td>0</td>\n",
       "      <td>0</td>\n",
       "      <td>8.0500</td>\n",
       "      <td>S</td>\n",
       "      <td>0</td>\n",
       "      <td>0</td>\n",
       "    </tr>\n",
       "  </tbody>\n",
       "</table>\n",
       "</div>"
      ],
      "text/plain": [
       "   Pclass   Age  SibSp  Parch     Fare Embarked  is_test  IsSex\n",
       "0       3  22.0      1      0   7.2500        S        0      0\n",
       "1       1  38.0      1      0  71.2833        C        0      1\n",
       "2       3  26.0      0      0   7.9250        S        0      1\n",
       "3       1  35.0      1      0  53.1000        S        0      1\n",
       "4       3  35.0      0      0   8.0500        S        0      0"
      ]
     },
     "execution_count": 31,
     "metadata": {},
     "output_type": "execute_result"
    }
   ],
   "source": [
    "df.drop(['Sex', 'PassengerId', 'Name', 'Ticket'],axis=1, inplace=True)\n",
    "df.drop(['Cabin'],axis=1, inplace=True)\n",
    "df.head()"
   ]
  },
  {
   "cell_type": "code",
   "execution_count": 43,
   "metadata": {},
   "outputs": [
    {
     "data": {
      "text/html": [
       "<div>\n",
       "<style>\n",
       "    .dataframe thead tr:only-child th {\n",
       "        text-align: right;\n",
       "    }\n",
       "\n",
       "    .dataframe thead th {\n",
       "        text-align: left;\n",
       "    }\n",
       "\n",
       "    .dataframe tbody tr th {\n",
       "        vertical-align: top;\n",
       "    }\n",
       "</style>\n",
       "<table border=\"1\" class=\"dataframe\">\n",
       "  <thead>\n",
       "    <tr style=\"text-align: right;\">\n",
       "      <th></th>\n",
       "      <th>Age</th>\n",
       "      <th>SibSp</th>\n",
       "      <th>Parch</th>\n",
       "      <th>Fare</th>\n",
       "      <th>is_test</th>\n",
       "      <th>IsSex</th>\n",
       "      <th>Embarked_C</th>\n",
       "      <th>Embarked_Q</th>\n",
       "      <th>Embarked_S</th>\n",
       "      <th>Pclass_1</th>\n",
       "      <th>Pclass_2</th>\n",
       "      <th>Pclass_3</th>\n",
       "    </tr>\n",
       "  </thead>\n",
       "  <tbody>\n",
       "    <tr>\n",
       "      <th>0</th>\n",
       "      <td>22.0</td>\n",
       "      <td>1</td>\n",
       "      <td>0</td>\n",
       "      <td>7.2500</td>\n",
       "      <td>0</td>\n",
       "      <td>0</td>\n",
       "      <td>0</td>\n",
       "      <td>0</td>\n",
       "      <td>1</td>\n",
       "      <td>0</td>\n",
       "      <td>0</td>\n",
       "      <td>1</td>\n",
       "    </tr>\n",
       "    <tr>\n",
       "      <th>1</th>\n",
       "      <td>38.0</td>\n",
       "      <td>1</td>\n",
       "      <td>0</td>\n",
       "      <td>71.2833</td>\n",
       "      <td>0</td>\n",
       "      <td>1</td>\n",
       "      <td>1</td>\n",
       "      <td>0</td>\n",
       "      <td>0</td>\n",
       "      <td>1</td>\n",
       "      <td>0</td>\n",
       "      <td>0</td>\n",
       "    </tr>\n",
       "    <tr>\n",
       "      <th>2</th>\n",
       "      <td>26.0</td>\n",
       "      <td>0</td>\n",
       "      <td>0</td>\n",
       "      <td>7.9250</td>\n",
       "      <td>0</td>\n",
       "      <td>1</td>\n",
       "      <td>0</td>\n",
       "      <td>0</td>\n",
       "      <td>1</td>\n",
       "      <td>0</td>\n",
       "      <td>0</td>\n",
       "      <td>1</td>\n",
       "    </tr>\n",
       "    <tr>\n",
       "      <th>3</th>\n",
       "      <td>35.0</td>\n",
       "      <td>1</td>\n",
       "      <td>0</td>\n",
       "      <td>53.1000</td>\n",
       "      <td>0</td>\n",
       "      <td>1</td>\n",
       "      <td>0</td>\n",
       "      <td>0</td>\n",
       "      <td>1</td>\n",
       "      <td>1</td>\n",
       "      <td>0</td>\n",
       "      <td>0</td>\n",
       "    </tr>\n",
       "    <tr>\n",
       "      <th>4</th>\n",
       "      <td>35.0</td>\n",
       "      <td>0</td>\n",
       "      <td>0</td>\n",
       "      <td>8.0500</td>\n",
       "      <td>0</td>\n",
       "      <td>0</td>\n",
       "      <td>0</td>\n",
       "      <td>0</td>\n",
       "      <td>1</td>\n",
       "      <td>0</td>\n",
       "      <td>0</td>\n",
       "      <td>1</td>\n",
       "    </tr>\n",
       "  </tbody>\n",
       "</table>\n",
       "</div>"
      ],
      "text/plain": [
       "    Age  SibSp  Parch     Fare  is_test  IsSex  Embarked_C  Embarked_Q  \\\n",
       "0  22.0      1      0   7.2500        0      0           0           0   \n",
       "1  38.0      1      0  71.2833        0      1           1           0   \n",
       "2  26.0      0      0   7.9250        0      1           0           0   \n",
       "3  35.0      1      0  53.1000        0      1           0           0   \n",
       "4  35.0      0      0   8.0500        0      0           0           0   \n",
       "\n",
       "   Embarked_S  Pclass_1  Pclass_2  Pclass_3  \n",
       "0           1         0         0         1  \n",
       "1           0         1         0         0  \n",
       "2           1         0         0         1  \n",
       "3           1         1         0         0  \n",
       "4           1         0         0         1  "
      ]
     },
     "execution_count": 43,
     "metadata": {},
     "output_type": "execute_result"
    }
   ],
   "source": [
    "df_dummies = pd.get_dummies(df, columns=['Embarked', 'Pclass'])\n",
    "df_dummies.head()"
   ]
  },
  {
   "cell_type": "code",
   "execution_count": 36,
   "metadata": {},
   "outputs": [
    {
     "data": {
      "text/plain": [
       "Age           263\n",
       "SibSp           0\n",
       "Parch           0\n",
       "Fare            1\n",
       "is_test         0\n",
       "IsSex           0\n",
       "Embarked_C      0\n",
       "Embarked_Q      0\n",
       "Embarked_S      0\n",
       "Pclass_1        0\n",
       "Pclass_2        0\n",
       "Pclass_3        0\n",
       "dtype: int64"
      ]
     },
     "execution_count": 36,
     "metadata": {},
     "output_type": "execute_result"
    }
   ],
   "source": [
    "df_dummies.isnull().sum()"
   ]
  },
  {
   "cell_type": "code",
   "execution_count": 51,
   "metadata": {
    "collapsed": true
   },
   "outputs": [],
   "source": [
    "X_train = df_dummies[df_dummies.is_test==0].drop('is_test', axis=1)\n",
    "X_test = df_dummies[df_dummies.is_test==1].drop('is_test', axis=1)\n",
    "columns = X_train.columns"
   ]
  },
  {
   "cell_type": "code",
   "execution_count": 52,
   "metadata": {
    "collapsed": true
   },
   "outputs": [],
   "source": [
    "from sklearn.preprocessing import Imputer"
   ]
  },
  {
   "cell_type": "code",
   "execution_count": 53,
   "metadata": {},
   "outputs": [],
   "source": [
    "imputer = Imputer(missing_values='NaN', strategy='mean', axis=0, verbose=0, copy=True)\n",
    "imputer.fit(X_train)\n",
    "X_train_imputed = imputer.transform(X_train)\n",
    "X_train_imputed = pd.DataFrame(X_train_imputed, columns=columns)"
   ]
  },
  {
   "cell_type": "code",
   "execution_count": 54,
   "metadata": {},
   "outputs": [
    {
     "data": {
      "text/html": [
       "<div>\n",
       "<style>\n",
       "    .dataframe thead tr:only-child th {\n",
       "        text-align: right;\n",
       "    }\n",
       "\n",
       "    .dataframe thead th {\n",
       "        text-align: left;\n",
       "    }\n",
       "\n",
       "    .dataframe tbody tr th {\n",
       "        vertical-align: top;\n",
       "    }\n",
       "</style>\n",
       "<table border=\"1\" class=\"dataframe\">\n",
       "  <thead>\n",
       "    <tr style=\"text-align: right;\">\n",
       "      <th></th>\n",
       "      <th>Age</th>\n",
       "      <th>SibSp</th>\n",
       "      <th>Parch</th>\n",
       "      <th>Fare</th>\n",
       "      <th>IsSex</th>\n",
       "      <th>Embarked_C</th>\n",
       "      <th>Embarked_Q</th>\n",
       "      <th>Embarked_S</th>\n",
       "      <th>Pclass_1</th>\n",
       "      <th>Pclass_2</th>\n",
       "      <th>Pclass_3</th>\n",
       "    </tr>\n",
       "  </thead>\n",
       "  <tbody>\n",
       "    <tr>\n",
       "      <th>0</th>\n",
       "      <td>22.000000</td>\n",
       "      <td>1.0</td>\n",
       "      <td>0.0</td>\n",
       "      <td>7.2500</td>\n",
       "      <td>0.0</td>\n",
       "      <td>0.0</td>\n",
       "      <td>0.0</td>\n",
       "      <td>1.0</td>\n",
       "      <td>0.0</td>\n",
       "      <td>0.0</td>\n",
       "      <td>1.0</td>\n",
       "    </tr>\n",
       "    <tr>\n",
       "      <th>1</th>\n",
       "      <td>38.000000</td>\n",
       "      <td>1.0</td>\n",
       "      <td>0.0</td>\n",
       "      <td>71.2833</td>\n",
       "      <td>1.0</td>\n",
       "      <td>1.0</td>\n",
       "      <td>0.0</td>\n",
       "      <td>0.0</td>\n",
       "      <td>1.0</td>\n",
       "      <td>0.0</td>\n",
       "      <td>0.0</td>\n",
       "    </tr>\n",
       "    <tr>\n",
       "      <th>2</th>\n",
       "      <td>26.000000</td>\n",
       "      <td>0.0</td>\n",
       "      <td>0.0</td>\n",
       "      <td>7.9250</td>\n",
       "      <td>1.0</td>\n",
       "      <td>0.0</td>\n",
       "      <td>0.0</td>\n",
       "      <td>1.0</td>\n",
       "      <td>0.0</td>\n",
       "      <td>0.0</td>\n",
       "      <td>1.0</td>\n",
       "    </tr>\n",
       "    <tr>\n",
       "      <th>3</th>\n",
       "      <td>35.000000</td>\n",
       "      <td>1.0</td>\n",
       "      <td>0.0</td>\n",
       "      <td>53.1000</td>\n",
       "      <td>1.0</td>\n",
       "      <td>0.0</td>\n",
       "      <td>0.0</td>\n",
       "      <td>1.0</td>\n",
       "      <td>1.0</td>\n",
       "      <td>0.0</td>\n",
       "      <td>0.0</td>\n",
       "    </tr>\n",
       "    <tr>\n",
       "      <th>4</th>\n",
       "      <td>35.000000</td>\n",
       "      <td>0.0</td>\n",
       "      <td>0.0</td>\n",
       "      <td>8.0500</td>\n",
       "      <td>0.0</td>\n",
       "      <td>0.0</td>\n",
       "      <td>0.0</td>\n",
       "      <td>1.0</td>\n",
       "      <td>0.0</td>\n",
       "      <td>0.0</td>\n",
       "      <td>1.0</td>\n",
       "    </tr>\n",
       "    <tr>\n",
       "      <th>5</th>\n",
       "      <td>29.699118</td>\n",
       "      <td>0.0</td>\n",
       "      <td>0.0</td>\n",
       "      <td>8.4583</td>\n",
       "      <td>0.0</td>\n",
       "      <td>0.0</td>\n",
       "      <td>1.0</td>\n",
       "      <td>0.0</td>\n",
       "      <td>0.0</td>\n",
       "      <td>0.0</td>\n",
       "      <td>1.0</td>\n",
       "    </tr>\n",
       "    <tr>\n",
       "      <th>6</th>\n",
       "      <td>54.000000</td>\n",
       "      <td>0.0</td>\n",
       "      <td>0.0</td>\n",
       "      <td>51.8625</td>\n",
       "      <td>0.0</td>\n",
       "      <td>0.0</td>\n",
       "      <td>0.0</td>\n",
       "      <td>1.0</td>\n",
       "      <td>1.0</td>\n",
       "      <td>0.0</td>\n",
       "      <td>0.0</td>\n",
       "    </tr>\n",
       "    <tr>\n",
       "      <th>7</th>\n",
       "      <td>2.000000</td>\n",
       "      <td>3.0</td>\n",
       "      <td>1.0</td>\n",
       "      <td>21.0750</td>\n",
       "      <td>0.0</td>\n",
       "      <td>0.0</td>\n",
       "      <td>0.0</td>\n",
       "      <td>1.0</td>\n",
       "      <td>0.0</td>\n",
       "      <td>0.0</td>\n",
       "      <td>1.0</td>\n",
       "    </tr>\n",
       "    <tr>\n",
       "      <th>8</th>\n",
       "      <td>27.000000</td>\n",
       "      <td>0.0</td>\n",
       "      <td>2.0</td>\n",
       "      <td>11.1333</td>\n",
       "      <td>1.0</td>\n",
       "      <td>0.0</td>\n",
       "      <td>0.0</td>\n",
       "      <td>1.0</td>\n",
       "      <td>0.0</td>\n",
       "      <td>0.0</td>\n",
       "      <td>1.0</td>\n",
       "    </tr>\n",
       "    <tr>\n",
       "      <th>9</th>\n",
       "      <td>14.000000</td>\n",
       "      <td>1.0</td>\n",
       "      <td>0.0</td>\n",
       "      <td>30.0708</td>\n",
       "      <td>1.0</td>\n",
       "      <td>1.0</td>\n",
       "      <td>0.0</td>\n",
       "      <td>0.0</td>\n",
       "      <td>0.0</td>\n",
       "      <td>1.0</td>\n",
       "      <td>0.0</td>\n",
       "    </tr>\n",
       "  </tbody>\n",
       "</table>\n",
       "</div>"
      ],
      "text/plain": [
       "         Age  SibSp  Parch     Fare  IsSex  Embarked_C  Embarked_Q  \\\n",
       "0  22.000000    1.0    0.0   7.2500    0.0         0.0         0.0   \n",
       "1  38.000000    1.0    0.0  71.2833    1.0         1.0         0.0   \n",
       "2  26.000000    0.0    0.0   7.9250    1.0         0.0         0.0   \n",
       "3  35.000000    1.0    0.0  53.1000    1.0         0.0         0.0   \n",
       "4  35.000000    0.0    0.0   8.0500    0.0         0.0         0.0   \n",
       "5  29.699118    0.0    0.0   8.4583    0.0         0.0         1.0   \n",
       "6  54.000000    0.0    0.0  51.8625    0.0         0.0         0.0   \n",
       "7   2.000000    3.0    1.0  21.0750    0.0         0.0         0.0   \n",
       "8  27.000000    0.0    2.0  11.1333    1.0         0.0         0.0   \n",
       "9  14.000000    1.0    0.0  30.0708    1.0         1.0         0.0   \n",
       "\n",
       "   Embarked_S  Pclass_1  Pclass_2  Pclass_3  \n",
       "0         1.0       0.0       0.0       1.0  \n",
       "1         0.0       1.0       0.0       0.0  \n",
       "2         1.0       0.0       0.0       1.0  \n",
       "3         1.0       1.0       0.0       0.0  \n",
       "4         1.0       0.0       0.0       1.0  \n",
       "5         0.0       0.0       0.0       1.0  \n",
       "6         1.0       1.0       0.0       0.0  \n",
       "7         1.0       0.0       0.0       1.0  \n",
       "8         1.0       0.0       0.0       1.0  \n",
       "9         0.0       0.0       1.0       0.0  "
      ]
     },
     "execution_count": 54,
     "metadata": {},
     "output_type": "execute_result"
    }
   ],
   "source": [
    "X_train_imputed.head(10)"
   ]
  },
  {
   "cell_type": "code",
   "execution_count": 55,
   "metadata": {
    "collapsed": true
   },
   "outputs": [],
   "source": [
    "from sklearn.preprocessing import StandardScaler"
   ]
  },
  {
   "cell_type": "code",
   "execution_count": 56,
   "metadata": {},
   "outputs": [
    {
     "data": {
      "text/html": [
       "<div>\n",
       "<style>\n",
       "    .dataframe thead tr:only-child th {\n",
       "        text-align: right;\n",
       "    }\n",
       "\n",
       "    .dataframe thead th {\n",
       "        text-align: left;\n",
       "    }\n",
       "\n",
       "    .dataframe tbody tr th {\n",
       "        vertical-align: top;\n",
       "    }\n",
       "</style>\n",
       "<table border=\"1\" class=\"dataframe\">\n",
       "  <thead>\n",
       "    <tr style=\"text-align: right;\">\n",
       "      <th></th>\n",
       "      <th>Age</th>\n",
       "      <th>SibSp</th>\n",
       "      <th>Parch</th>\n",
       "      <th>Fare</th>\n",
       "      <th>IsSex</th>\n",
       "      <th>Embarked_C</th>\n",
       "      <th>Embarked_Q</th>\n",
       "      <th>Embarked_S</th>\n",
       "      <th>Pclass_1</th>\n",
       "      <th>Pclass_2</th>\n",
       "      <th>Pclass_3</th>\n",
       "    </tr>\n",
       "  </thead>\n",
       "  <tbody>\n",
       "    <tr>\n",
       "      <th>0</th>\n",
       "      <td>-0.592481</td>\n",
       "      <td>0.432793</td>\n",
       "      <td>-0.473674</td>\n",
       "      <td>-0.502445</td>\n",
       "      <td>-0.737695</td>\n",
       "      <td>-0.482043</td>\n",
       "      <td>-0.307562</td>\n",
       "      <td>0.619306</td>\n",
       "      <td>-0.565685</td>\n",
       "      <td>-0.510152</td>\n",
       "      <td>0.902587</td>\n",
       "    </tr>\n",
       "    <tr>\n",
       "      <th>1</th>\n",
       "      <td>0.638789</td>\n",
       "      <td>0.432793</td>\n",
       "      <td>-0.473674</td>\n",
       "      <td>0.786845</td>\n",
       "      <td>1.355574</td>\n",
       "      <td>2.074505</td>\n",
       "      <td>-0.307562</td>\n",
       "      <td>-1.614710</td>\n",
       "      <td>1.767767</td>\n",
       "      <td>-0.510152</td>\n",
       "      <td>-1.107926</td>\n",
       "    </tr>\n",
       "    <tr>\n",
       "      <th>2</th>\n",
       "      <td>-0.284663</td>\n",
       "      <td>-0.474545</td>\n",
       "      <td>-0.473674</td>\n",
       "      <td>-0.488854</td>\n",
       "      <td>1.355574</td>\n",
       "      <td>-0.482043</td>\n",
       "      <td>-0.307562</td>\n",
       "      <td>0.619306</td>\n",
       "      <td>-0.565685</td>\n",
       "      <td>-0.510152</td>\n",
       "      <td>0.902587</td>\n",
       "    </tr>\n",
       "    <tr>\n",
       "      <th>3</th>\n",
       "      <td>0.407926</td>\n",
       "      <td>0.432793</td>\n",
       "      <td>-0.473674</td>\n",
       "      <td>0.420730</td>\n",
       "      <td>1.355574</td>\n",
       "      <td>-0.482043</td>\n",
       "      <td>-0.307562</td>\n",
       "      <td>0.619306</td>\n",
       "      <td>1.767767</td>\n",
       "      <td>-0.510152</td>\n",
       "      <td>-1.107926</td>\n",
       "    </tr>\n",
       "    <tr>\n",
       "      <th>4</th>\n",
       "      <td>0.407926</td>\n",
       "      <td>-0.474545</td>\n",
       "      <td>-0.473674</td>\n",
       "      <td>-0.486337</td>\n",
       "      <td>-0.737695</td>\n",
       "      <td>-0.482043</td>\n",
       "      <td>-0.307562</td>\n",
       "      <td>0.619306</td>\n",
       "      <td>-0.565685</td>\n",
       "      <td>-0.510152</td>\n",
       "      <td>0.902587</td>\n",
       "    </tr>\n",
       "    <tr>\n",
       "      <th>5</th>\n",
       "      <td>0.000000</td>\n",
       "      <td>-0.474545</td>\n",
       "      <td>-0.473674</td>\n",
       "      <td>-0.478116</td>\n",
       "      <td>-0.737695</td>\n",
       "      <td>-0.482043</td>\n",
       "      <td>3.251373</td>\n",
       "      <td>-1.614710</td>\n",
       "      <td>-0.565685</td>\n",
       "      <td>-0.510152</td>\n",
       "      <td>0.902587</td>\n",
       "    </tr>\n",
       "    <tr>\n",
       "      <th>6</th>\n",
       "      <td>1.870059</td>\n",
       "      <td>-0.474545</td>\n",
       "      <td>-0.473674</td>\n",
       "      <td>0.395814</td>\n",
       "      <td>-0.737695</td>\n",
       "      <td>-0.482043</td>\n",
       "      <td>-0.307562</td>\n",
       "      <td>0.619306</td>\n",
       "      <td>1.767767</td>\n",
       "      <td>-0.510152</td>\n",
       "      <td>-1.107926</td>\n",
       "    </tr>\n",
       "    <tr>\n",
       "      <th>7</th>\n",
       "      <td>-2.131568</td>\n",
       "      <td>2.247470</td>\n",
       "      <td>0.767630</td>\n",
       "      <td>-0.224083</td>\n",
       "      <td>-0.737695</td>\n",
       "      <td>-0.482043</td>\n",
       "      <td>-0.307562</td>\n",
       "      <td>0.619306</td>\n",
       "      <td>-0.565685</td>\n",
       "      <td>-0.510152</td>\n",
       "      <td>0.902587</td>\n",
       "    </tr>\n",
       "    <tr>\n",
       "      <th>8</th>\n",
       "      <td>-0.207709</td>\n",
       "      <td>-0.474545</td>\n",
       "      <td>2.008933</td>\n",
       "      <td>-0.424256</td>\n",
       "      <td>1.355574</td>\n",
       "      <td>-0.482043</td>\n",
       "      <td>-0.307562</td>\n",
       "      <td>0.619306</td>\n",
       "      <td>-0.565685</td>\n",
       "      <td>-0.510152</td>\n",
       "      <td>0.902587</td>\n",
       "    </tr>\n",
       "    <tr>\n",
       "      <th>9</th>\n",
       "      <td>-1.208115</td>\n",
       "      <td>0.432793</td>\n",
       "      <td>-0.473674</td>\n",
       "      <td>-0.042956</td>\n",
       "      <td>1.355574</td>\n",
       "      <td>2.074505</td>\n",
       "      <td>-0.307562</td>\n",
       "      <td>-1.614710</td>\n",
       "      <td>-0.565685</td>\n",
       "      <td>1.960202</td>\n",
       "      <td>-1.107926</td>\n",
       "    </tr>\n",
       "  </tbody>\n",
       "</table>\n",
       "</div>"
      ],
      "text/plain": [
       "        Age     SibSp     Parch      Fare     IsSex  Embarked_C  Embarked_Q  \\\n",
       "0 -0.592481  0.432793 -0.473674 -0.502445 -0.737695   -0.482043   -0.307562   \n",
       "1  0.638789  0.432793 -0.473674  0.786845  1.355574    2.074505   -0.307562   \n",
       "2 -0.284663 -0.474545 -0.473674 -0.488854  1.355574   -0.482043   -0.307562   \n",
       "3  0.407926  0.432793 -0.473674  0.420730  1.355574   -0.482043   -0.307562   \n",
       "4  0.407926 -0.474545 -0.473674 -0.486337 -0.737695   -0.482043   -0.307562   \n",
       "5  0.000000 -0.474545 -0.473674 -0.478116 -0.737695   -0.482043    3.251373   \n",
       "6  1.870059 -0.474545 -0.473674  0.395814 -0.737695   -0.482043   -0.307562   \n",
       "7 -2.131568  2.247470  0.767630 -0.224083 -0.737695   -0.482043   -0.307562   \n",
       "8 -0.207709 -0.474545  2.008933 -0.424256  1.355574   -0.482043   -0.307562   \n",
       "9 -1.208115  0.432793 -0.473674 -0.042956  1.355574    2.074505   -0.307562   \n",
       "\n",
       "   Embarked_S  Pclass_1  Pclass_2  Pclass_3  \n",
       "0    0.619306 -0.565685 -0.510152  0.902587  \n",
       "1   -1.614710  1.767767 -0.510152 -1.107926  \n",
       "2    0.619306 -0.565685 -0.510152  0.902587  \n",
       "3    0.619306  1.767767 -0.510152 -1.107926  \n",
       "4    0.619306 -0.565685 -0.510152  0.902587  \n",
       "5   -1.614710 -0.565685 -0.510152  0.902587  \n",
       "6    0.619306  1.767767 -0.510152 -1.107926  \n",
       "7    0.619306 -0.565685 -0.510152  0.902587  \n",
       "8    0.619306 -0.565685 -0.510152  0.902587  \n",
       "9   -1.614710 -0.565685  1.960202 -1.107926  "
      ]
     },
     "execution_count": 56,
     "metadata": {},
     "output_type": "execute_result"
    }
   ],
   "source": [
    "scaler = StandardScaler()\n",
    "scaler.fit(X_train_imputed)\n",
    "X_train_imputed_scaled = scaler.transform(X_train_imputed)\n",
    "X_train_imputed_scaled = pd.DataFrame(X_train_imputed_scaled, columns=columns)\n",
    "X_train_imputed_scaled.head(10)"
   ]
  },
  {
   "cell_type": "code",
   "execution_count": 57,
   "metadata": {
    "collapsed": true
   },
   "outputs": [],
   "source": [
    "X_test_imputed_scaled = scaler.transform(imputer.transform(X_test))"
   ]
  },
  {
   "cell_type": "code",
   "execution_count": 160,
   "metadata": {
    "collapsed": true
   },
   "outputs": [],
   "source": [
    "X_train, X_test, Y_train, Y_test = train_test_split(X_train_imputed_scaled, y_train, test_size = 0.3, random_state = 0 )"
   ]
  },
  {
   "cell_type": "markdown",
   "metadata": {},
   "source": [
    "## Начинаем обучение"
   ]
  },
  {
   "cell_type": "code",
   "execution_count": 77,
   "metadata": {},
   "outputs": [],
   "source": [
    "from sklearn.model_selection import cross_val_score"
   ]
  },
  {
   "cell_type": "code",
   "execution_count": 97,
   "metadata": {},
   "outputs": [
    {
     "data": {
      "text/plain": [
       "array([ 0.81005587,  0.82122905,  0.80898876,  0.76966292,  0.85310734])"
      ]
     },
     "execution_count": 97,
     "metadata": {},
     "output_type": "execute_result"
    }
   ],
   "source": [
    "depth = 5\n",
    "clf = DecisionTreeClassifier( max_depth = depth )\n",
    "cross_val_score( clf, X_train_imputed_scaled, y_train, cv = 5, scoring = 'accuracy' )"
   ]
  },
  {
   "cell_type": "code",
   "execution_count": 139,
   "metadata": {
    "scrolled": true
   },
   "outputs": [
    {
     "name": "stdout",
     "output_type": "stream",
     "text": [
      "1 0.786715024929\n",
      "2 0.7733072037\n",
      "3 0.809199914745\n",
      "4 0.805898459706\n",
      "5 0.81149774788\n",
      "6 0.816004825896\n",
      "7 0.806977973868\n",
      "8 0.812602157539\n",
      "9 0.817102958486\n",
      "10 0.806990386153\n",
      "11 0.794718785497\n",
      "12 0.784581104885\n",
      "13 0.776734767555\n",
      "14 0.783476411516\n"
     ]
    },
    {
     "data": {
      "text/plain": [
       "0.81710295848587156"
      ]
     },
     "execution_count": 139,
     "metadata": {},
     "output_type": "execute_result"
    }
   ],
   "source": [
    "# средние значения для каждого варианта max_depth\n",
    "means = []\n",
    "# стандартное отклонение для каждого варианта max_depth\n",
    "stds = []\n",
    "\n",
    "# считаем какое значение max_depth дает максимальную точность\n",
    "for depth in range( 1, 15):\n",
    "    scores = cross_val_score( DecisionTreeClassifier( max_depth = depth ), X_train_imputed_scaled, y_train, cv = 5, scoring = 'accuracy' )\n",
    "    \n",
    "    print( depth, scores.mean() )\n",
    "    \n",
    "    means.append( scores.mean() )\n",
    "    stds.append( scores.std() )\n",
    "max(means)    "
   ]
  },
  {
   "cell_type": "code",
   "execution_count": 117,
   "metadata": {
    "collapsed": true
   },
   "outputs": [],
   "source": [
    "from sklearn.model_selection import GridSearchCV\n",
    "from sklearn.linear_model import LogisticRegression"
   ]
  },
  {
   "cell_type": "code",
   "execution_count": 101,
   "metadata": {
    "collapsed": true
   },
   "outputs": [],
   "source": [
    "cs = 10**np.linspace(-3,1,7)\n",
    "grid = {'C': cs}#, 'max_features': features_num}\n",
    "gridsearch = GridSearchCV(LogisticRegression(), grid, scoring='accuracy', cv=5)"
   ]
  },
  {
   "cell_type": "code",
   "execution_count": 102,
   "metadata": {},
   "outputs": [
    {
     "data": {
      "text/plain": [
       "GridSearchCV(cv=5, error_score='raise',\n",
       "       estimator=LogisticRegression(C=1.0, class_weight=None, dual=False, fit_intercept=True,\n",
       "          intercept_scaling=1, max_iter=100, multi_class='ovr', n_jobs=1,\n",
       "          penalty='l2', random_state=None, solver='liblinear', tol=0.0001,\n",
       "          verbose=0, warm_start=False),\n",
       "       fit_params=None, iid=True, n_jobs=1,\n",
       "       param_grid={'C': array([  1.00000e-03,   4.64159e-03,   2.15443e-02,   1.00000e-01,\n",
       "         4.64159e-01,   2.15443e+00,   1.00000e+01])},\n",
       "       pre_dispatch='2*n_jobs', refit=True, return_train_score='warn',\n",
       "       scoring='accuracy', verbose=0)"
      ]
     },
     "execution_count": 102,
     "metadata": {},
     "output_type": "execute_result"
    }
   ],
   "source": [
    "gridsearch.fit(X_train, Y_train)"
   ]
  },
  {
   "cell_type": "code",
   "execution_count": 136,
   "metadata": {},
   "outputs": [
    {
     "name": "stderr",
     "output_type": "stream",
     "text": [
      "C:\\Users\\Yana\\Anaconda3\\lib\\site-packages\\sklearn\\model_selection\\_search.py:761: DeprecationWarning: The grid_scores_ attribute was deprecated in version 0.18 in favor of the more elaborate cv_results_ attribute. The grid_scores_ attribute will not be available from 0.20\n",
      "  DeprecationWarning)\n"
     ]
    },
    {
     "data": {
      "text/plain": [
       "{'C': 0.10000000000000001}"
      ]
     },
     "execution_count": 136,
     "metadata": {},
     "output_type": "execute_result"
    }
   ],
   "source": [
    "sorted(gridsearch.grid_scores_, key = lambda x: -x.mean_validation_score)\n",
    "gridsearch.best_params_"
   ]
  },
  {
   "cell_type": "code",
   "execution_count": 141,
   "metadata": {},
   "outputs": [],
   "source": [
    "best_C = gridsearch.best_params_[\"C\"]"
   ]
  },
  {
   "cell_type": "code",
   "execution_count": 106,
   "metadata": {
    "collapsed": true
   },
   "outputs": [],
   "source": [
    "from sklearn.tree import export_graphviz\n",
    "\n",
    "def get_tree_dot_view(clf, feature_names=None, class_names=None):\n",
    "    print(export_graphviz(clf, out_file=None, filled=True, feature_names=feature_names, class_names=class_names))"
   ]
  },
  {
   "cell_type": "code",
   "execution_count": 120,
   "metadata": {},
   "outputs": [
    {
     "data": {
      "text/plain": [
       "DecisionTreeClassifier(class_weight=None, criterion='gini', max_depth=6,\n",
       "            max_features=None, max_leaf_nodes=None,\n",
       "            min_impurity_decrease=0.0, min_impurity_split=None,\n",
       "            min_samples_leaf=1, min_samples_split=2,\n",
       "            min_weight_fraction_leaf=0.0, presort=False, random_state=None,\n",
       "            splitter='best')"
      ]
     },
     "execution_count": 120,
     "metadata": {},
     "output_type": "execute_result"
    }
   ],
   "source": [
    "clf1 = DecisionTreeClassifier(max_depth=6)\n",
    "clf1.fit(X_train, Y_train)"
   ]
  },
  {
   "cell_type": "code",
   "execution_count": 127,
   "metadata": {},
   "outputs": [
    {
     "name": "stdout",
     "output_type": "stream",
     "text": [
      "digraph Tree {\n",
      "node [shape=box, style=\"filled\", color=\"black\"] ;\n",
      "0 [label=\"IsSex <= 0.309\\ngini = 0.475\\nsamples = 623\\nvalue = [381, 242]\", fillcolor=\"#e581395d\"] ;\n",
      "1 [label=\"Age <= -1.208\\ngini = 0.315\\nsamples = 408\\nvalue = [328, 80]\", fillcolor=\"#e58139c1\"] ;\n",
      "0 -> 1 [labeldistance=2.5, labelangle=45, headlabel=\"True\"] ;\n",
      "2 [label=\"SibSp <= 1.794\\ngini = 0.495\\nsamples = 29\\nvalue = [13, 16]\", fillcolor=\"#399de530\"] ;\n",
      "1 -> 2 ;\n",
      "3 [label=\"Parch <= 0.147\\ngini = 0.111\\nsamples = 17\\nvalue = [1, 16]\", fillcolor=\"#399de5ef\"] ;\n",
      "2 -> 3 ;\n",
      "4 [label=\"Age <= -1.401\\ngini = 0.5\\nsamples = 2\\nvalue = [1, 1]\", fillcolor=\"#e5813900\"] ;\n",
      "3 -> 4 ;\n",
      "5 [label=\"gini = 0.0\\nsamples = 1\\nvalue = [1, 0]\", fillcolor=\"#e58139ff\"] ;\n",
      "4 -> 5 ;\n",
      "6 [label=\"gini = 0.0\\nsamples = 1\\nvalue = [0, 1]\", fillcolor=\"#399de5ff\"] ;\n",
      "4 -> 6 ;\n",
      "7 [label=\"gini = 0.0\\nsamples = 15\\nvalue = [0, 15]\", fillcolor=\"#399de5ff\"] ;\n",
      "3 -> 7 ;\n",
      "8 [label=\"gini = 0.0\\nsamples = 12\\nvalue = [12, 0]\", fillcolor=\"#e58139ff\"] ;\n",
      "2 -> 8 ;\n",
      "9 [label=\"Pclass_1 <= 0.601\\ngini = 0.281\\nsamples = 379\\nvalue = [315, 64]\", fillcolor=\"#e58139cb\"] ;\n",
      "1 -> 9 ;\n",
      "10 [label=\"Age <= 0.216\\ngini = 0.21\\nsamples = 294\\nvalue = [259, 35]\", fillcolor=\"#e58139dd\"] ;\n",
      "9 -> 10 ;\n",
      "11 [label=\"Age <= 0.081\\ngini = 0.247\\nsamples = 215\\nvalue = [184, 31]\", fillcolor=\"#e58139d4\"] ;\n",
      "10 -> 11 ;\n",
      "12 [label=\"Embarked_C <= 0.796\\ngini = 0.21\\nsamples = 201\\nvalue = [177, 24]\", fillcolor=\"#e58139dc\"] ;\n",
      "11 -> 12 ;\n",
      "13 [label=\"Age <= -0.323\\ngini = 0.175\\nsamples = 175\\nvalue = [158, 17]\", fillcolor=\"#e58139e4\"] ;\n",
      "12 -> 13 ;\n",
      "14 [label=\"Fare <= -0.485\\ngini = 0.116\\nsamples = 81\\nvalue = [76, 5]\", fillcolor=\"#e58139ee\"] ;\n",
      "13 -> 14 ;\n",
      "15 [label=\"Age <= -1.016\\ngini = 0.18\\nsamples = 40\\nvalue = [36, 4]\", fillcolor=\"#e58139e3\"] ;\n",
      "14 -> 15 ;\n",
      "16 [label=\"gini = 0.5\\nsamples = 2\\nvalue = [1, 1]\", fillcolor=\"#e5813900\"] ;\n",
      "15 -> 16 ;\n",
      "17 [label=\"SibSp <= -0.021\\ngini = 0.145\\nsamples = 38\\nvalue = [35, 3]\", fillcolor=\"#e58139e9\"] ;\n",
      "15 -> 17 ;\n",
      "18 [label=\"gini = 0.114\\nsamples = 33\\nvalue = [31, 2]\", fillcolor=\"#e58139ef\"] ;\n",
      "17 -> 18 ;\n",
      "19 [label=\"gini = 0.32\\nsamples = 5\\nvalue = [4, 1]\", fillcolor=\"#e58139bf\"] ;\n",
      "17 -> 19 ;\n",
      "20 [label=\"Age <= -0.785\\ngini = 0.048\\nsamples = 41\\nvalue = [40, 1]\", fillcolor=\"#e58139f9\"] ;\n",
      "14 -> 20 ;\n",
      "21 [label=\"Age <= -0.862\\ngini = 0.105\\nsamples = 18\\nvalue = [17, 1]\", fillcolor=\"#e58139f0\"] ;\n",
      "20 -> 21 ;\n",
      "22 [label=\"gini = 0.0\\nsamples = 12\\nvalue = [12, 0]\", fillcolor=\"#e58139ff\"] ;\n",
      "21 -> 22 ;\n",
      "23 [label=\"gini = 0.278\\nsamples = 6\\nvalue = [5, 1]\", fillcolor=\"#e58139cc\"] ;\n",
      "21 -> 23 ;\n",
      "24 [label=\"gini = 0.0\\nsamples = 23\\nvalue = [23, 0]\", fillcolor=\"#e58139ff\"] ;\n",
      "20 -> 24 ;\n",
      "25 [label=\"Age <= -0.169\\ngini = 0.223\\nsamples = 94\\nvalue = [82, 12]\", fillcolor=\"#e58139da\"] ;\n",
      "13 -> 25 ;\n",
      "26 [label=\"Fare <= -0.491\\ngini = 0.408\\nsamples = 14\\nvalue = [10, 4]\", fillcolor=\"#e5813999\"] ;\n",
      "25 -> 26 ;\n",
      "27 [label=\"gini = 0.0\\nsamples = 2\\nvalue = [0, 2]\", fillcolor=\"#399de5ff\"] ;\n",
      "26 -> 27 ;\n",
      "28 [label=\"Fare <= 0.182\\ngini = 0.278\\nsamples = 12\\nvalue = [10, 2]\", fillcolor=\"#e58139cc\"] ;\n",
      "26 -> 28 ;\n",
      "29 [label=\"gini = 0.165\\nsamples = 11\\nvalue = [10, 1]\", fillcolor=\"#e58139e6\"] ;\n",
      "28 -> 29 ;\n",
      "30 [label=\"gini = 0.0\\nsamples = 1\\nvalue = [0, 1]\", fillcolor=\"#399de5ff\"] ;\n",
      "28 -> 30 ;\n",
      "31 [label=\"Fare <= -0.486\\ngini = 0.18\\nsamples = 80\\nvalue = [72, 8]\", fillcolor=\"#e58139e3\"] ;\n",
      "25 -> 31 ;\n",
      "32 [label=\"Fare <= -0.492\\ngini = 0.115\\nsamples = 49\\nvalue = [46, 3]\", fillcolor=\"#e58139ee\"] ;\n",
      "31 -> 32 ;\n",
      "33 [label=\"gini = 0.227\\nsamples = 23\\nvalue = [20, 3]\", fillcolor=\"#e58139d9\"] ;\n",
      "32 -> 33 ;\n",
      "34 [label=\"gini = 0.0\\nsamples = 26\\nvalue = [26, 0]\", fillcolor=\"#e58139ff\"] ;\n",
      "32 -> 34 ;\n",
      "35 [label=\"Fare <= -0.447\\ngini = 0.271\\nsamples = 31\\nvalue = [26, 5]\", fillcolor=\"#e58139ce\"] ;\n",
      "31 -> 35 ;\n",
      "36 [label=\"gini = 0.5\\nsamples = 6\\nvalue = [3, 3]\", fillcolor=\"#e5813900\"] ;\n",
      "35 -> 36 ;\n",
      "37 [label=\"gini = 0.147\\nsamples = 25\\nvalue = [23, 2]\", fillcolor=\"#e58139e9\"] ;\n",
      "35 -> 37 ;\n",
      "38 [label=\"Fare <= -0.343\\ngini = 0.393\\nsamples = 26\\nvalue = [19, 7]\", fillcolor=\"#e58139a1\"] ;\n",
      "12 -> 38 ;\n",
      "39 [label=\"Pclass_2 <= 0.725\\ngini = 0.308\\nsamples = 21\\nvalue = [17, 4]\", fillcolor=\"#e58139c3\"] ;\n",
      "38 -> 39 ;\n",
      "40 [label=\"Age <= -0.027\\ngini = 0.266\\nsamples = 19\\nvalue = [16, 3]\", fillcolor=\"#e58139cf\"] ;\n",
      "39 -> 40 ;\n",
      "41 [label=\"Age <= -0.073\\ngini = 0.444\\nsamples = 6\\nvalue = [4, 2]\", fillcolor=\"#e581397f\"] ;\n",
      "40 -> 41 ;\n",
      "42 [label=\"gini = 0.32\\nsamples = 5\\nvalue = [4, 1]\", fillcolor=\"#e58139bf\"] ;\n",
      "41 -> 42 ;\n",
      "43 [label=\"gini = 0.0\\nsamples = 1\\nvalue = [0, 1]\", fillcolor=\"#399de5ff\"] ;\n",
      "41 -> 43 ;\n",
      "44 [label=\"Fare <= -0.503\\ngini = 0.142\\nsamples = 13\\nvalue = [12, 1]\", fillcolor=\"#e58139ea\"] ;\n",
      "40 -> 44 ;\n",
      "45 [label=\"gini = 0.0\\nsamples = 5\\nvalue = [5, 0]\", fillcolor=\"#e58139ff\"] ;\n",
      "44 -> 45 ;\n",
      "46 [label=\"gini = 0.219\\nsamples = 8\\nvalue = [7, 1]\", fillcolor=\"#e58139db\"] ;\n",
      "44 -> 46 ;\n",
      "47 [label=\"Age <= -0.258\\ngini = 0.5\\nsamples = 2\\nvalue = [1, 1]\", fillcolor=\"#e5813900\"] ;\n",
      "39 -> 47 ;\n",
      "48 [label=\"gini = 0.0\\nsamples = 1\\nvalue = [1, 0]\", fillcolor=\"#e58139ff\"] ;\n",
      "47 -> 48 ;\n",
      "49 [label=\"gini = 0.0\\nsamples = 1\\nvalue = [0, 1]\", fillcolor=\"#399de5ff\"] ;\n",
      "47 -> 49 ;\n",
      "50 [label=\"Pclass_3 <= -0.103\\ngini = 0.48\\nsamples = 5\\nvalue = [2, 3]\", fillcolor=\"#399de555\"] ;\n",
      "38 -> 50 ;\n",
      "51 [label=\"gini = 0.0\\nsamples = 2\\nvalue = [2, 0]\", fillcolor=\"#e58139ff\"] ;\n",
      "50 -> 51 ;\n",
      "52 [label=\"gini = 0.0\\nsamples = 3\\nvalue = [0, 3]\", fillcolor=\"#399de5ff\"] ;\n",
      "50 -> 52 ;\n",
      "53 [label=\"Fare <= -0.491\\ngini = 0.5\\nsamples = 14\\nvalue = [7, 7]\", fillcolor=\"#e5813900\"] ;\n",
      "11 -> 53 ;\n",
      "54 [label=\"gini = 0.0\\nsamples = 2\\nvalue = [2, 0]\", fillcolor=\"#e58139ff\"] ;\n",
      "53 -> 54 ;\n",
      "55 [label=\"SibSp <= -0.021\\ngini = 0.486\\nsamples = 12\\nvalue = [5, 7]\", fillcolor=\"#399de549\"] ;\n",
      "53 -> 55 ;\n",
      "56 [label=\"Fare <= -0.412\\ngini = 0.375\\nsamples = 8\\nvalue = [2, 6]\", fillcolor=\"#399de5aa\"] ;\n",
      "55 -> 56 ;\n",
      "57 [label=\"Pclass_2 <= 0.725\\ngini = 0.444\\nsamples = 6\\nvalue = [2, 4]\", fillcolor=\"#399de57f\"] ;\n",
      "56 -> 57 ;\n",
      "58 [label=\"Age <= 0.139\\ngini = 0.32\\nsamples = 5\\nvalue = [1, 4]\", fillcolor=\"#399de5bf\"] ;\n",
      "57 -> 58 ;\n",
      "59 [label=\"gini = 0.0\\nsamples = 1\\nvalue = [0, 1]\", fillcolor=\"#399de5ff\"] ;\n",
      "58 -> 59 ;\n",
      "60 [label=\"gini = 0.375\\nsamples = 4\\nvalue = [1, 3]\", fillcolor=\"#399de5aa\"] ;\n",
      "58 -> 60 ;\n",
      "61 [label=\"gini = 0.0\\nsamples = 1\\nvalue = [1, 0]\", fillcolor=\"#e58139ff\"] ;\n",
      "57 -> 61 ;\n",
      "62 [label=\"gini = 0.0\\nsamples = 2\\nvalue = [0, 2]\", fillcolor=\"#399de5ff\"] ;\n",
      "56 -> 62 ;\n",
      "63 [label=\"Fare <= -0.122\\ngini = 0.375\\nsamples = 4\\nvalue = [3, 1]\", fillcolor=\"#e58139aa\"] ;\n",
      "55 -> 63 ;\n",
      "64 [label=\"Pclass_2 <= 0.725\\ngini = 0.5\\nsamples = 2\\nvalue = [1, 1]\", fillcolor=\"#e5813900\"] ;\n",
      "63 -> 64 ;\n",
      "65 [label=\"gini = 0.0\\nsamples = 1\\nvalue = [1, 0]\", fillcolor=\"#e58139ff\"] ;\n",
      "64 -> 65 ;\n",
      "66 [label=\"gini = 0.0\\nsamples = 1\\nvalue = [0, 1]\", fillcolor=\"#399de5ff\"] ;\n",
      "64 -> 66 ;\n",
      "67 [label=\"gini = 0.0\\nsamples = 2\\nvalue = [2, 0]\", fillcolor=\"#e58139ff\"] ;\n",
      "63 -> 67 ;\n",
      "68 [label=\"Fare <= -0.382\\ngini = 0.096\\nsamples = 79\\nvalue = [75, 4]\", fillcolor=\"#e58139f1\"] ;\n",
      "10 -> 68 ;\n",
      "69 [label=\"Fare <= -0.489\\ngini = 0.137\\nsamples = 54\\nvalue = [50, 4]\", fillcolor=\"#e58139eb\"] ;\n",
      "68 -> 69 ;\n",
      "70 [label=\"gini = 0.0\\nsamples = 24\\nvalue = [24, 0]\", fillcolor=\"#e58139ff\"] ;\n",
      "69 -> 70 ;\n",
      "71 [label=\"Fare <= -0.488\\ngini = 0.231\\nsamples = 30\\nvalue = [26, 4]\", fillcolor=\"#e58139d8\"] ;\n",
      "69 -> 71 ;\n",
      "72 [label=\"Age <= 0.639\\ngini = 0.5\\nsamples = 4\\nvalue = [2, 2]\", fillcolor=\"#e5813900\"] ;\n",
      "71 -> 72 ;\n",
      "73 [label=\"gini = 0.0\\nsamples = 1\\nvalue = [1, 0]\", fillcolor=\"#e58139ff\"] ;\n",
      "72 -> 73 ;\n",
      "74 [label=\"Age <= 0.908\\ngini = 0.444\\nsamples = 3\\nvalue = [1, 2]\", fillcolor=\"#399de57f\"] ;\n",
      "72 -> 74 ;\n",
      "75 [label=\"gini = 0.5\\nsamples = 2\\nvalue = [1, 1]\", fillcolor=\"#e5813900\"] ;\n",
      "74 -> 75 ;\n",
      "76 [label=\"gini = 0.0\\nsamples = 1\\nvalue = [0, 1]\", fillcolor=\"#399de5ff\"] ;\n",
      "74 -> 76 ;\n",
      "77 [label=\"Fare <= -0.388\\ngini = 0.142\\nsamples = 26\\nvalue = [24, 2]\", fillcolor=\"#e58139ea\"] ;\n",
      "71 -> 77 ;\n",
      "78 [label=\"gini = 0.0\\nsamples = 16\\nvalue = [16, 0]\", fillcolor=\"#e58139ff\"] ;\n",
      "77 -> 78 ;\n",
      "79 [label=\"Age <= 1.177\\ngini = 0.32\\nsamples = 10\\nvalue = [8, 2]\", fillcolor=\"#e58139bf\"] ;\n",
      "77 -> 79 ;\n",
      "80 [label=\"Age <= 0.831\\ngini = 0.408\\nsamples = 7\\nvalue = [5, 2]\", fillcolor=\"#e5813999\"] ;\n",
      "79 -> 80 ;\n",
      "81 [label=\"gini = 0.32\\nsamples = 5\\nvalue = [4, 1]\", fillcolor=\"#e58139bf\"] ;\n",
      "80 -> 81 ;\n",
      "82 [label=\"gini = 0.5\\nsamples = 2\\nvalue = [1, 1]\", fillcolor=\"#e5813900\"] ;\n",
      "80 -> 82 ;\n",
      "83 [label=\"gini = 0.0\\nsamples = 3\\nvalue = [3, 0]\", fillcolor=\"#e58139ff\"] ;\n",
      "79 -> 83 ;\n",
      "84 [label=\"gini = 0.0\\nsamples = 25\\nvalue = [25, 0]\", fillcolor=\"#e58139ff\"] ;\n",
      "68 -> 84 ;\n",
      "85 [label=\"Age <= 1.793\\ngini = 0.45\\nsamples = 85\\nvalue = [56, 29]\", fillcolor=\"#e581397b\"] ;\n",
      "9 -> 85 ;\n",
      "86 [label=\"Age <= 1.37\\ngini = 0.478\\nsamples = 71\\nvalue = [43, 28]\", fillcolor=\"#e5813959\"] ;\n",
      "85 -> 86 ;\n",
      "87 [label=\"Fare <= 7.001\\ngini = 0.451\\nsamples = 61\\nvalue = [40, 21]\", fillcolor=\"#e5813979\"] ;\n",
      "86 -> 87 ;\n",
      "88 [label=\"Fare <= 0.006\\ngini = 0.437\\nsamples = 59\\nvalue = [40, 19]\", fillcolor=\"#e5813986\"] ;\n",
      "87 -> 88 ;\n",
      "89 [label=\"Fare <= -0.122\\ngini = 0.497\\nsamples = 24\\nvalue = [13, 11]\", fillcolor=\"#e5813927\"] ;\n",
      "88 -> 89 ;\n",
      "90 [label=\"gini = 0.0\\nsamples = 6\\nvalue = [6, 0]\", fillcolor=\"#e58139ff\"] ;\n",
      "89 -> 90 ;\n",
      "91 [label=\"Fare <= -0.102\\ngini = 0.475\\nsamples = 18\\nvalue = [7, 11]\", fillcolor=\"#399de55d\"] ;\n",
      "89 -> 91 ;\n",
      "92 [label=\"Fare <= -0.115\\ngini = 0.32\\nsamples = 10\\nvalue = [2, 8]\", fillcolor=\"#399de5bf\"] ;\n",
      "91 -> 92 ;\n",
      "93 [label=\"gini = 0.0\\nsamples = 4\\nvalue = [0, 4]\", fillcolor=\"#399de5ff\"] ;\n",
      "92 -> 93 ;\n",
      "94 [label=\"gini = 0.444\\nsamples = 6\\nvalue = [2, 4]\", fillcolor=\"#399de57f\"] ;\n",
      "92 -> 94 ;\n",
      "95 [label=\"Age <= -0.131\\ngini = 0.469\\nsamples = 8\\nvalue = [5, 3]\", fillcolor=\"#e5813966\"] ;\n",
      "91 -> 95 ;\n",
      "96 [label=\"gini = 0.0\\nsamples = 2\\nvalue = [0, 2]\", fillcolor=\"#399de5ff\"] ;\n",
      "95 -> 96 ;\n",
      "97 [label=\"gini = 0.278\\nsamples = 6\\nvalue = [5, 1]\", fillcolor=\"#e58139cc\"] ;\n",
      "95 -> 97 ;\n",
      "98 [label=\"SibSp <= -0.021\\ngini = 0.353\\nsamples = 35\\nvalue = [27, 8]\", fillcolor=\"#e58139b3\"] ;\n",
      "88 -> 98 ;\n",
      "99 [label=\"Age <= -0.823\\ngini = 0.165\\nsamples = 22\\nvalue = [20, 2]\", fillcolor=\"#e58139e6\"] ;\n",
      "98 -> 99 ;\n",
      "100 [label=\"gini = 0.0\\nsamples = 1\\nvalue = [0, 1]\", fillcolor=\"#399de5ff\"] ;\n",
      "99 -> 100 ;\n",
      "101 [label=\"Fare <= 0.097\\ngini = 0.091\\nsamples = 21\\nvalue = [20, 1]\", fillcolor=\"#e58139f2\"] ;\n",
      "99 -> 101 ;\n",
      "102 [label=\"gini = 0.375\\nsamples = 4\\nvalue = [3, 1]\", fillcolor=\"#e58139aa\"] ;\n",
      "101 -> 102 ;\n",
      "103 [label=\"gini = 0.0\\nsamples = 17\\nvalue = [17, 0]\", fillcolor=\"#e58139ff\"] ;\n",
      "101 -> 103 ;\n",
      "104 [label=\"Fare <= 0.541\\ngini = 0.497\\nsamples = 13\\nvalue = [7, 6]\", fillcolor=\"#e5813924\"] ;\n",
      "98 -> 104 ;\n",
      "105 [label=\"Fare <= 0.404\\ngini = 0.469\\nsamples = 8\\nvalue = [3, 5]\", fillcolor=\"#399de566\"] ;\n",
      "104 -> 105 ;\n",
      "106 [label=\"gini = 0.0\\nsamples = 1\\nvalue = [1, 0]\", fillcolor=\"#e58139ff\"] ;\n",
      "105 -> 106 ;\n",
      "107 [label=\"gini = 0.408\\nsamples = 7\\nvalue = [2, 5]\", fillcolor=\"#399de599\"] ;\n",
      "105 -> 107 ;\n",
      "108 [label=\"Fare <= 1.051\\ngini = 0.32\\nsamples = 5\\nvalue = [4, 1]\", fillcolor=\"#e58139bf\"] ;\n",
      "104 -> 108 ;\n",
      "109 [label=\"gini = 0.0\\nsamples = 3\\nvalue = [3, 0]\", fillcolor=\"#e58139ff\"] ;\n",
      "108 -> 109 ;\n",
      "110 [label=\"gini = 0.5\\nsamples = 2\\nvalue = [1, 1]\", fillcolor=\"#e5813900\"] ;\n",
      "108 -> 110 ;\n",
      "111 [label=\"gini = 0.0\\nsamples = 2\\nvalue = [0, 2]\", fillcolor=\"#399de5ff\"] ;\n",
      "87 -> 111 ;\n",
      "112 [label=\"Age <= 1.524\\ngini = 0.42\\nsamples = 10\\nvalue = [3, 7]\", fillcolor=\"#399de592\"] ;\n",
      "86 -> 112 ;\n",
      "113 [label=\"gini = 0.0\\nsamples = 4\\nvalue = [0, 4]\", fillcolor=\"#399de5ff\"] ;\n",
      "112 -> 113 ;\n",
      "114 [label=\"Embarked_C <= 0.796\\ngini = 0.5\\nsamples = 6\\nvalue = [3, 3]\", fillcolor=\"#e5813900\"] ;\n",
      "112 -> 114 ;\n",
      "115 [label=\"SibSp <= -0.021\\ngini = 0.375\\nsamples = 4\\nvalue = [1, 3]\", fillcolor=\"#399de5aa\"] ;\n",
      "114 -> 115 ;\n",
      "116 [label=\"gini = 0.0\\nsamples = 2\\nvalue = [0, 2]\", fillcolor=\"#399de5ff\"] ;\n",
      "115 -> 116 ;\n",
      "117 [label=\"Fare <= 1.26\\ngini = 0.5\\nsamples = 2\\nvalue = [1, 1]\", fillcolor=\"#e5813900\"] ;\n",
      "115 -> 117 ;\n",
      "118 [label=\"gini = 0.0\\nsamples = 1\\nvalue = [1, 0]\", fillcolor=\"#e58139ff\"] ;\n",
      "117 -> 118 ;\n",
      "119 [label=\"gini = 0.0\\nsamples = 1\\nvalue = [0, 1]\", fillcolor=\"#399de5ff\"] ;\n",
      "117 -> 119 ;\n",
      "120 [label=\"gini = 0.0\\nsamples = 2\\nvalue = [2, 0]\", fillcolor=\"#e58139ff\"] ;\n",
      "114 -> 120 ;\n",
      "121 [label=\"Age <= 3.525\\ngini = 0.133\\nsamples = 14\\nvalue = [13, 1]\", fillcolor=\"#e58139eb\"] ;\n",
      "85 -> 121 ;\n",
      "122 [label=\"gini = 0.0\\nsamples = 13\\nvalue = [13, 0]\", fillcolor=\"#e58139ff\"] ;\n",
      "121 -> 122 ;\n",
      "123 [label=\"gini = 0.0\\nsamples = 1\\nvalue = [0, 1]\", fillcolor=\"#399de5ff\"] ;\n",
      "121 -> 123 ;\n",
      "124 [label=\"Pclass_3 <= -0.103\\ngini = 0.371\\nsamples = 215\\nvalue = [53, 162]\", fillcolor=\"#399de5ac\"] ;\n",
      "0 -> 124 [labeldistance=2.5, labelangle=-45, headlabel=\"False\"] ;\n",
      "125 [label=\"Age <= -2.093\\ngini = 0.123\\nsamples = 122\\nvalue = [8, 114]\", fillcolor=\"#399de5ed\"] ;\n",
      "124 -> 125 ;\n",
      "126 [label=\"gini = 0.0\\nsamples = 1\\nvalue = [1, 0]\", fillcolor=\"#e58139ff\"] ;\n",
      "125 -> 126 ;\n",
      "127 [label=\"Fare <= -0.067\\ngini = 0.109\\nsamples = 121\\nvalue = [7, 114]\", fillcolor=\"#399de5ef\"] ;\n",
      "125 -> 127 ;\n",
      "128 [label=\"Fare <= -0.08\\ngini = 0.208\\nsamples = 51\\nvalue = [6, 45]\", fillcolor=\"#399de5dd\"] ;\n",
      "127 -> 128 ;\n",
      "129 [label=\"Age <= 0.562\\ngini = 0.18\\nsamples = 50\\nvalue = [5, 45]\", fillcolor=\"#399de5e3\"] ;\n",
      "128 -> 129 ;\n",
      "130 [label=\"Age <= -0.169\\ngini = 0.1\\nsamples = 38\\nvalue = [2, 36]\", fillcolor=\"#399de5f1\"] ;\n",
      "129 -> 130 ;\n",
      "131 [label=\"Age <= -0.477\\ngini = 0.198\\nsamples = 18\\nvalue = [2, 16]\", fillcolor=\"#399de5df\"] ;\n",
      "130 -> 131 ;\n",
      "132 [label=\"gini = 0.0\\nsamples = 11\\nvalue = [0, 11]\", fillcolor=\"#399de5ff\"] ;\n",
      "131 -> 132 ;\n",
      "133 [label=\"Parch <= 0.147\\ngini = 0.408\\nsamples = 7\\nvalue = [2, 5]\", fillcolor=\"#399de599\"] ;\n",
      "131 -> 133 ;\n",
      "134 [label=\"Fare <= -0.297\\ngini = 0.48\\nsamples = 5\\nvalue = [2, 3]\", fillcolor=\"#399de555\"] ;\n",
      "133 -> 134 ;\n",
      "135 [label=\"gini = 0.375\\nsamples = 4\\nvalue = [1, 3]\", fillcolor=\"#399de5aa\"] ;\n",
      "134 -> 135 ;\n",
      "136 [label=\"gini = 0.0\\nsamples = 1\\nvalue = [1, 0]\", fillcolor=\"#e58139ff\"] ;\n",
      "134 -> 136 ;\n",
      "137 [label=\"gini = 0.0\\nsamples = 2\\nvalue = [0, 2]\", fillcolor=\"#399de5ff\"] ;\n",
      "133 -> 137 ;\n",
      "138 [label=\"gini = 0.0\\nsamples = 20\\nvalue = [0, 20]\", fillcolor=\"#399de5ff\"] ;\n",
      "130 -> 138 ;\n",
      "139 [label=\"Age <= 0.716\\ngini = 0.375\\nsamples = 12\\nvalue = [3, 9]\", fillcolor=\"#399de5aa\"] ;\n",
      "129 -> 139 ;\n",
      "140 [label=\"gini = 0.0\\nsamples = 1\\nvalue = [1, 0]\", fillcolor=\"#e58139ff\"] ;\n",
      "139 -> 140 ;\n",
      "141 [label=\"Age <= 2.024\\ngini = 0.298\\nsamples = 11\\nvalue = [2, 9]\", fillcolor=\"#399de5c6\"] ;\n",
      "139 -> 141 ;\n",
      "142 [label=\"SibSp <= -0.021\\ngini = 0.198\\nsamples = 9\\nvalue = [1, 8]\", fillcolor=\"#399de5df\"] ;\n",
      "141 -> 142 ;\n",
      "143 [label=\"gini = 0.0\\nsamples = 7\\nvalue = [0, 7]\", fillcolor=\"#399de5ff\"] ;\n",
      "142 -> 143 ;\n",
      "144 [label=\"Fare <= -0.155\\ngini = 0.5\\nsamples = 2\\nvalue = [1, 1]\", fillcolor=\"#e5813900\"] ;\n",
      "142 -> 144 ;\n",
      "145 [label=\"gini = 0.0\\nsamples = 1\\nvalue = [0, 1]\", fillcolor=\"#399de5ff\"] ;\n",
      "144 -> 145 ;\n",
      "146 [label=\"gini = 0.0\\nsamples = 1\\nvalue = [1, 0]\", fillcolor=\"#e58139ff\"] ;\n",
      "144 -> 146 ;\n",
      "147 [label=\"Age <= 2.139\\ngini = 0.5\\nsamples = 2\\nvalue = [1, 1]\", fillcolor=\"#e5813900\"] ;\n",
      "141 -> 147 ;\n",
      "148 [label=\"gini = 0.0\\nsamples = 1\\nvalue = [1, 0]\", fillcolor=\"#e58139ff\"] ;\n",
      "147 -> 148 ;\n",
      "149 [label=\"gini = 0.0\\nsamples = 1\\nvalue = [0, 1]\", fillcolor=\"#399de5ff\"] ;\n",
      "147 -> 149 ;\n",
      "150 [label=\"gini = 0.0\\nsamples = 1\\nvalue = [1, 0]\", fillcolor=\"#e58139ff\"] ;\n",
      "128 -> 150 ;\n",
      "151 [label=\"Fare <= 2.352\\ngini = 0.028\\nsamples = 70\\nvalue = [1, 69]\", fillcolor=\"#399de5fb\"] ;\n",
      "127 -> 151 ;\n",
      "152 [label=\"gini = 0.0\\nsamples = 61\\nvalue = [0, 61]\", fillcolor=\"#399de5ff\"] ;\n",
      "151 -> 152 ;\n",
      "153 [label=\"Fare <= 2.422\\ngini = 0.198\\nsamples = 9\\nvalue = [1, 8]\", fillcolor=\"#399de5df\"] ;\n",
      "151 -> 153 ;\n",
      "154 [label=\"gini = 0.0\\nsamples = 1\\nvalue = [1, 0]\", fillcolor=\"#e58139ff\"] ;\n",
      "153 -> 154 ;\n",
      "155 [label=\"gini = 0.0\\nsamples = 8\\nvalue = [0, 8]\", fillcolor=\"#399de5ff\"] ;\n",
      "153 -> 155 ;\n",
      "156 [label=\"Fare <= -0.178\\ngini = 0.499\\nsamples = 93\\nvalue = [45, 48]\", fillcolor=\"#399de510\"] ;\n",
      "124 -> 156 ;\n",
      "157 [label=\"Embarked_S <= -0.498\\ngini = 0.469\\nsamples = 72\\nvalue = [27, 45]\", fillcolor=\"#399de566\"] ;\n",
      "156 -> 157 ;\n",
      "158 [label=\"Age <= 0.031\\ngini = 0.353\\nsamples = 35\\nvalue = [8, 27]\", fillcolor=\"#399de5b3\"] ;\n",
      "157 -> 158 ;\n",
      "159 [label=\"Fare <= -0.347\\ngini = 0.298\\nsamples = 33\\nvalue = [6, 27]\", fillcolor=\"#399de5c6\"] ;\n",
      "158 -> 159 ;\n",
      "160 [label=\"Fare <= -0.368\\ngini = 0.375\\nsamples = 24\\nvalue = [6, 18]\", fillcolor=\"#399de5aa\"] ;\n",
      "159 -> 160 ;\n",
      "161 [label=\"Parch <= 1.388\\ngini = 0.188\\nsamples = 19\\nvalue = [2, 17]\", fillcolor=\"#399de5e1\"] ;\n",
      "160 -> 161 ;\n",
      "162 [label=\"Fare <= -0.494\\ngini = 0.105\\nsamples = 18\\nvalue = [1, 17]\", fillcolor=\"#399de5f0\"] ;\n",
      "161 -> 162 ;\n",
      "163 [label=\"Embarked_Q <= 1.472\\ngini = 0.5\\nsamples = 2\\nvalue = [1, 1]\", fillcolor=\"#e5813900\"] ;\n",
      "162 -> 163 ;\n",
      "164 [label=\"gini = 0.0\\nsamples = 1\\nvalue = [0, 1]\", fillcolor=\"#399de5ff\"] ;\n",
      "163 -> 164 ;\n",
      "165 [label=\"gini = 0.0\\nsamples = 1\\nvalue = [1, 0]\", fillcolor=\"#e58139ff\"] ;\n",
      "163 -> 165 ;\n",
      "166 [label=\"gini = 0.0\\nsamples = 16\\nvalue = [0, 16]\", fillcolor=\"#399de5ff\"] ;\n",
      "162 -> 166 ;\n",
      "167 [label=\"gini = 0.0\\nsamples = 1\\nvalue = [1, 0]\", fillcolor=\"#e58139ff\"] ;\n",
      "161 -> 167 ;\n",
      "168 [label=\"Age <= -1.054\\ngini = 0.32\\nsamples = 5\\nvalue = [4, 1]\", fillcolor=\"#e58139bf\"] ;\n",
      "160 -> 168 ;\n",
      "169 [label=\"Age <= -1.15\\ngini = 0.5\\nsamples = 2\\nvalue = [1, 1]\", fillcolor=\"#e5813900\"] ;\n",
      "168 -> 169 ;\n",
      "170 [label=\"gini = 0.0\\nsamples = 1\\nvalue = [1, 0]\", fillcolor=\"#e58139ff\"] ;\n",
      "169 -> 170 ;\n",
      "171 [label=\"gini = 0.0\\nsamples = 1\\nvalue = [0, 1]\", fillcolor=\"#399de5ff\"] ;\n",
      "169 -> 171 ;\n",
      "172 [label=\"gini = 0.0\\nsamples = 3\\nvalue = [3, 0]\", fillcolor=\"#e58139ff\"] ;\n",
      "168 -> 172 ;\n",
      "173 [label=\"gini = 0.0\\nsamples = 9\\nvalue = [0, 9]\", fillcolor=\"#399de5ff\"] ;\n",
      "159 -> 173 ;\n",
      "174 [label=\"gini = 0.0\\nsamples = 2\\nvalue = [2, 0]\", fillcolor=\"#e58139ff\"] ;\n",
      "158 -> 174 ;\n",
      "175 [label=\"SibSp <= 0.886\\ngini = 0.5\\nsamples = 37\\nvalue = [19, 18]\", fillcolor=\"#e581390d\"] ;\n",
      "157 -> 175 ;\n",
      "176 [label=\"Age <= -0.4\\ngini = 0.498\\nsamples = 34\\nvalue = [16, 18]\", fillcolor=\"#399de51c\"] ;\n",
      "175 -> 176 ;\n",
      "177 [label=\"Fare <= -0.419\\ngini = 0.391\\nsamples = 15\\nvalue = [4, 11]\", fillcolor=\"#399de5a2\"] ;\n",
      "176 -> 177 ;\n",
      "178 [label=\"Fare <= -0.493\\ngini = 0.463\\nsamples = 11\\nvalue = [4, 7]\", fillcolor=\"#399de56d\"] ;\n",
      "177 -> 178 ;\n",
      "179 [label=\"gini = 0.0\\nsamples = 3\\nvalue = [0, 3]\", fillcolor=\"#399de5ff\"] ;\n",
      "178 -> 179 ;\n",
      "180 [label=\"Age <= -1.516\\ngini = 0.5\\nsamples = 8\\nvalue = [4, 4]\", fillcolor=\"#e5813900\"] ;\n",
      "178 -> 180 ;\n",
      "181 [label=\"gini = 0.0\\nsamples = 1\\nvalue = [1, 0]\", fillcolor=\"#e58139ff\"] ;\n",
      "180 -> 181 ;\n",
      "182 [label=\"Fare <= -0.467\\ngini = 0.49\\nsamples = 7\\nvalue = [3, 4]\", fillcolor=\"#399de540\"] ;\n",
      "180 -> 182 ;\n",
      "183 [label=\"gini = 0.48\\nsamples = 5\\nvalue = [3, 2]\", fillcolor=\"#e5813955\"] ;\n",
      "182 -> 183 ;\n",
      "184 [label=\"gini = 0.0\\nsamples = 2\\nvalue = [0, 2]\", fillcolor=\"#399de5ff\"] ;\n",
      "182 -> 184 ;\n",
      "185 [label=\"gini = 0.0\\nsamples = 4\\nvalue = [0, 4]\", fillcolor=\"#399de5ff\"] ;\n",
      "177 -> 185 ;\n",
      "186 [label=\"Fare <= -0.34\\ngini = 0.465\\nsamples = 19\\nvalue = [12, 7]\", fillcolor=\"#e581396a\"] ;\n",
      "176 -> 186 ;\n",
      "187 [label=\"Age <= -0.169\\ngini = 0.355\\nsamples = 13\\nvalue = [10, 3]\", fillcolor=\"#e58139b3\"] ;\n",
      "186 -> 187 ;\n",
      "188 [label=\"Age <= -0.323\\ngini = 0.5\\nsamples = 4\\nvalue = [2, 2]\", fillcolor=\"#e5813900\"] ;\n",
      "187 -> 188 ;\n",
      "189 [label=\"gini = 0.0\\nsamples = 2\\nvalue = [2, 0]\", fillcolor=\"#e58139ff\"] ;\n",
      "188 -> 189 ;\n",
      "190 [label=\"gini = 0.0\\nsamples = 2\\nvalue = [0, 2]\", fillcolor=\"#399de5ff\"] ;\n",
      "188 -> 190 ;\n",
      "191 [label=\"Fare <= -0.474\\ngini = 0.198\\nsamples = 9\\nvalue = [8, 1]\", fillcolor=\"#e58139df\"] ;\n",
      "187 -> 191 ;\n",
      "192 [label=\"gini = 0.0\\nsamples = 6\\nvalue = [6, 0]\", fillcolor=\"#e58139ff\"] ;\n",
      "191 -> 192 ;\n",
      "193 [label=\"Fare <= -0.416\\ngini = 0.444\\nsamples = 3\\nvalue = [2, 1]\", fillcolor=\"#e581397f\"] ;\n",
      "191 -> 193 ;\n",
      "194 [label=\"gini = 0.0\\nsamples = 1\\nvalue = [0, 1]\", fillcolor=\"#399de5ff\"] ;\n",
      "193 -> 194 ;\n",
      "195 [label=\"gini = 0.0\\nsamples = 2\\nvalue = [2, 0]\", fillcolor=\"#e58139ff\"] ;\n",
      "193 -> 195 ;\n",
      "196 [label=\"Parch <= 1.388\\ngini = 0.444\\nsamples = 6\\nvalue = [2, 4]\", fillcolor=\"#399de57f\"] ;\n",
      "186 -> 196 ;\n",
      "197 [label=\"Age <= -0.142\\ngini = 0.32\\nsamples = 5\\nvalue = [1, 4]\", fillcolor=\"#399de5bf\"] ;\n",
      "196 -> 197 ;\n",
      "198 [label=\"gini = 0.0\\nsamples = 1\\nvalue = [1, 0]\", fillcolor=\"#e58139ff\"] ;\n",
      "197 -> 198 ;\n",
      "199 [label=\"gini = 0.0\\nsamples = 4\\nvalue = [0, 4]\", fillcolor=\"#399de5ff\"] ;\n",
      "197 -> 199 ;\n",
      "200 [label=\"gini = 0.0\\nsamples = 1\\nvalue = [1, 0]\", fillcolor=\"#e58139ff\"] ;\n",
      "196 -> 200 ;\n",
      "201 [label=\"gini = 0.0\\nsamples = 3\\nvalue = [3, 0]\", fillcolor=\"#e58139ff\"] ;\n",
      "175 -> 201 ;\n",
      "202 [label=\"Parch <= 0.147\\ngini = 0.245\\nsamples = 21\\nvalue = [18, 3]\", fillcolor=\"#e58139d4\"] ;\n",
      "156 -> 202 ;\n",
      "203 [label=\"gini = 0.0\\nsamples = 1\\nvalue = [0, 1]\", fillcolor=\"#399de5ff\"] ;\n",
      "202 -> 203 ;\n",
      "204 [label=\"Age <= -1.862\\ngini = 0.18\\nsamples = 20\\nvalue = [18, 2]\", fillcolor=\"#e58139e3\"] ;\n",
      "202 -> 204 ;\n",
      "205 [label=\"Fare <= -0.018\\ngini = 0.5\\nsamples = 2\\nvalue = [1, 1]\", fillcolor=\"#e5813900\"] ;\n",
      "204 -> 205 ;\n",
      "206 [label=\"gini = 0.0\\nsamples = 1\\nvalue = [1, 0]\", fillcolor=\"#e58139ff\"] ;\n",
      "205 -> 206 ;\n",
      "207 [label=\"gini = 0.0\\nsamples = 1\\nvalue = [0, 1]\", fillcolor=\"#399de5ff\"] ;\n",
      "205 -> 207 ;\n",
      "208 [label=\"Parch <= 4.492\\ngini = 0.105\\nsamples = 18\\nvalue = [17, 1]\", fillcolor=\"#e58139f0\"] ;\n",
      "204 -> 208 ;\n",
      "209 [label=\"gini = 0.0\\nsamples = 14\\nvalue = [14, 0]\", fillcolor=\"#e58139ff\"] ;\n",
      "208 -> 209 ;\n",
      "210 [label=\"Age <= 0.677\\ngini = 0.375\\nsamples = 4\\nvalue = [3, 1]\", fillcolor=\"#e58139aa\"] ;\n",
      "208 -> 210 ;\n",
      "211 [label=\"gini = 0.0\\nsamples = 1\\nvalue = [0, 1]\", fillcolor=\"#399de5ff\"] ;\n",
      "210 -> 211 ;\n",
      "212 [label=\"gini = 0.0\\nsamples = 3\\nvalue = [3, 0]\", fillcolor=\"#e58139ff\"] ;\n",
      "210 -> 212 ;\n",
      "}\n"
     ]
    }
   ],
   "source": [
    "get_tree_dot_view(clf1, list(X_train_imputed_scaled.columns))"
   ]
  },
  {
   "cell_type": "code",
   "execution_count": 133,
   "metadata": {},
   "outputs": [
    {
     "data": {
      "text/plain": [
       "''"
      ]
     },
     "execution_count": 133,
     "metadata": {},
     "output_type": "execute_result"
    },
    {
     "data": {
      "image/png": "[encoded data removed]",
      "text/plain": [
       "<matplotlib.figure.Figure at 0x1b78113e588>"
      ]
     },
     "metadata": {},
     "output_type": "display_data"
    }
   ],
   "source": [
    "clf1 = DecisionTreeClassifier(max_depth=6)\n",
    "clf1.fit(X_train, Y_train)\n",
    "\n",
    "plt.barh(np.arange(len(clf1.feature_importances_)), clf1.feature_importances_)\n",
    "plt.yticks(np.arange(len(X.columns)),X_train.columns)\n",
    "''"
   ]
  },
  {
   "cell_type": "code",
   "execution_count": 134,
   "metadata": {},
   "outputs": [
    {
     "data": {
      "text/plain": [
       "''"
      ]
     },
     "execution_count": 134,
     "metadata": {},
     "output_type": "execute_result"
    },
    {
     "data": {
      "image/png": "[encoded data removed]",
      "text/plain": [
       "<matplotlib.figure.Figure at 0x1b78118bfd0>"
      ]
     },
     "metadata": {},
     "output_type": "display_data"
    }
   ],
   "source": [
    "clf1 = DecisionTreeClassifier(max_depth=9)\n",
    "clf1.fit(X_train, Y_train)\n",
    "\n",
    "plt.barh(np.arange(len(clf1.feature_importances_)), clf1.feature_importances_)\n",
    "plt.yticks(np.arange(len(X.columns)),X_train.columns)\n",
    "''"
   ]
  },
  {
   "cell_type": "code",
   "execution_count": 135,
   "metadata": {},
   "outputs": [
    {
     "data": {
      "text/plain": [
       "''"
      ]
     },
     "execution_count": 135,
     "metadata": {},
     "output_type": "execute_result"
    },
    {
     "data": {
      "image/png": "[encoded data removed]",
      "text/plain": [
       "<matplotlib.figure.Figure at 0x1b78118b978>"
      ]
     },
     "metadata": {},
     "output_type": "display_data"
    }
   ],
   "source": [
    "clf1 = DecisionTreeClassifier(max_depth=50)\n",
    "clf1.fit(X_train, Y_train)\n",
    "\n",
    "plt.barh(np.arange(len(clf1.feature_importances_)), clf1.feature_importances_)\n",
    "plt.yticks(np.arange(len(X.columns)),X_train.columns)\n",
    "''"
   ]
  },
  {
   "cell_type": "markdown",
   "metadata": {},
   "source": [
    "## Составляем функцию для расчёта ROC-AUC, ROC-PRC"
   ]
  },
  {
   "cell_type": "code",
   "execution_count": 173,
   "metadata": {
    "collapsed": true
   },
   "outputs": [],
   "source": [
    "predictions = clf1.predict_proba( X_test )"
   ]
  },
  {
   "cell_type": "code",
   "execution_count": 174,
   "metadata": {},
   "outputs": [
    {
     "data": {
      "text/plain": [
       "array([[ 1.,  0.],\n",
       "       [ 1.,  0.],\n",
       "       [ 1.,  0.],\n",
       "       [ 0.,  1.],\n",
       "       [ 0.,  1.]])"
      ]
     },
     "execution_count": 174,
     "metadata": {},
     "output_type": "execute_result"
    }
   ],
   "source": [
    "predictions[:5]"
   ]
  },
  {
   "cell_type": "code",
   "execution_count": 175,
   "metadata": {},
   "outputs": [],
   "source": [
    "a = zip( predictions[:, 1], Y_test )"
   ]
  },
  {
   "cell_type": "code",
   "execution_count": 176,
   "metadata": {},
   "outputs": [],
   "source": [
    "from sklearn.metrics import roc_curve, precision_recall_curve\n",
    "\n",
    "pr, re, thres = precision_recall_curve(Y_test, predictions[:, 1])"
   ]
  },
  {
   "cell_type": "code",
   "execution_count": 177,
   "metadata": {},
   "outputs": [
    {
     "data": {
      "text/plain": [
       "5"
      ]
     },
     "execution_count": 177,
     "metadata": {},
     "output_type": "execute_result"
    }
   ],
   "source": [
    "len( thres )"
   ]
  },
  {
   "cell_type": "code",
   "execution_count": 179,
   "metadata": {},
   "outputs": [
    {
     "name": "stdout",
     "output_type": "stream",
     "text": [
      "Populating the interactive namespace from numpy and matplotlib\n"
     ]
    },
    {
     "data": {
      "text/plain": [
       "[<matplotlib.lines.Line2D at 0x1b7822b2668>]"
      ]
     },
     "execution_count": 179,
     "metadata": {},
     "output_type": "execute_result"
    },
    {
     "data": {
      "image/png": "[encoded data removed]",
      "text/plain": [
       "<matplotlib.figure.Figure at 0x1b78226bf98>"
      ]
     },
     "metadata": {},
     "output_type": "display_data"
    }
   ],
   "source": [
    "import pylab as pl\n",
    "%pylab inline\n",
    "pl.plot( re, pr )"
   ]
  },
  {
   "cell_type": "code",
   "execution_count": 180,
   "metadata": {},
   "outputs": [
    {
     "data": {
      "text/plain": [
       "[<matplotlib.lines.Line2D at 0x1b7823111d0>]"
      ]
     },
     "execution_count": 180,
     "metadata": {},
     "output_type": "execute_result"
    },
    {
     "data": {
      "image/png": "[encoded data removed]",
      "text/plain": [
       "<matplotlib.figure.Figure at 0x1b7822c9048>"
      ]
     },
     "metadata": {},
     "output_type": "display_data"
    }
   ],
   "source": [
    "fpr, tpr, thres = roc_curve(Y_test, predictions[:, 1])\n",
    "pl.plot( fpr, tpr )"
   ]
  },
  {
   "cell_type": "markdown",
   "metadata": {},
   "source": [
    "### Используем логистическую регрессию"
   ]
  },
  {
   "cell_type": "code",
   "execution_count": 181,
   "metadata": {
    "collapsed": true
   },
   "outputs": [],
   "source": [
    "model = LogisticRegression()\n",
    "model.fit( X_train, Y_train )\n",
    "predictions = model.predict_proba( X_test )"
   ]
  },
  {
   "cell_type": "code",
   "execution_count": 182,
   "metadata": {},
   "outputs": [
    {
     "data": {
      "text/plain": [
       "<zip at 0x1b78125df88>"
      ]
     },
     "execution_count": 182,
     "metadata": {},
     "output_type": "execute_result"
    }
   ],
   "source": [
    "zip( predictions[:, 1], Y_test )"
   ]
  },
  {
   "cell_type": "code",
   "execution_count": 183,
   "metadata": {},
   "outputs": [
    {
     "data": {
      "text/plain": [
       "240"
      ]
     },
     "execution_count": 183,
     "metadata": {},
     "output_type": "execute_result"
    }
   ],
   "source": [
    "pr, re, thres = precision_recall_curve(Y_test, predictions[:, 1])\n",
    "len( thres )"
   ]
  },
  {
   "cell_type": "code",
   "execution_count": 184,
   "metadata": {},
   "outputs": [
    {
     "data": {
      "text/plain": [
       "[<matplotlib.lines.Line2D at 0x1b78236d5c0>]"
      ]
     },
     "execution_count": 184,
     "metadata": {},
     "output_type": "execute_result"
    },
    {
     "data": {
      "image/png": "[encoded data removed]",
      "text/plain": [
       "<matplotlib.figure.Figure at 0x1b780fffef0>"
      ]
     },
     "metadata": {},
     "output_type": "display_data"
    }
   ],
   "source": [
    "pl.plot( re, pr )"
   ]
  },
  {
   "cell_type": "code",
   "execution_count": 185,
   "metadata": {},
   "outputs": [
    {
     "data": {
      "text/plain": [
       "[<matplotlib.lines.Line2D at 0x1b78115b978>]"
      ]
     },
     "execution_count": 185,
     "metadata": {},
     "output_type": "execute_result"
    },
    {
     "data": {
      "image/png": "[encoded data removed]",
      "text/plain": [
       "<matplotlib.figure.Figure at 0x1b782348358>"
      ]
     },
     "metadata": {},
     "output_type": "display_data"
    }
   ],
   "source": [
    "fpr, tpr, thres = roc_curve(Y_test, predictions[:, 1])\n",
    "pl.plot( fpr, tpr )"
   ]
  },
  {
   "cell_type": "code",
   "execution_count": null,
   "metadata": {
    "collapsed": true
   },
   "outputs": [],
   "source": []
  },
  {
   "cell_type": "code",
   "execution_count": null,
   "metadata": {},
   "outputs": [],
   "source": []
  },
  {
   "cell_type": "code",
   "execution_count": null,
   "metadata": {
    "collapsed": true
   },
   "outputs": [],
   "source": []
  }
 ],
 "metadata": {
  "kernelspec": {
   "display_name": "Python 3",
   "language": "python",
   "name": "python3"
  },
  "language_info": {
   "codemirror_mode": {
    "name": "ipython",
    "version": 3
   },
   "file_extension": ".py",
   "mimetype": "text/x-python",
   "name": "python",
   "nbconvert_exporter": "python",
   "pygments_lexer": "ipython3",
   "version": "3.6.3"
  }
 },
 "nbformat": 4,
 "nbformat_minor": 2
}
