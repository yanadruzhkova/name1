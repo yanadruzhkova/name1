{
 "cells": [
  {
   "cell_type": "markdown",
   "metadata": {},
   "source": [
    "# Домашнее задание по обработке текстов\n",
    "\n",
    "## Предсказание цены акции по экономическим новостям\n",
    "\n",
    "Входные данные:\n",
    "* Новости о компании \"Газпром\", начиная с 2010 года\n",
    "* Стоимость акций компании \"Газпром\" на ММВБ, начиная с 2010 года\n",
    "    * цена открытия (Open)\n",
    "    * цена закрытия (ClosingPrice)\n",
    "    * максимальная цена за день (DailyHigh)\n",
    "    * минимальная цена за день (DailyLow) \n",
    "    * объем бумаг (VolumePcs)\n"
   ]
  },
  {
   "cell_type": "code",
   "execution_count": 1,
   "metadata": {
    "collapsed": true
   },
   "outputs": [],
   "source": [
    "import pandas as pd\n",
    "df = pd.read_csv('texts.csv', index_col='date', parse_dates=True) \n",
    "df = df.sort_index().reset_index() "
   ]
  },
  {
   "cell_type": "code",
   "execution_count": 2,
   "metadata": {
    "collapsed": true
   },
   "outputs": [],
   "source": [
    "pr_all = pd.read_csv('gazprom_prices.csv', sep=';', index_col='Date', parse_dates=True) \n",
    "pr_all = pr_all.sort_index().reset_index() "
   ]
  },
  {
   "cell_type": "markdown",
   "metadata": {},
   "source": [
    "### Часть 1. Вводная\n",
    "\n",
    "Проведите предобработку текстов: если считаете нужным, выполните токенизацию, приведение к нижнему регистру, лемматизацию и/или стемминг. Ответьте на следующие вопросы:\n",
    "* Есть ли корреляция между средней длинной текста за день и ценой закрытия?\n",
    "* Есть ли корреляция между количеством упоминаний Алексея Миллера  и ценой закрытия? Учтите разные варианты написания имени.\n",
    "* Упоминаний какого газопровода в статьях больше: \n",
    "    * \"северный поток\"\n",
    "    * \"турецкий поток\"?\n",
    "* О каких санкциях пишут в статьях?"
   ]
  },
  {
   "cell_type": "markdown",
   "metadata": {},
   "source": [
    "#### Токенизация, приведение к нижнему регистру, лемматизация"
   ]
  },
  {
   "cell_type": "code",
   "execution_count": 3,
   "metadata": {},
   "outputs": [
    {
     "name": "stderr",
     "output_type": "stream",
     "text": [
      "C:\\Users\\Yana\\Anaconda3\\lib\\site-packages\\ipykernel_launcher.py:10: SettingWithCopyWarning: \n",
      "A value is trying to be set on a copy of a slice from a DataFrame\n",
      "\n",
      "See the caveats in the documentation: http://pandas.pydata.org/pandas-docs/stable/indexing.html#indexing-view-versus-copy\n",
      "  # Remove the CWD from sys.path while we load stuff.\n",
      "C:\\Users\\Yana\\Anaconda3\\lib\\site-packages\\ipykernel_launcher.py:15: SettingWithCopyWarning: \n",
      "A value is trying to be set on a copy of a slice from a DataFrame\n",
      "\n",
      "See the caveats in the documentation: http://pandas.pydata.org/pandas-docs/stable/indexing.html#indexing-view-versus-copy\n",
      "  from ipykernel import kernelapp as app\n"
     ]
    }
   ],
   "source": [
    "import re\n",
    "from pymorphy2 import MorphAnalyzer\n",
    "\n",
    "prog = re.compile('[А-Яа-я\\-]+')\n",
    "m = MorphAnalyzer()\n",
    "\n",
    "for i in range(df.shape[0]):\n",
    "    tmp = df[\"text\"][i]\n",
    "    tmp = tmp.lower()\n",
    "    df['text'][i] = tmp.lower()\n",
    "    tokens = prog.findall(tmp)\n",
    "    t = ' '.join(tokens)\n",
    "    lemmas = [m.parse(word)[0].normal_form for word in t.split()]\n",
    "    t1 = ' '.join(lemmas)\n",
    "    df['text'][i] = t1"
   ]
  },
  {
   "cell_type": "code",
   "execution_count": 4,
   "metadata": {},
   "outputs": [
    {
     "data": {
      "text/html": [
       "<div>\n",
       "<style>\n",
       "    .dataframe thead tr:only-child th {\n",
       "        text-align: right;\n",
       "    }\n",
       "\n",
       "    .dataframe thead th {\n",
       "        text-align: left;\n",
       "    }\n",
       "\n",
       "    .dataframe tbody tr th {\n",
       "        vertical-align: top;\n",
       "    }\n",
       "</style>\n",
       "<table border=\"1\" class=\"dataframe\">\n",
       "  <thead>\n",
       "    <tr style=\"text-align: right;\">\n",
       "      <th></th>\n",
       "      <th>date</th>\n",
       "      <th>text</th>\n",
       "    </tr>\n",
       "  </thead>\n",
       "  <tbody>\n",
       "    <tr>\n",
       "      <th>0</th>\n",
       "      <td>2010-01-02</td>\n",
       "      <td>газпром не исключать в год выпуск облигация пр...</td>\n",
       "    </tr>\n",
       "    <tr>\n",
       "      <th>1</th>\n",
       "      <td>2010-01-19</td>\n",
       "      <td>газпром готовый забирать весь объесть азербайд...</td>\n",
       "    </tr>\n",
       "    <tr>\n",
       "      <th>2</th>\n",
       "      <td>2010-01-28</td>\n",
       "      <td>консорциум в глава с российский оао газпром не...</td>\n",
       "    </tr>\n",
       "    <tr>\n",
       "      <th>3</th>\n",
       "      <td>2010-02-07</td>\n",
       "      <td>газпромбанк открыть на кипр дочерний компания ...</td>\n",
       "    </tr>\n",
       "    <tr>\n",
       "      <th>4</th>\n",
       "      <td>2010-02-09</td>\n",
       "      <td>газпром вновь понизить прогноз экспорт в европ...</td>\n",
       "    </tr>\n",
       "  </tbody>\n",
       "</table>\n",
       "</div>"
      ],
      "text/plain": [
       "        date                                               text\n",
       "0 2010-01-02  газпром не исключать в год выпуск облигация пр...\n",
       "1 2010-01-19  газпром готовый забирать весь объесть азербайд...\n",
       "2 2010-01-28  консорциум в глава с российский оао газпром не...\n",
       "3 2010-02-07  газпромбанк открыть на кипр дочерний компания ...\n",
       "4 2010-02-09  газпром вновь понизить прогноз экспорт в европ..."
      ]
     },
     "execution_count": 4,
     "metadata": {},
     "output_type": "execute_result"
    }
   ],
   "source": [
    "df.head()"
   ]
  },
  {
   "cell_type": "markdown",
   "metadata": {},
   "source": [
    "####  Корреляция между средней длинной текста за день и ценой закрытия"
   ]
  },
  {
   "cell_type": "code",
   "execution_count": 5,
   "metadata": {
    "collapsed": true
   },
   "outputs": [],
   "source": [
    "df['len'] = 0\n",
    "df['frequency'] = 0"
   ]
  },
  {
   "cell_type": "code",
   "execution_count": 6,
   "metadata": {},
   "outputs": [
    {
     "name": "stderr",
     "output_type": "stream",
     "text": [
      "C:\\Users\\Yana\\Anaconda3\\lib\\site-packages\\ipykernel_launcher.py:5: SettingWithCopyWarning: \n",
      "A value is trying to be set on a copy of a slice from a DataFrame\n",
      "\n",
      "See the caveats in the documentation: http://pandas.pydata.org/pandas-docs/stable/indexing.html#indexing-view-versus-copy\n",
      "  \"\"\"\n"
     ]
    }
   ],
   "source": [
    "for i in range(df.shape[0]):\n",
    "    tmp = df[\"text\"][i]\n",
    "    tmp = len(str(tmp))\n",
    "    t1 = ''.join(str(tmp))\n",
    "    df['len'][i] = t1"
   ]
  },
  {
   "cell_type": "code",
   "execution_count": 7,
   "metadata": {},
   "outputs": [
    {
     "data": {
      "text/html": [
       "<div>\n",
       "<style>\n",
       "    .dataframe thead tr:only-child th {\n",
       "        text-align: right;\n",
       "    }\n",
       "\n",
       "    .dataframe thead th {\n",
       "        text-align: left;\n",
       "    }\n",
       "\n",
       "    .dataframe tbody tr th {\n",
       "        vertical-align: top;\n",
       "    }\n",
       "</style>\n",
       "<table border=\"1\" class=\"dataframe\">\n",
       "  <thead>\n",
       "    <tr style=\"text-align: right;\">\n",
       "      <th></th>\n",
       "      <th>date</th>\n",
       "      <th>text</th>\n",
       "      <th>len</th>\n",
       "      <th>frequency</th>\n",
       "    </tr>\n",
       "  </thead>\n",
       "  <tbody>\n",
       "    <tr>\n",
       "      <th>0</th>\n",
       "      <td>2010-01-02</td>\n",
       "      <td>газпром не исключать в год выпуск облигация пр...</td>\n",
       "      <td>241</td>\n",
       "      <td>0</td>\n",
       "    </tr>\n",
       "    <tr>\n",
       "      <th>1</th>\n",
       "      <td>2010-01-19</td>\n",
       "      <td>газпром готовый забирать весь объесть азербайд...</td>\n",
       "      <td>410</td>\n",
       "      <td>0</td>\n",
       "    </tr>\n",
       "    <tr>\n",
       "      <th>2</th>\n",
       "      <td>2010-01-28</td>\n",
       "      <td>консорциум в глава с российский оао газпром не...</td>\n",
       "      <td>555</td>\n",
       "      <td>0</td>\n",
       "    </tr>\n",
       "    <tr>\n",
       "      <th>3</th>\n",
       "      <td>2010-02-07</td>\n",
       "      <td>газпромбанк открыть на кипр дочерний компания ...</td>\n",
       "      <td>299</td>\n",
       "      <td>0</td>\n",
       "    </tr>\n",
       "    <tr>\n",
       "      <th>4</th>\n",
       "      <td>2010-02-09</td>\n",
       "      <td>газпром вновь понизить прогноз экспорт в европ...</td>\n",
       "      <td>783</td>\n",
       "      <td>0</td>\n",
       "    </tr>\n",
       "  </tbody>\n",
       "</table>\n",
       "</div>"
      ],
      "text/plain": [
       "        date                                               text  len  \\\n",
       "0 2010-01-02  газпром не исключать в год выпуск облигация пр...  241   \n",
       "1 2010-01-19  газпром готовый забирать весь объесть азербайд...  410   \n",
       "2 2010-01-28  консорциум в глава с российский оао газпром не...  555   \n",
       "3 2010-02-07  газпромбанк открыть на кипр дочерний компания ...  299   \n",
       "4 2010-02-09  газпром вновь понизить прогноз экспорт в европ...  783   \n",
       "\n",
       "   frequency  \n",
       "0          0  \n",
       "1          0  \n",
       "2          0  \n",
       "3          0  \n",
       "4          0  "
      ]
     },
     "execution_count": 7,
     "metadata": {},
     "output_type": "execute_result"
    }
   ],
   "source": [
    "df.head()"
   ]
  },
  {
   "cell_type": "code",
   "execution_count": 8,
   "metadata": {
    "scrolled": true
   },
   "outputs": [
    {
     "data": {
      "text/html": [
       "<div>\n",
       "<style>\n",
       "    .dataframe thead tr:only-child th {\n",
       "        text-align: right;\n",
       "    }\n",
       "\n",
       "    .dataframe thead th {\n",
       "        text-align: left;\n",
       "    }\n",
       "\n",
       "    .dataframe tbody tr th {\n",
       "        vertical-align: top;\n",
       "    }\n",
       "</style>\n",
       "<table border=\"1\" class=\"dataframe\">\n",
       "  <thead>\n",
       "    <tr style=\"text-align: right;\">\n",
       "      <th></th>\n",
       "      <th>date</th>\n",
       "      <th>len</th>\n",
       "    </tr>\n",
       "  </thead>\n",
       "  <tbody>\n",
       "    <tr>\n",
       "      <th>0</th>\n",
       "      <td>2010-01-02</td>\n",
       "      <td>241</td>\n",
       "    </tr>\n",
       "    <tr>\n",
       "      <th>1</th>\n",
       "      <td>2010-01-19</td>\n",
       "      <td>410</td>\n",
       "    </tr>\n",
       "    <tr>\n",
       "      <th>2</th>\n",
       "      <td>2010-01-28</td>\n",
       "      <td>555</td>\n",
       "    </tr>\n",
       "    <tr>\n",
       "      <th>3</th>\n",
       "      <td>2010-02-07</td>\n",
       "      <td>299</td>\n",
       "    </tr>\n",
       "    <tr>\n",
       "      <th>4</th>\n",
       "      <td>2010-02-09</td>\n",
       "      <td>783</td>\n",
       "    </tr>\n",
       "  </tbody>\n",
       "</table>\n",
       "</div>"
      ],
      "text/plain": [
       "        date  len\n",
       "0 2010-01-02  241\n",
       "1 2010-01-19  410\n",
       "2 2010-01-28  555\n",
       "3 2010-02-07  299\n",
       "4 2010-02-09  783"
      ]
     },
     "execution_count": 8,
     "metadata": {},
     "output_type": "execute_result"
    }
   ],
   "source": [
    "df1 = df.pivot_table(values='len', index='date', aggfunc='mean').reset_index() \n",
    "df1.head()"
   ]
  },
  {
   "cell_type": "code",
   "execution_count": 9,
   "metadata": {},
   "outputs": [
    {
     "data": {
      "text/html": [
       "<div>\n",
       "<style>\n",
       "    .dataframe thead tr:only-child th {\n",
       "        text-align: right;\n",
       "    }\n",
       "\n",
       "    .dataframe thead th {\n",
       "        text-align: left;\n",
       "    }\n",
       "\n",
       "    .dataframe tbody tr th {\n",
       "        vertical-align: top;\n",
       "    }\n",
       "</style>\n",
       "<table border=\"1\" class=\"dataframe\">\n",
       "  <thead>\n",
       "    <tr style=\"text-align: right;\">\n",
       "      <th></th>\n",
       "      <th>date</th>\n",
       "      <th>len</th>\n",
       "      <th>Date</th>\n",
       "      <th>Open</th>\n",
       "      <th>ClosingPrice</th>\n",
       "      <th>DailyHigh</th>\n",
       "      <th>DailyLow</th>\n",
       "      <th>VolumePcs</th>\n",
       "    </tr>\n",
       "  </thead>\n",
       "  <tbody>\n",
       "    <tr>\n",
       "      <th>0</th>\n",
       "      <td>2010-01-02</td>\n",
       "      <td>241.0</td>\n",
       "      <td>2010-01-02</td>\n",
       "      <td>184.74</td>\n",
       "      <td>189.85</td>\n",
       "      <td>190.40</td>\n",
       "      <td>183.50</td>\n",
       "      <td>76298175.0</td>\n",
       "    </tr>\n",
       "    <tr>\n",
       "      <th>1</th>\n",
       "      <td>2010-01-19</td>\n",
       "      <td>410.0</td>\n",
       "      <td>2010-01-19</td>\n",
       "      <td>190.10</td>\n",
       "      <td>189.76</td>\n",
       "      <td>190.47</td>\n",
       "      <td>187.36</td>\n",
       "      <td>48626727.0</td>\n",
       "    </tr>\n",
       "    <tr>\n",
       "      <th>2</th>\n",
       "      <td>2010-01-28</td>\n",
       "      <td>555.0</td>\n",
       "      <td>2010-01-28</td>\n",
       "      <td>183.75</td>\n",
       "      <td>182.30</td>\n",
       "      <td>185.98</td>\n",
       "      <td>181.67</td>\n",
       "      <td>62561241.0</td>\n",
       "    </tr>\n",
       "    <tr>\n",
       "      <th>3</th>\n",
       "      <td>2010-02-07</td>\n",
       "      <td>299.0</td>\n",
       "      <td>2010-02-07</td>\n",
       "      <td>144.80</td>\n",
       "      <td>148.25</td>\n",
       "      <td>148.27</td>\n",
       "      <td>144.05</td>\n",
       "      <td>41766629.0</td>\n",
       "    </tr>\n",
       "    <tr>\n",
       "      <th>4</th>\n",
       "      <td>2010-02-09</td>\n",
       "      <td>783.0</td>\n",
       "      <td>2010-02-09</td>\n",
       "      <td>161.79</td>\n",
       "      <td>162.80</td>\n",
       "      <td>163.57</td>\n",
       "      <td>161.53</td>\n",
       "      <td>42721026.0</td>\n",
       "    </tr>\n",
       "  </tbody>\n",
       "</table>\n",
       "</div>"
      ],
      "text/plain": [
       "        date    len       Date    Open  ClosingPrice  DailyHigh  DailyLow  \\\n",
       "0 2010-01-02  241.0 2010-01-02  184.74        189.85     190.40    183.50   \n",
       "1 2010-01-19  410.0 2010-01-19  190.10        189.76     190.47    187.36   \n",
       "2 2010-01-28  555.0 2010-01-28  183.75        182.30     185.98    181.67   \n",
       "3 2010-02-07  299.0 2010-02-07  144.80        148.25     148.27    144.05   \n",
       "4 2010-02-09  783.0 2010-02-09  161.79        162.80     163.57    161.53   \n",
       "\n",
       "    VolumePcs  \n",
       "0  76298175.0  \n",
       "1  48626727.0  \n",
       "2  62561241.0  \n",
       "3  41766629.0  \n",
       "4  42721026.0  "
      ]
     },
     "execution_count": 9,
     "metadata": {},
     "output_type": "execute_result"
    }
   ],
   "source": [
    "data = df1.merge(pr_all, how = 'outer', left_on = 'date', right_on = 'Date')\n",
    "data.head()"
   ]
  },
  {
   "cell_type": "code",
   "execution_count": 10,
   "metadata": {},
   "outputs": [
    {
     "data": {
      "text/plain": [
       "array([[ 189.85,  241.  ],\n",
       "       [ 189.76,  410.  ],\n",
       "       [ 182.3 ,  555.  ],\n",
       "       ..., \n",
       "       [ 132.15,     nan],\n",
       "       [ 157.25,     nan],\n",
       "       [ 125.93,     nan]])"
      ]
     },
     "execution_count": 10,
     "metadata": {},
     "output_type": "execute_result"
    }
   ],
   "source": [
    "X = data.as_matrix(columns=['ClosingPrice', 'len' ])\n",
    "X"
   ]
  },
  {
   "cell_type": "code",
   "execution_count": 11,
   "metadata": {},
   "outputs": [
    {
     "data": {
      "image/png": "[encoded data removed]",
      "text/plain": [
       "<matplotlib.figure.Figure at 0x2424fcea0b8>"
      ]
     },
     "metadata": {},
     "output_type": "display_data"
    }
   ],
   "source": [
    "from matplotlib import pyplot as plt\n",
    "%matplotlib inline\n",
    "import seaborn as sns\n",
    "\n",
    "plt.scatter(X[:,0],\n",
    "            X[:,1],\n",
    "            cmap='autumn',\n",
    "            s=60);"
   ]
  },
  {
   "cell_type": "code",
   "execution_count": 12,
   "metadata": {},
   "outputs": [
    {
     "data": {
      "text/plain": [
       "array([[ nan,  nan],\n",
       "       [ nan,  nan]])"
      ]
     },
     "execution_count": 12,
     "metadata": {},
     "output_type": "execute_result"
    }
   ],
   "source": [
    "import numpy\n",
    "numpy.corrcoef(X[:,0], X[:,1])"
   ]
  },
  {
   "cell_type": "code",
   "execution_count": 13,
   "metadata": {},
   "outputs": [
    {
     "data": {
      "text/plain": [
       "SpearmanrResult(correlation=nan, pvalue=nan)"
      ]
     },
     "execution_count": 13,
     "metadata": {},
     "output_type": "execute_result"
    }
   ],
   "source": [
    "import scipy\n",
    "scipy.stats.spearmanr(X[:,0], X[:,1])"
   ]
  },
  {
   "cell_type": "markdown",
   "metadata": {},
   "source": [
    "Корреляции между средней длинной текста за день и ценой закрытия нет"
   ]
  },
  {
   "cell_type": "markdown",
   "metadata": {},
   "source": [
    "#### Корреляция между количеством упоминаний Алексея Миллера и ценой закрытия"
   ]
  },
  {
   "cell_type": "code",
   "execution_count": 16,
   "metadata": {},
   "outputs": [
    {
     "name": "stderr",
     "output_type": "stream",
     "text": [
      "C:\\Users\\Yana\\Anaconda3\\lib\\site-packages\\ipykernel_launcher.py:3: SettingWithCopyWarning: \n",
      "A value is trying to be set on a copy of a slice from a DataFrame\n",
      "\n",
      "See the caveats in the documentation: http://pandas.pydata.org/pandas-docs/stable/indexing.html#indexing-view-versus-copy\n",
      "  This is separate from the ipykernel package so we can avoid doing imports until\n"
     ]
    }
   ],
   "source": [
    "for i in range(df.shape[0]):\n",
    "    word_list = df[\"text\"][i].split()\n",
    "    df['frequency'][i] = word_list.count('миллер')"
   ]
  },
  {
   "cell_type": "code",
   "execution_count": 17,
   "metadata": {},
   "outputs": [
    {
     "data": {
      "text/html": [
       "<div>\n",
       "<style>\n",
       "    .dataframe thead tr:only-child th {\n",
       "        text-align: right;\n",
       "    }\n",
       "\n",
       "    .dataframe thead th {\n",
       "        text-align: left;\n",
       "    }\n",
       "\n",
       "    .dataframe tbody tr th {\n",
       "        vertical-align: top;\n",
       "    }\n",
       "</style>\n",
       "<table border=\"1\" class=\"dataframe\">\n",
       "  <thead>\n",
       "    <tr style=\"text-align: right;\">\n",
       "      <th></th>\n",
       "      <th>date</th>\n",
       "      <th>text</th>\n",
       "      <th>len</th>\n",
       "      <th>frequency</th>\n",
       "    </tr>\n",
       "  </thead>\n",
       "  <tbody>\n",
       "    <tr>\n",
       "      <th>0</th>\n",
       "      <td>2010-01-02</td>\n",
       "      <td>газпром не исключать в год выпуск облигация пр...</td>\n",
       "      <td>241</td>\n",
       "      <td>0</td>\n",
       "    </tr>\n",
       "    <tr>\n",
       "      <th>1</th>\n",
       "      <td>2010-01-19</td>\n",
       "      <td>газпром готовый забирать весь объесть азербайд...</td>\n",
       "      <td>410</td>\n",
       "      <td>2</td>\n",
       "    </tr>\n",
       "    <tr>\n",
       "      <th>2</th>\n",
       "      <td>2010-01-28</td>\n",
       "      <td>консорциум в глава с российский оао газпром не...</td>\n",
       "      <td>555</td>\n",
       "      <td>0</td>\n",
       "    </tr>\n",
       "    <tr>\n",
       "      <th>3</th>\n",
       "      <td>2010-02-07</td>\n",
       "      <td>газпромбанк открыть на кипр дочерний компания ...</td>\n",
       "      <td>299</td>\n",
       "      <td>0</td>\n",
       "    </tr>\n",
       "    <tr>\n",
       "      <th>4</th>\n",
       "      <td>2010-02-09</td>\n",
       "      <td>газпром вновь понизить прогноз экспорт в европ...</td>\n",
       "      <td>783</td>\n",
       "      <td>0</td>\n",
       "    </tr>\n",
       "  </tbody>\n",
       "</table>\n",
       "</div>"
      ],
      "text/plain": [
       "        date                                               text  len  \\\n",
       "0 2010-01-02  газпром не исключать в год выпуск облигация пр...  241   \n",
       "1 2010-01-19  газпром готовый забирать весь объесть азербайд...  410   \n",
       "2 2010-01-28  консорциум в глава с российский оао газпром не...  555   \n",
       "3 2010-02-07  газпромбанк открыть на кипр дочерний компания ...  299   \n",
       "4 2010-02-09  газпром вновь понизить прогноз экспорт в европ...  783   \n",
       "\n",
       "   frequency  \n",
       "0          0  \n",
       "1          2  \n",
       "2          0  \n",
       "3          0  \n",
       "4          0  "
      ]
     },
     "execution_count": 17,
     "metadata": {},
     "output_type": "execute_result"
    }
   ],
   "source": [
    "df.head()"
   ]
  },
  {
   "cell_type": "code",
   "execution_count": 18,
   "metadata": {},
   "outputs": [
    {
     "data": {
      "text/html": [
       "<div>\n",
       "<style>\n",
       "    .dataframe thead tr:only-child th {\n",
       "        text-align: right;\n",
       "    }\n",
       "\n",
       "    .dataframe thead th {\n",
       "        text-align: left;\n",
       "    }\n",
       "\n",
       "    .dataframe tbody tr th {\n",
       "        vertical-align: top;\n",
       "    }\n",
       "</style>\n",
       "<table border=\"1\" class=\"dataframe\">\n",
       "  <thead>\n",
       "    <tr style=\"text-align: right;\">\n",
       "      <th></th>\n",
       "      <th>date</th>\n",
       "      <th>frequency</th>\n",
       "    </tr>\n",
       "  </thead>\n",
       "  <tbody>\n",
       "    <tr>\n",
       "      <th>0</th>\n",
       "      <td>2010-01-02</td>\n",
       "      <td>0</td>\n",
       "    </tr>\n",
       "    <tr>\n",
       "      <th>1</th>\n",
       "      <td>2010-01-19</td>\n",
       "      <td>2</td>\n",
       "    </tr>\n",
       "    <tr>\n",
       "      <th>2</th>\n",
       "      <td>2010-01-28</td>\n",
       "      <td>0</td>\n",
       "    </tr>\n",
       "    <tr>\n",
       "      <th>3</th>\n",
       "      <td>2010-02-07</td>\n",
       "      <td>0</td>\n",
       "    </tr>\n",
       "    <tr>\n",
       "      <th>4</th>\n",
       "      <td>2010-02-09</td>\n",
       "      <td>0</td>\n",
       "    </tr>\n",
       "  </tbody>\n",
       "</table>\n",
       "</div>"
      ],
      "text/plain": [
       "        date  frequency\n",
       "0 2010-01-02          0\n",
       "1 2010-01-19          2\n",
       "2 2010-01-28          0\n",
       "3 2010-02-07          0\n",
       "4 2010-02-09          0"
      ]
     },
     "execution_count": 18,
     "metadata": {},
     "output_type": "execute_result"
    }
   ],
   "source": [
    "df2 = df.pivot_table(values='frequency', index='date', aggfunc='sum').reset_index() \n",
    "df2.head()"
   ]
  },
  {
   "cell_type": "code",
   "execution_count": 19,
   "metadata": {},
   "outputs": [
    {
     "data": {
      "text/html": [
       "<div>\n",
       "<style>\n",
       "    .dataframe thead tr:only-child th {\n",
       "        text-align: right;\n",
       "    }\n",
       "\n",
       "    .dataframe thead th {\n",
       "        text-align: left;\n",
       "    }\n",
       "\n",
       "    .dataframe tbody tr th {\n",
       "        vertical-align: top;\n",
       "    }\n",
       "</style>\n",
       "<table border=\"1\" class=\"dataframe\">\n",
       "  <thead>\n",
       "    <tr style=\"text-align: right;\">\n",
       "      <th></th>\n",
       "      <th>date</th>\n",
       "      <th>frequency</th>\n",
       "      <th>Date</th>\n",
       "      <th>Open</th>\n",
       "      <th>ClosingPrice</th>\n",
       "      <th>DailyHigh</th>\n",
       "      <th>DailyLow</th>\n",
       "      <th>VolumePcs</th>\n",
       "    </tr>\n",
       "  </thead>\n",
       "  <tbody>\n",
       "    <tr>\n",
       "      <th>0</th>\n",
       "      <td>2010-01-02</td>\n",
       "      <td>0.0</td>\n",
       "      <td>2010-01-02</td>\n",
       "      <td>184.74</td>\n",
       "      <td>189.85</td>\n",
       "      <td>190.40</td>\n",
       "      <td>183.50</td>\n",
       "      <td>76298175.0</td>\n",
       "    </tr>\n",
       "    <tr>\n",
       "      <th>1</th>\n",
       "      <td>2010-01-19</td>\n",
       "      <td>2.0</td>\n",
       "      <td>2010-01-19</td>\n",
       "      <td>190.10</td>\n",
       "      <td>189.76</td>\n",
       "      <td>190.47</td>\n",
       "      <td>187.36</td>\n",
       "      <td>48626727.0</td>\n",
       "    </tr>\n",
       "    <tr>\n",
       "      <th>2</th>\n",
       "      <td>2010-01-28</td>\n",
       "      <td>0.0</td>\n",
       "      <td>2010-01-28</td>\n",
       "      <td>183.75</td>\n",
       "      <td>182.30</td>\n",
       "      <td>185.98</td>\n",
       "      <td>181.67</td>\n",
       "      <td>62561241.0</td>\n",
       "    </tr>\n",
       "    <tr>\n",
       "      <th>3</th>\n",
       "      <td>2010-02-07</td>\n",
       "      <td>0.0</td>\n",
       "      <td>2010-02-07</td>\n",
       "      <td>144.80</td>\n",
       "      <td>148.25</td>\n",
       "      <td>148.27</td>\n",
       "      <td>144.05</td>\n",
       "      <td>41766629.0</td>\n",
       "    </tr>\n",
       "    <tr>\n",
       "      <th>4</th>\n",
       "      <td>2010-02-09</td>\n",
       "      <td>0.0</td>\n",
       "      <td>2010-02-09</td>\n",
       "      <td>161.79</td>\n",
       "      <td>162.80</td>\n",
       "      <td>163.57</td>\n",
       "      <td>161.53</td>\n",
       "      <td>42721026.0</td>\n",
       "    </tr>\n",
       "  </tbody>\n",
       "</table>\n",
       "</div>"
      ],
      "text/plain": [
       "        date  frequency       Date    Open  ClosingPrice  DailyHigh  DailyLow  \\\n",
       "0 2010-01-02        0.0 2010-01-02  184.74        189.85     190.40    183.50   \n",
       "1 2010-01-19        2.0 2010-01-19  190.10        189.76     190.47    187.36   \n",
       "2 2010-01-28        0.0 2010-01-28  183.75        182.30     185.98    181.67   \n",
       "3 2010-02-07        0.0 2010-02-07  144.80        148.25     148.27    144.05   \n",
       "4 2010-02-09        0.0 2010-02-09  161.79        162.80     163.57    161.53   \n",
       "\n",
       "    VolumePcs  \n",
       "0  76298175.0  \n",
       "1  48626727.0  \n",
       "2  62561241.0  \n",
       "3  41766629.0  \n",
       "4  42721026.0  "
      ]
     },
     "execution_count": 19,
     "metadata": {},
     "output_type": "execute_result"
    }
   ],
   "source": [
    "data1 = df2.merge(pr_all, how = 'outer', left_on = 'date', right_on = 'Date')\n",
    "data1.head()"
   ]
  },
  {
   "cell_type": "code",
   "execution_count": 21,
   "metadata": {},
   "outputs": [
    {
     "data": {
      "text/plain": [
       "array([[ 189.85,    0.  ],\n",
       "       [ 189.76,    2.  ],\n",
       "       [ 182.3 ,    0.  ],\n",
       "       ..., \n",
       "       [ 132.15,     nan],\n",
       "       [ 157.25,     nan],\n",
       "       [ 125.93,     nan]])"
      ]
     },
     "execution_count": 21,
     "metadata": {},
     "output_type": "execute_result"
    }
   ],
   "source": [
    "X1 = data1.as_matrix(columns=['ClosingPrice', 'frequency' ])\n",
    "X1"
   ]
  },
  {
   "cell_type": "code",
   "execution_count": 22,
   "metadata": {},
   "outputs": [
    {
     "data": {
      "image/png": "[encoded data removed]",
      "text/plain": [
       "<matplotlib.figure.Figure at 0x24253e4e7b8>"
      ]
     },
     "metadata": {},
     "output_type": "display_data"
    }
   ],
   "source": [
    "plt.scatter(X1[:,0],\n",
    "            X1[:,1],\n",
    "            cmap='autumn',\n",
    "            s=60);"
   ]
  },
  {
   "cell_type": "code",
   "execution_count": 23,
   "metadata": {},
   "outputs": [
    {
     "data": {
      "text/plain": [
       "array([[ nan,  nan],\n",
       "       [ nan,  nan]])"
      ]
     },
     "execution_count": 23,
     "metadata": {},
     "output_type": "execute_result"
    }
   ],
   "source": [
    "numpy.corrcoef(X1[:,0], X1[:,1])"
   ]
  },
  {
   "cell_type": "code",
   "execution_count": 24,
   "metadata": {},
   "outputs": [
    {
     "data": {
      "text/plain": [
       "SpearmanrResult(correlation=nan, pvalue=nan)"
      ]
     },
     "execution_count": 24,
     "metadata": {},
     "output_type": "execute_result"
    }
   ],
   "source": [
    "scipy.stats.spearmanr(X1[:,0], X1[:,1])"
   ]
  },
  {
   "cell_type": "markdown",
   "metadata": {},
   "source": [
    "Корреляции между количеством упоминаний Алексея Миллера и ценой закрытия нет"
   ]
  },
  {
   "cell_type": "markdown",
   "metadata": {},
   "source": [
    "#### Упоминаний какого газопровода в статьях больше:\n",
    "* \"северный поток\"\n",
    "* \"турецкий поток\"?"
   ]
  },
  {
   "cell_type": "code",
   "execution_count": 25,
   "metadata": {},
   "outputs": [
    {
     "name": "stdout",
     "output_type": "stream",
     "text": [
      "северный поток: 12\n",
      "турецкий поток 32\n"
     ]
    }
   ],
   "source": [
    "sv = tu = 0\n",
    "for s in range(df.shape[0]):\n",
    "    text = df[\"text\"][s]\n",
    "    i = text.find('северный поток')\n",
    "    if i > -1:\n",
    "        sv += 1\n",
    "    else:\n",
    "        i = text.find('турецкий поток')\n",
    "        if i > -1:\n",
    "            tu += 1\n",
    "print('северный поток:', sv)\n",
    "print('турецкий поток', tu)\n"
   ]
  },
  {
   "cell_type": "markdown",
   "metadata": {},
   "source": [
    "Упоминаний \"турецкого потока\" больше"
   ]
  },
  {
   "cell_type": "markdown",
   "metadata": {},
   "source": [
    "#### О каких санкциях пишут в статьях"
   ]
  },
  {
   "cell_type": "code",
   "execution_count": 26,
   "metadata": {
    "collapsed": true
   },
   "outputs": [],
   "source": [
    "! cat texts.csv | docker run --rm -i inemo/syntaxnet_rus > dat.conll"
   ]
  },
  {
   "cell_type": "code",
   "execution_count": 27,
   "metadata": {
    "collapsed": true
   },
   "outputs": [],
   "source": [
    "from nltk import DependencyGraph\n",
    "import codecs"
   ]
  },
  {
   "cell_type": "code",
   "execution_count": 28,
   "metadata": {},
   "outputs": [
    {
     "name": "stdout",
     "output_type": "stream",
     "text": [
      "большой\n",
      "санкция\n",
      "\n",
      "англо-голландский\n",
      "санкция\n",
      "\n",
      "неясный\n",
      "санкция\n",
      "\n",
      "вэб\n",
      "санкция\n",
      "\n"
     ]
    }
   ],
   "source": [
    "processed_sentences = []\n",
    "sentence = []\n",
    "for line in codecs.open('dat.conll', 'r', 'utf-8'):\n",
    "    if len(line) == 1:\n",
    "        processed_sentences.append(sentence)\n",
    "        sentence = []\n",
    "    else:\n",
    "        word = line.split(\"\\t\")\n",
    "        sentence.append(word)\n",
    "\n",
    "deps = []\n",
    "res = []\n",
    "for sentence in processed_sentences:\n",
    "    s = u\"\"\n",
    "    for line in sentence:\n",
    "        s += u\"\\t\".join(line) + u'\\n'\n",
    "    deps.append(s)\n",
    "\n",
    "for sent_dep in deps:\n",
    "    graph = DependencyGraph(tree_str=sent_dep)\n",
    "    tree = graph.tree()\n",
    "    \n",
    "    \n",
    "for sent_dep in deps:    \n",
    "    adjectives = {}\n",
    "    for t in sent_dep.split('\\n'):\n",
    "        if len(t) > 1:\n",
    "            splt = t.split('\\t')\n",
    "            if splt[1] == 'санкция':\n",
    "                n = int(splt[6]) # номер слова, с которым связана санкция\n",
    "                n = 0\n",
    "                sent_split = sent_dep.split('\\n')\n",
    "                sent = [i.split('\\t') for i in sent_split if len(i) > 1] \n",
    "                if sent[n-1][3] == 'ADJ':\n",
    "                    adjectives[str(n)] = [sent[n-1][1]]\n",
    "                    adjectives[str(n)].append('санкция')\n",
    "    if adjectives:\n",
    "        sent_split = sent_dep.split('\\n')\n",
    "        sent = [i.split('\\t') for i in sent_split if len(i) > 1]\n",
    "        for splt in sent:\n",
    "            if splt[7] in ['amod', 'nmod']:\n",
    "                if splt[6] in adjectives:\n",
    "                    adjectives[splt[6]].append(splt[1])\n",
    "\n",
    "        for t in adjectives.values():\n",
    "            for elem in t:\n",
    "                print(elem)\n",
    "            print()"
   ]
  },
  {
   "cell_type": "markdown",
   "metadata": {},
   "source": [
    "## Часть 2. Классификационная\n",
    "Вам предстоит решить следующую задачу: по текстам новостей за день определить, вырастет или понизится цена закрытия.\n",
    "Для этого:\n",
    "* бинаризуйте признак \"цена закрытия\":  новый признак ClosingPrice_bin равен 1, если по сравнению со вчера цена не упала, и 0 – в обратном случаея;\n",
    "* составьте бучающее и тестовое множество: данные до начала 2016 года используются для обучения, данные с 2016 года и позже – для тестирования.\n",
    "\n",
    "Таким образом, в каждлый момент времени мы знаем: \n",
    "* ClosingPrice_bin – бинарый целевой признак\n",
    "* слова из статей, опубликованных в этот день – объясняющие признаки\n",
    "\n",
    "В этой части задания вам нужно сделать baseline алгоритм и попытаться его улучшить в следующей части. \n",
    "\n",
    "Используйте любой известный вам алгоритм классификации текстов для того, Используйте $tf-idf$ преобразование, сингулярное разложение, нормировку признакого пространства и любые другие техники обработки данных, которые вы считаете нужным. Используйте accuracy и F-measure для оценки качества классификации. Покажите, как  $tf-idf$ преобразование или сингулярное разложение или любая другая использованная вами техника влияет на качество классификации.\n",
    "Если у выбранного вами алгоритма есть гиперпараметры (например, $\\alpha$ в преобразовании Лапласа для метода наивного Байеса), покажите, как изменение гиперпараметра влияет на качество классификации."
   ]
  },
  {
   "cell_type": "code",
   "execution_count": 29,
   "metadata": {
    "collapsed": true
   },
   "outputs": [],
   "source": [
    "pr_all['ClosingPrice_bin'] = 0"
   ]
  },
  {
   "cell_type": "code",
   "execution_count": 30,
   "metadata": {
    "collapsed": true
   },
   "outputs": [],
   "source": [
    "for i in range(pr_all.shape[0]):\n",
    "    if pr_all['ClosingPrice'][i] >= pr_all['ClosingPrice'][i+1]:\n",
    "        pr_all['ClosingPrice_bin'][i+1] = 0\n",
    "    else:\n",
    "        pr_all['ClosingPrice_bin'][i+1] = 1"
   ]
  },
  {
   "cell_type": "code",
   "execution_count": 32,
   "metadata": {},
   "outputs": [
    {
     "data": {
      "text/html": [
       "<div>\n",
       "<style>\n",
       "    .dataframe thead tr:only-child th {\n",
       "        text-align: right;\n",
       "    }\n",
       "\n",
       "    .dataframe thead th {\n",
       "        text-align: left;\n",
       "    }\n",
       "\n",
       "    .dataframe tbody tr th {\n",
       "        vertical-align: top;\n",
       "    }\n",
       "</style>\n",
       "<table border=\"1\" class=\"dataframe\">\n",
       "  <thead>\n",
       "    <tr style=\"text-align: right;\">\n",
       "      <th></th>\n",
       "      <th>Date</th>\n",
       "      <th>Open</th>\n",
       "      <th>ClosingPrice</th>\n",
       "      <th>DailyHigh</th>\n",
       "      <th>DailyLow</th>\n",
       "      <th>VolumePcs</th>\n",
       "      <th>ClosingPrice_bin</th>\n",
       "    </tr>\n",
       "  </thead>\n",
       "  <tbody>\n",
       "    <tr>\n",
       "      <th>0</th>\n",
       "      <td>2010-01-02</td>\n",
       "      <td>184.74</td>\n",
       "      <td>189.85</td>\n",
       "      <td>190.40</td>\n",
       "      <td>183.50</td>\n",
       "      <td>76298175</td>\n",
       "      <td>0</td>\n",
       "    </tr>\n",
       "    <tr>\n",
       "      <th>1</th>\n",
       "      <td>2010-01-03</td>\n",
       "      <td>168.70</td>\n",
       "      <td>168.20</td>\n",
       "      <td>170.71</td>\n",
       "      <td>166.33</td>\n",
       "      <td>58570262</td>\n",
       "      <td>0</td>\n",
       "    </tr>\n",
       "    <tr>\n",
       "      <th>2</th>\n",
       "      <td>2010-01-04</td>\n",
       "      <td>172.49</td>\n",
       "      <td>175.00</td>\n",
       "      <td>176.14</td>\n",
       "      <td>172.33</td>\n",
       "      <td>94994135</td>\n",
       "      <td>1</td>\n",
       "    </tr>\n",
       "    <tr>\n",
       "      <th>3</th>\n",
       "      <td>2010-01-06</td>\n",
       "      <td>158.20</td>\n",
       "      <td>159.26</td>\n",
       "      <td>160.31</td>\n",
       "      <td>154.39</td>\n",
       "      <td>67031024</td>\n",
       "      <td>0</td>\n",
       "    </tr>\n",
       "    <tr>\n",
       "      <th>4</th>\n",
       "      <td>2010-01-07</td>\n",
       "      <td>147.00</td>\n",
       "      <td>143.20</td>\n",
       "      <td>147.77</td>\n",
       "      <td>143.04</td>\n",
       "      <td>50067990</td>\n",
       "      <td>0</td>\n",
       "    </tr>\n",
       "  </tbody>\n",
       "</table>\n",
       "</div>"
      ],
      "text/plain": [
       "        Date    Open  ClosingPrice  DailyHigh  DailyLow  VolumePcs  \\\n",
       "0 2010-01-02  184.74        189.85     190.40    183.50   76298175   \n",
       "1 2010-01-03  168.70        168.20     170.71    166.33   58570262   \n",
       "2 2010-01-04  172.49        175.00     176.14    172.33   94994135   \n",
       "3 2010-01-06  158.20        159.26     160.31    154.39   67031024   \n",
       "4 2010-01-07  147.00        143.20     147.77    143.04   50067990   \n",
       "\n",
       "   ClosingPrice_bin  \n",
       "0                 0  \n",
       "1                 0  \n",
       "2                 1  \n",
       "3                 0  \n",
       "4                 0  "
      ]
     },
     "execution_count": 32,
     "metadata": {},
     "output_type": "execute_result"
    }
   ],
   "source": [
    "pr_all.head()"
   ]
  },
  {
   "cell_type": "code",
   "execution_count": 33,
   "metadata": {},
   "outputs": [
    {
     "data": {
      "text/html": [
       "<div>\n",
       "<style>\n",
       "    .dataframe thead tr:only-child th {\n",
       "        text-align: right;\n",
       "    }\n",
       "\n",
       "    .dataframe thead th {\n",
       "        text-align: left;\n",
       "    }\n",
       "\n",
       "    .dataframe tbody tr th {\n",
       "        vertical-align: top;\n",
       "    }\n",
       "</style>\n",
       "<table border=\"1\" class=\"dataframe\">\n",
       "  <thead>\n",
       "    <tr style=\"text-align: right;\">\n",
       "      <th></th>\n",
       "      <th>date</th>\n",
       "      <th>text</th>\n",
       "      <th>Date</th>\n",
       "      <th>Open</th>\n",
       "      <th>ClosingPrice</th>\n",
       "      <th>DailyHigh</th>\n",
       "      <th>DailyLow</th>\n",
       "      <th>VolumePcs</th>\n",
       "      <th>ClosingPrice_bin</th>\n",
       "    </tr>\n",
       "  </thead>\n",
       "  <tbody>\n",
       "    <tr>\n",
       "      <th>0</th>\n",
       "      <td>2010-01-02</td>\n",
       "      <td>газпром не исключать в год выпуск облигация пр...</td>\n",
       "      <td>2010-01-02</td>\n",
       "      <td>184.74</td>\n",
       "      <td>189.85</td>\n",
       "      <td>190.40</td>\n",
       "      <td>183.50</td>\n",
       "      <td>76298175.0</td>\n",
       "      <td>0.0</td>\n",
       "    </tr>\n",
       "    <tr>\n",
       "      <th>1</th>\n",
       "      <td>2010-01-19</td>\n",
       "      <td>газпром готовый забирать весь объесть азербайд...</td>\n",
       "      <td>2010-01-19</td>\n",
       "      <td>190.10</td>\n",
       "      <td>189.76</td>\n",
       "      <td>190.47</td>\n",
       "      <td>187.36</td>\n",
       "      <td>48626727.0</td>\n",
       "      <td>0.0</td>\n",
       "    </tr>\n",
       "    <tr>\n",
       "      <th>2</th>\n",
       "      <td>2010-01-28</td>\n",
       "      <td>консорциум в глава с российский оао газпром не...</td>\n",
       "      <td>2010-01-28</td>\n",
       "      <td>183.75</td>\n",
       "      <td>182.30</td>\n",
       "      <td>185.98</td>\n",
       "      <td>181.67</td>\n",
       "      <td>62561241.0</td>\n",
       "      <td>1.0</td>\n",
       "    </tr>\n",
       "    <tr>\n",
       "      <th>3</th>\n",
       "      <td>2010-02-07</td>\n",
       "      <td>газпромбанк открыть на кипр дочерний компания ...</td>\n",
       "      <td>2010-02-07</td>\n",
       "      <td>144.80</td>\n",
       "      <td>148.25</td>\n",
       "      <td>148.27</td>\n",
       "      <td>144.05</td>\n",
       "      <td>41766629.0</td>\n",
       "      <td>0.0</td>\n",
       "    </tr>\n",
       "    <tr>\n",
       "      <th>4</th>\n",
       "      <td>2010-02-09</td>\n",
       "      <td>газпром вновь понизить прогноз экспорт в европ...</td>\n",
       "      <td>2010-02-09</td>\n",
       "      <td>161.79</td>\n",
       "      <td>162.80</td>\n",
       "      <td>163.57</td>\n",
       "      <td>161.53</td>\n",
       "      <td>42721026.0</td>\n",
       "      <td>0.0</td>\n",
       "    </tr>\n",
       "  </tbody>\n",
       "</table>\n",
       "</div>"
      ],
      "text/plain": [
       "        date                                               text       Date  \\\n",
       "0 2010-01-02  газпром не исключать в год выпуск облигация пр... 2010-01-02   \n",
       "1 2010-01-19  газпром готовый забирать весь объесть азербайд... 2010-01-19   \n",
       "2 2010-01-28  консорциум в глава с российский оао газпром не... 2010-01-28   \n",
       "3 2010-02-07  газпромбанк открыть на кипр дочерний компания ... 2010-02-07   \n",
       "4 2010-02-09  газпром вновь понизить прогноз экспорт в европ... 2010-02-09   \n",
       "\n",
       "     Open  ClosingPrice  DailyHigh  DailyLow   VolumePcs  ClosingPrice_bin  \n",
       "0  184.74        189.85     190.40    183.50  76298175.0               0.0  \n",
       "1  190.10        189.76     190.47    187.36  48626727.0               0.0  \n",
       "2  183.75        182.30     185.98    181.67  62561241.0               1.0  \n",
       "3  144.80        148.25     148.27    144.05  41766629.0               0.0  \n",
       "4  161.79        162.80     163.57    161.53  42721026.0               0.0  "
      ]
     },
     "execution_count": 33,
     "metadata": {},
     "output_type": "execute_result"
    }
   ],
   "source": [
    "df = df.drop(['len','frequency'], 1)\n",
    "datas = df.merge(pr_all, how = 'outer', left_on = 'date', right_on = 'Date')\n",
    "datas.head()"
   ]
  },
  {
   "cell_type": "code",
   "execution_count": 90,
   "metadata": {
    "collapsed": true
   },
   "outputs": [],
   "source": [
    "datas1 = datas.dropna()\n",
    "X_train = datas1.loc[datas['date'] < '2016-01-01']\n",
    "X_test = datas1.loc[datas['date'] >= '2016-01-01']\n",
    "y_train = X_train['ClosingPrice_bin']\n",
    "y_test = X_test['ClosingPrice_bin']"
   ]
  },
  {
   "cell_type": "code",
   "execution_count": 91,
   "metadata": {
    "collapsed": true
   },
   "outputs": [],
   "source": [
    "X_train_d = X_train.drop(['ClosingPrice_bin'], 1)\n",
    "X_test_d = X_test.drop(['ClosingPrice_bin'], 1)"
   ]
  },
  {
   "cell_type": "code",
   "execution_count": 92,
   "metadata": {
    "collapsed": true
   },
   "outputs": [],
   "source": [
    "X_train_text = X_train_d['text']\n",
    "X_test_text = X_test_d['text']"
   ]
  },
  {
   "cell_type": "markdown",
   "metadata": {},
   "source": [
    "Переведем документы в векторы признаков:"
   ]
  },
  {
   "cell_type": "code",
   "execution_count": 93,
   "metadata": {
    "collapsed": true
   },
   "outputs": [],
   "source": [
    "from sklearn.feature_extraction.text import CountVectorizer\n",
    "\n",
    "count_vect = CountVectorizer()\n",
    "X_train_counts = count_vect.fit_transform(X_train_text)\n",
    "X_test_counts = count_vect.transform(X_test_text)"
   ]
  },
  {
   "cell_type": "markdown",
   "metadata": {},
   "source": [
    "#### Мультиномиальный наивный Байес"
   ]
  },
  {
   "cell_type": "code",
   "execution_count": 94,
   "metadata": {
    "collapsed": true
   },
   "outputs": [],
   "source": [
    "from sklearn.naive_bayes import MultinomialNB\n",
    "clf = MultinomialNB(alpha=0.0001).fit(X_train_counts, y_train)"
   ]
  },
  {
   "cell_type": "code",
   "execution_count": 95,
   "metadata": {
    "collapsed": true
   },
   "outputs": [],
   "source": [
    "predicted = clf.predict(X_test_counts)"
   ]
  },
  {
   "cell_type": "code",
   "execution_count": 96,
   "metadata": {},
   "outputs": [
    {
     "name": "stdout",
     "output_type": "stream",
     "text": [
      "acc = 0.5257\n",
      "micro F1 = 0.5257\n",
      "macro F1 = 0.5164\n",
      "\n"
     ]
    }
   ],
   "source": [
    "from sklearn.metrics import *\n",
    "\n",
    "acc = accuracy_score(predicted, y_test)\n",
    "micro_f1 = f1_score(predicted, y_test, average = 'micro')\n",
    "macro_f1 = f1_score(predicted, y_test, average = 'macro')\n",
    "print('acc = {0:1.4f}'.format(acc))\n",
    "print('micro F1 = {0:1.4f}'.format(micro_f1))\n",
    "print('macro F1 = {0:1.4f}\\n'.format(macro_f1))"
   ]
  },
  {
   "cell_type": "code",
   "execution_count": 97,
   "metadata": {},
   "outputs": [
    {
     "name": "stdout",
     "output_type": "stream",
     "text": [
      "acc = 0.4901\n",
      "micro F1 = 0.4901\n",
      "macro F1 = 0.4784\n",
      "\n"
     ]
    }
   ],
   "source": [
    "clf = MultinomialNB(alpha=1).fit(X_train_counts, y_train)\n",
    "predicted = clf.predict(X_test_counts)\n",
    "acc = accuracy_score(predicted, y_test)\n",
    "micro_f1 = f1_score(predicted, y_test, average = 'micro')\n",
    "macro_f1 = f1_score(predicted, y_test, average = 'macro')\n",
    "print('acc = {0:1.4f}'.format(acc))\n",
    "print('micro F1 = {0:1.4f}'.format(micro_f1))\n",
    "print('macro F1 = {0:1.4f}\\n'.format(macro_f1))"
   ]
  },
  {
   "cell_type": "markdown",
   "metadata": {
    "collapsed": true
   },
   "source": [
    "При уменьшениии гиперпараметра alpha качество выросло "
   ]
  },
  {
   "cell_type": "markdown",
   "metadata": {},
   "source": [
    "#### Логистическая регрессия"
   ]
  },
  {
   "cell_type": "code",
   "execution_count": 98,
   "metadata": {
    "collapsed": true
   },
   "outputs": [],
   "source": [
    "from sklearn.linear_model import LogisticRegression\n",
    "clf = LogisticRegression(penalty='l1', C=0.07).fit(X_train_counts, y_train)\n",
    "predicted = clf.predict(X_test_counts)"
   ]
  },
  {
   "cell_type": "code",
   "execution_count": 99,
   "metadata": {
    "scrolled": true
   },
   "outputs": [
    {
     "name": "stdout",
     "output_type": "stream",
     "text": [
      "acc = 0.4862\n",
      "micro F1 = 0.4862\n",
      "macro F1 = 0.4811\n",
      "\n"
     ]
    }
   ],
   "source": [
    "acc = accuracy_score(predicted, y_test)\n",
    "micro_f1 = f1_score(predicted, y_test, average = 'micro')\n",
    "macro_f1 = f1_score(predicted, y_test, average = 'macro')\n",
    "print('acc = {0:1.4f}'.format(acc))\n",
    "print('micro F1 = {0:1.4f}'.format(micro_f1))\n",
    "print('macro F1 = {0:1.4f}\\n'.format(macro_f1))"
   ]
  },
  {
   "cell_type": "code",
   "execution_count": 100,
   "metadata": {},
   "outputs": [
    {
     "name": "stdout",
     "output_type": "stream",
     "text": [
      "acc = 0.4506\n",
      "micro F1 = 0.4506\n",
      "macro F1 = 0.4428\n",
      "\n"
     ]
    }
   ],
   "source": [
    "from sklearn.linear_model import LogisticRegression\n",
    "clf = LogisticRegression(penalty='l2', C=1).fit(X_train_counts, y_train)\n",
    "predicted = clf.predict(X_test_counts)\n",
    "\n",
    "acc = accuracy_score(predicted, y_test)\n",
    "micro_f1 = f1_score(predicted, y_test, average = 'micro')\n",
    "macro_f1 = f1_score(predicted, y_test, average = 'macro')\n",
    "print('acc = {0:1.4f}'.format(acc))\n",
    "print('micro F1 = {0:1.4f}'.format(micro_f1))\n",
    "print('macro F1 = {0:1.4f}\\n'.format(macro_f1))"
   ]
  },
  {
   "cell_type": "markdown",
   "metadata": {},
   "source": [
    "Для лучшего результата уменьшаем коэф. регуляризации и \"штрафуем\" по l1"
   ]
  },
  {
   "cell_type": "markdown",
   "metadata": {},
   "source": [
    "## Часть 3. Творческая\n",
    "Придумайте и попытайтесь сделать еще что-нибудь, чтобы улучшить качество классификации. \n",
    "Направления развития:\n",
    "* Морфологический признаки: \n",
    "    * использовать в качестве признаков только существительные или только именованные сущности;\n",
    "* Модели скрытых тем:\n",
    "    * использовать в качестве признаков скрытые темы;\n",
    "    * использовать в качестве признаков динамические скрытые темы \n",
    "    пример тут: (https://github.com/RaRe-Technologies/gensim/blob/develop/docs/notebooks/dtm_example.ipynb)\n",
    "* Синтаксические признаки:\n",
    "    * использовать SOV-тройки в качестве признаков\n",
    "    * кластеризовать SOV-тройки по эмбеддингам глаголов (обученные word2vec модели можно скачать отсюда: (http://rusvectores.org/ru/models/) и использовать только центроиды кластеров в качестве признаков\n",
    "* что-нибудь еще     "
   ]
  }
 ],
 "metadata": {
  "kernelspec": {
   "display_name": "Python 3",
   "language": "python",
   "name": "python3"
  },
  "language_info": {
   "codemirror_mode": {
    "name": "ipython",
    "version": 3
   },
   "file_extension": ".py",
   "mimetype": "text/x-python",
   "name": "python",
   "nbconvert_exporter": "python",
   "pygments_lexer": "ipython3",
   "version": "3.6.3"
  }
 },
 "nbformat": 4,
 "nbformat_minor": 2
}
