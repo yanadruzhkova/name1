{
 "cells": [
  {
   "cell_type": "markdown",
   "metadata": {},
   "source": [
    "# Домашнее задание 2 по обработке текстов\n",
    "\n",
    "Рассмотрим задачу бинарной классификации. Пусть дано два списка имен: мужские и женские имена. Требуется разработать классификатор, который по данному имени будет определять мужское оно или женское.\n",
    "\n",
    "Данные: \n",
    "* Женские имена: female.txt\n",
    "* Мужские имена: male.txt"
   ]
  },
  {
   "cell_type": "code",
   "execution_count": 1,
   "metadata": {
    "collapsed": true
   },
   "outputs": [],
   "source": [
    "import pandas as pd\n",
    "\n",
    "with open ('female.txt', encoding = 'utf-8') as f:\n",
    "    female = f.read()\n",
    "with open ('male.txt', encoding = 'utf-8') as f:\n",
    "    male = f.read()"
   ]
  },
  {
   "cell_type": "markdown",
   "metadata": {},
   "source": [
    "## Часть 1. Предварительная обработка данных\n",
    "\n",
    "1. Удалите неоднозначные имена (те имена, которые являются и мужскими, и женскими дновременно), если такие есть; \n",
    "2. Создайте обучающее и тестовое множество так, чтобы в обучающем множестве классы были сбалансированы, т.е. к классу принадлежало бы одинаковое количество имен;"
   ]
  },
  {
   "cell_type": "markdown",
   "metadata": {},
   "source": [
    "Предполагается, что неоднозначные мужские имена будут заканчиваться на гласные буквы, а именно 'a', 'y' или 'e', а неоднозначные женские на согласные 'x', 'g', 'm'"
   ]
  },
  {
   "cell_type": "code",
   "execution_count": 2,
   "metadata": {},
   "outputs": [
    {
     "data": {
      "text/plain": [
       "2943"
      ]
     },
     "execution_count": 2,
     "metadata": {},
     "output_type": "execute_result"
    }
   ],
   "source": [
    "len(male.split())"
   ]
  },
  {
   "cell_type": "code",
   "execution_count": 3,
   "metadata": {},
   "outputs": [
    {
     "name": "stdout",
     "output_type": "stream",
     "text": [
      "['Aamir', 'Aaron', 'Abbot', 'Abbott', 'Abdel', 'Abdul', 'Abdulkarim', 'Abdullah', 'Abel', 'Abelard', 'Abner', 'Abraham', 'Abram', 'Adair', 'Adam', 'Adams', 'Adger', 'Adlai', 'Adnan', 'Adolf', 'Adolfo', 'Adolph', 'Adolpho', 'Adolphus', 'Adrian', 'Adrick', 'Adrien', 'Agamemnon', 'Aguinaldo', 'Agustin', 'Aharon', 'Ahmad', 'Ahmed', 'Ahmet', 'Ajai', 'Al', 'Alain', 'Alan', 'Alasdair', 'Alastair', 'Albatros', 'Albert', 'Alberto', 'Albrecht', 'Alden', 'Aldis', 'Aldo', 'Aldric', 'Aldrich', 'Aldus', 'Aldwin', 'Alec', 'Aleck', 'Alejandro', 'Aleks', 'Aleksandrs', 'Alessandro', 'Alex', 'Alexander', 'Alexei', 'Alexis', 'Alf', 'Alfonso', 'Alfonzo', 'Alford', 'Alfred', 'Alfredo', 'Algernon', 'Ali', 'Alic', 'Alister', 'Alix', 'Allah', 'Allan', 'Allen', 'Allin', 'Allyn', 'Alonso', 'Alonzo', 'Aloysius', 'Alphonso', 'Alston', 'Alton', 'Alvin', 'Alwin', 'Amadeus', 'Ambros', 'Ambrosi', 'Ambrosio', 'Ambrosius', 'Amos', 'Anatol', 'Anatollo', 'Anders', 'Andonis', 'Andreas', 'Andrej', 'Andres', 'Andrew', 'Andri', 'Andros', 'Andrus', 'Andrzej', 'Angel', 'Angelico', 'Angelo', 'Angus', 'Ansel', 'Ansell', 'Anselm', 'Anson', 'Antin', 'Anton', 'Antoni', 'Antonin', 'Antonino', 'Antonio', 'Antonius', 'Anurag', 'Apollo', 'Apostolos', 'Aram', 'Archibald', 'Archibold', 'Archon', 'Arel', 'Ari', 'Ariel', 'Arlo', 'Armand', 'Armando', 'Armond', 'Armstrong', 'Arnold', 'Arnoldo', 'Aron', 'Arron', 'Art', 'Arther', 'Arthur', 'Artur', 'Arturo', 'Arvin', 'Arvind', 'Ash', 'Ashish', 'Ashton', 'Aub', 'Aubert', 'August', 'Augustin', 'Augusto', 'Augustus', 'Austen', 'Austin', 'Averell', 'Averil', 'Averill', 'Avi', 'Avraham', 'Avram', 'Avrom', 'Axel', 'Aylmer', 'Aziz', 'Baird', 'Baldwin', 'Bancroft', 'Barbabas', 'Bard', 'Barn', 'Barnabas', 'Barnard', 'Barnebas', 'Barnett', 'Baron', 'Barr', 'Barret', 'Barrett', 'Barri', 'Barris', 'Barron', 'Bart', 'Bartel', 'Barth', 'Barthel', 'Bartholomeo', 'Bartholomeus', 'Bartholomew', 'Bartlet', 'Bartlett', 'Bartolemo', 'Bartolomei', 'Bartolomeo', 'Barton', 'Basil', 'Batholomew', 'Baxter', 'Bayard', 'Bear', 'Bearnard', 'Beau', 'Beaufort', 'Beauregard', 'Beck', 'Ben', 'Benedict', 'Bengt', 'Benito', 'Benjamen', 'Benjamin', 'Benji', 'Benn', 'Bennet', 'Bennett', 'Benson', 'Benton', 'Beowulf', 'Berchtold', 'Berk', 'Bernard', 'Bernardo', 'Bernd', 'Bernhard', 'Bert', 'Bertram', 'Bertrand', 'Bharat', 'Biff', 'Bill', 'Bing', 'Bishop', 'Bjorn', 'Blair', 'Bo', 'Bob', 'Bogart', 'Bogdan', 'Boris', 'Boyd', 'Brad', 'Braden', 'Bradford', 'Brandon', 'Brant', 'Brendan', 'Brent', 'Bret', 'Brett', 'Brewer', 'Brewster', 'Brian', 'Briggs', 'Britt', 'Brock', 'Broderic', 'Broderick', 'Bronson', 'Brook', 'Brooks', 'Bruno', 'Bryan', 'Bryant', 'Bryn', 'Bryon', 'Buck', 'Bud', 'Burgess', 'Burl', 'Burt', 'Burton', 'Buster', 'Butch', 'Butler', 'Byram', 'Byron', 'Caesar', 'Cain', 'Cal', 'Caldwell', 'Caleb', 'Calhoun', 'Calvin', 'Cam', 'Cameron', 'Carl', 'Carleigh', 'Carlin', 'Carlo', 'Carlos', 'Carlton', 'Carroll', 'Carson', 'Carsten', 'Carter', 'Caryl', 'Caspar', 'Casper', 'Cass', 'Cat', 'Cecil', 'Cesar', 'Chad', 'Chadd', 'Chadwick', 'Chaim', 'Chalmers', 'Chan', 'Chanderjit', 'Chandler', 'Chariot', 'Charles', 'Charleton', 'Charlton', 'Chas', 'Chelton', 'Chen', 'Chester', 'Cheston', 'Chet', 'Chev', 'Chevalier', 'Chip', 'Chris', 'Christ', 'Christian', 'Christiano', 'Christof', 'Christofer', 'Christoph', 'Christopher', 'Christorpher', 'Christos', 'Chuck', 'Churchill', 'Clair', 'Clark', 'Claudio', 'Claudius', 'Claus', 'Clayborn', 'Clayton', 'Cleland', 'Clem', 'Clemens', 'Clement', 'Cletus', 'Cleveland', 'Cliff', 'Clifford', 'Clifton', 'Clint', 'Clinten', 'Clinton', 'Cob', 'Cobb', 'Colbert', 'Coleman', 'Colin', 'Collin', 'Collins', 'Conan', 'Connor', 'Conrad', 'Constantin', 'Constantinos', 'Cooper', 'Corbin', 'Cornelius', 'Cornellis', 'Corwin', 'Cosmo', 'Craig', 'Crawford', 'Creighton', 'Cris', 'Cristopher', 'Curt', 'Curtis', 'Cyril', 'Cyrill', 'Cyrillus', 'Cyrus', 'Dallas', 'Dalton', 'Damian', 'Damien', 'Damon', 'Dan', 'Dani', 'Daniel', 'Daren', 'Darian', 'Darien', 'Darin', 'Dario', 'Darius', 'Darrel', 'Darrell', 'Darren', 'Darrick', 'Darrin', 'Darryl', 'Darth', 'Darwin', 'Daryl', 'David', 'Davidson', 'Davin', 'Davis', 'Davon', 'Davoud', 'Dawson', 'Dean', 'Del', 'Delbert', 'Dell', 'Delmar', 'Demetri', 'Demetris', 'Demetrius', 'Demosthenis', 'Denis', 'Dennis', 'Derek', 'Derick', 'Derk', 'Derrek', 'Derrick', 'Derrin', 'Derrol', 'Derron', 'Deryl', 'Desmond', 'Desmund', 'Devin', 'Devon', 'Dewitt', 'Dexter', 'Dick', 'Diego', 'Dieter', 'Dietrich', 'Dillon', 'Dimitri', 'Dimitrios', 'Dimitris', 'Dimitrou', 'Dino', 'Dion', 'Dionis', 'Dionysus', 'Dirk', 'Dmitri', 'Dom', 'Domenic', 'Domenico', 'Dominic', 'Dominick', 'Don', 'Donal', 'Donald', 'Donn', 'Donovan', 'Dorian', 'Doug', 'Douglas', 'Douglass', 'Douglis', 'Dov', 'Drew', 'Dru', 'Dugan', 'Dunc', 'Duncan', 'Dunstan', 'Durand', 'Durant', 'Durward', 'Dustin', 'Dwain', 'Dwight', 'Dylan', 'Dyson', 'Earl', 'Easton', 'Eben', 'Ebeneser', 'Ebenezer', 'Eberhard', 'Ed', 'Edgar', 'Edgardo', 'Edmond', 'Edmund', 'Edouard', 'Edsel', 'Eduard', 'Eduardo', 'Edward', 'Edwin', 'Efram', 'Egbert', 'Ehud', 'Elbert', 'Elden', 'Eldon', 'Eli', 'Elias', 'Elihu', 'Elijah', 'Eliot', 'Eliott', 'Elliot', 'Elliott', 'Ellis', 'Ellsworth', 'Ellwood', 'Elmer', 'Elnar', 'Elric', 'Elton', 'Elvin', 'Elvis', 'Elwin', 'Elwood', 'Elwyn', 'Emanuel', 'Emerson', 'Emil', 'Emilio', 'Emmanuel', 'Emmet', 'Emmett', 'Emmit', 'Emmott', 'Ender', 'Engelbart', 'Engelbert', 'Englebart', 'Englebert', 'Enoch', 'Enrico', 'Ephraim', 'Ephram', 'Ephrayim', 'Ephrem', 'Er', 'Erasmus', 'Erastus', 'Erek', 'Erhard', 'Erhart', 'Eric', 'Erich', 'Erick', 'Erik', 'Erin', 'Erl', 'Ernest', 'Ernesto', 'Ernst', 'Errol', 'Ervin', 'Erwin', 'Esau', 'Esteban', 'Ethan', 'Ethelbert', 'Ethelred', 'Euclid', 'Eugen', 'Ev', 'Evan', 'Evelyn', 'Everard', 'Everett', 'Ewan', 'Ewart', 'Ez', 'Ezechiel', 'Ezekiel', 'Fabian', 'Fabio', 'Fairfax', 'Fazeel', 'Federico', 'Felicio', 'Felix', 'Ferd', 'Ferdinand', 'Fergus', 'Ferguson', 'Ferinand', 'Fernando', 'Fidel', 'Filbert', 'Filip', 'Finn', 'Fitz', 'Fitzgerald', 'Flem', 'Fleming', 'Flemming', 'Fletch', 'Fletcher', 'Flin', 'Flinn', 'Flint', 'Flipper', 'Florian', 'Floyd', 'Flynn', 'Fons', 'Fonz', 'Forbes', 'Ford', 'Forest', 'Forester', 'Forrest', 'Forrester', 'Forster', 'Foster', 'Fowler', 'Fox', 'Fran', 'Francesco', 'Francis', 'Francisco', 'Francois', 'Frank', 'Franklin', 'Franklyn', 'Frans', 'Franz', 'Fraser', 'Frazier', 'Fred', 'Frederic', 'Frederich', 'Frederick', 'Frederico', 'Frederik', 'Fredric', 'Fredrick', 'Freeman', 'Freemon', 'Fremont', 'French', 'Friedric', 'Friedrich', 'Friedrick', 'Fritz', 'Fulton', 'Fyodor', 'Gabriel', 'Gabriell', 'Gabriello', 'Gail', 'Galen', 'Gallagher', 'Gamaliel', 'Garcon', 'Gardener', 'Gardiner', 'Gardner', 'Garfield', 'Garfinkel', 'Garold', 'Garp', 'Garret', 'Garrett', 'Garrot', 'Garrott', 'Garth', 'Garv', 'Garvin', 'Garwin', 'Garwood', 'Gaspar', 'Gasper', 'Gaston', 'Gav', 'Gaven', 'Gavin', 'Gavriel', 'Gearard', 'Geo', 'Geof', 'Geoff', 'Georg', 'Georges', 'Gerald', 'Geraldo', 'Gerard', 'Gerhard', 'Gerhardt', 'Geri', 'Gerold', 'Gerrard', 'Gerri', 'Gerrit', 'Gershom', 'Gershon', 'Giacomo', 'Gian', 'Giancarlo', 'Giavani', 'Gibb', 'Gideon', 'Giff', 'Giffard', 'Giffer', 'Gifford', 'Gil', 'Gilbert', 'Gilberto', 'Gilburt', 'Giles', 'Gill', 'Gilles', 'Ginger', 'Gino', 'Giordano', 'Giorgi', 'Giorgio', 'Giovanni', 'Giraldo', 'Giraud', 'Glen', 'Glenn', 'Glynn', 'Godard', 'Godart', 'Goddard', 'Goddart', 'Godwin', 'Gomer', 'Gonzales', 'Gonzalo', 'Goober', 'Gordan', 'Gordon', 'Graham', 'Graig', 'Grant', 'Greg', 'Gregg', 'Gregor', 'Gregorio', 'Gretchen', 'Griff', 'Griffin', 'Griffith', 'Griswold', 'Grover', 'Guido', 'Guillermo', 'Gunner', 'Gunter', 'Gunther', 'Gus', 'Gustaf', 'Gustav', 'Gustavo', 'Gustavus', 'Hadleigh', 'Hadrian', 'Hagan', 'Hagen', 'Hakeem', 'Hakim', 'Hal', 'Haleigh', 'Hall', 'Hallam', 'Halvard', 'Ham', 'Hamel', 'Hamid', 'Hamil', 'Hamilton', 'Hamish', 'Hamlen', 'Hamlet', 'Hamlin', 'Hammad', 'Hamnet', 'Han', 'Hanan', 'Hanford', 'Hank', 'Hannibal', 'Hans', 'Hans-Peter', 'Hansel', 'Hanson', 'Harald', 'Harcourt', 'Hari', 'Harlan', 'Harland', 'Harlin', 'Harman', 'Harmon', 'Harold', 'Harris', 'Harrison', 'Harrold', 'Hart', 'Hartwell', 'Harv', 'Harvard', 'Harwell', 'Hasheem', 'Hashim', 'Haskel', 'Haskell', 'Hassan', 'Hastings', 'Haven', 'Hayden', 'Haydon', 'Hayes', 'Hayward', 'Haywood', 'Hazel', 'Heath', 'Heathcliff', 'Hebert', 'Hector', 'Heinrich', 'Heinz', 'Helmuth', 'Henderson', 'Hendrick', 'Hendrik', 'Henri', 'Henrik', 'Herb', 'Herbert', 'Hercules', 'Herman', 'Hermann', 'Hermon', 'Hernando', 'Herold', 'Herrick', 'Herrmann', 'Hersch', 'Herschel', 'Hersh', 'Hershel', 'Hew', 'Hewet', 'Hewett', 'Hewitt', 'Heywood', 'Hezekiah', 'Higgins', 'Hilbert', 'Hill', 'Hillard', 'Hillel', 'Hilliard', 'Hilton', 'Hiralal', 'Hiram', 'Hiro', 'Hirsch', 'Hobart', 'Hogan', 'Hollis', 'Homer', 'Horacio', 'Horatio', 'Horatius', 'Horst', 'Howard', 'Hoyt', 'Hubert', 'Hudson', 'Hugh', 'Hugo', 'Humbert', 'Hunt', 'Hunter', 'Huntington', 'Husain', 'Husein', 'Hussein', 'Hyatt', 'Hyman', 'Iago', 'Iain', 'Ian', 'Ibrahim', 'Ichabod', 'Ignacio', 'Ignacius', 'Ignatius', 'Ignaz', 'Ignazio', 'Igor', 'Immanuel', 'Ingamar', 'Ingelbert', 'Ingemar', 'Inglebert', 'Ingmar', 'Ingram', 'Inigo', 'Irvin', 'Irving', 'Irwin', 'Isaac', 'Isaak', 'Isador', 'Isaiah', 'Ishmael', 'Ismail', 'Israel', 'Istvan', 'Ivan', 'Ivor', 'Izaak', 'Izak', 'Jabez', 'Jack', 'Jackson', 'Jacob', 'Jacques', 'Jakob', 'James', 'Jameson', 'Jan', 'Janos', 'Janus', 'Jared', 'Jarrett', 'Jarvis', 'Jason', 'Jasper', 'Javier', 'Jean', 'Jean-Francois', 'Jean-Lou', 'Jean-Luc', 'Jean-Marc', 'Jean-Paul', 'Jeb', 'Jed', 'Jedediah', 'Jef', 'Jeff', 'Jefferson', 'Jehu', 'Jennings', 'Jens', 'Jephthah', 'Jerald', 'Jeremiah', 'Jeremias', 'Jermain', 'Jerold', 'Jerri', 'Jerrold', 'Jervis', 'Jess', 'Jesus', 'Jeth', 'Jethro', 'Jim', 'Jimbo', 'Jo', 'Joab', 'Joachim', 'Joao', 'Joaquin', 'Job', 'Jock', 'Jodi', 'Joel', 'Johan', 'Johann', 'Johannes', 'John', 'John-David', 'John-Patrick', 'Johnathan', 'Johnathon', 'Jon', 'Jonah', 'Jonas', 'Jonathan', 'Jonathon', 'Jordan', 'Jordon', 'Josef', 'Joseph', 'Josephus', 'Josh', 'Joshuah', 'Josiah', 'Jotham', 'Juan', 'Jud', 'Judah', 'Judas', 'Judd', 'Judith', 'Judson', 'Juergen', 'Jules', 'Julian', 'Julio', 'Julius', 'Justin', 'Justis', 'Kaiser', 'Kaleb', 'Kalil', 'Kalman', 'Kalvin', 'Kam', 'Kareem', 'Karel', 'Karim', 'Karl', 'Karsten', 'Kaspar', 'Keenan', 'Keil', 'Keith', 'Kellen', 'Kelvin', 'Kelwin', 'Ken', 'Kendal', 'Kendall', 'Kendrick', 'Kenn', 'Kenneth', 'Kent', 'Kenton', 'Kenyon', 'Kermit', 'Kevan', 'Kevin', 'Kim', 'Kimball', 'Kimmo', 'Kin', 'Kincaid', 'King', 'Kingston', 'Kip', 'Kirk', 'Kit', 'Klaus', 'Knox', 'Konrad', 'Konstantin', 'Kostas', 'Kraig', 'Kris', 'Kristian', 'Kristopher', 'Kristos', 'Kurt', 'Kurtis', 'Laird', 'Lamar', 'Lambert', 'Lamont', 'Lancelot', 'Langston', 'Lars', 'Lauren', 'Laurens', 'Laurent', 'Lawson', 'Lawton', 'Layton', 'Lazar', 'Lazaro', 'Lazarus', 'Lazlo', 'Leif', 'Leigh', 'Leighton', 'Leland', 'Lem', 'Lemar', 'Lemuel', 'Len', 'Lenard', 'Leo', 'Leon', 'Leonard', 'Leonardo', 'Leonerd', 'Leonhard', 'Leonid', 'Leonidas', 'Leopold', 'Les', 'Lester', 'Lev', 'Levi', 'Levin', 'Levon', 'Lew', 'Lewis', 'Lex', 'Liam', 'Lin', 'Lincoln', 'Lind', 'Linoel', 'Linus', 'Lion', 'Lionel', 'Lionello', 'Llewellyn', 'Lloyd', 'Lockwood', 'Logan', 'Lon', 'Loren', 'Lorenzo', 'Lothar', 'Lou', 'Louis', 'Lovell', 'Lowell', 'Lucas', 'Lucian', 'Luciano', 'Lucien', 'Lucio', 'Lucius', 'Ludvig', 'Ludwig', 'Luigi', 'Luis', 'Lukas', 'Luther', 'Lyn', 'Lyndon', 'Lynn', 'Mac', 'Mack', 'Madison', 'Magnum', 'Magnus', 'Mahesh', 'Mahmoud', 'Mahmud', 'Maison', 'Major', 'Malcolm', 'Manfred', 'Manish', 'Manuel', 'Marc', 'Marcel', 'Marcello', 'Marcellus', 'Marcelo', 'Marchall', 'Marcio', 'Marco', 'Marcos', 'Marcus', 'Marilu', 'Mario', 'Marion', 'Marius', 'Mark', 'Marko', 'Markos', 'Markus', 'Marlin', 'Marlo', 'Marlon', 'Marlow', 'Marsh', 'Marshal', 'Marshall', 'Mart', 'Martainn', 'Marten', 'Martin', 'Martino', 'Martyn', 'Marv', 'Marven', 'Marvin', 'Marwin', 'Mason', 'Mateo', 'Mathew', 'Mathias', 'Matias', 'Matt', 'Matteo', 'Matthaeus', 'Mattheus', 'Matthew', 'Matthias', 'Matthieu', 'Matthiew', 'Matthus', 'Mattias', 'Mauricio', 'Maurits', 'Mauritz', 'Max', 'Maxfield', 'Maxim', 'Maximilian', 'Maximilien', 'Maxwell', 'Mayer', 'Maynard', 'Maynord', 'Mayor', 'Mead', 'Meier', 'Meir', 'Mel', 'Melvin', 'Melvyn', 'Menard', 'Mendel', 'Meredeth', 'Meredith', 'Merell', 'Merill', 'Merlin', 'Merrel', 'Merrick', 'Merril', 'Merrill', 'Merv', 'Mervin', 'Merwin', 'Meryl', 'Meyer', 'Mic', 'Micah', 'Michael', 'Michail', 'Michal', 'Micheal', 'Micheil', 'Michel', 'Mick', 'Miguel', 'Mikael', 'Mikel', 'Mikhail', 'Miles', 'Millicent', 'Milo', 'Milt', 'Milton', 'Mitch', 'Mitchael', 'Mitchel', 'Mitchell', 'Mohamad', 'Mohamed', 'Mohammad', 'Mohammed', 'Mohan', 'Moises', 'Mordecai', 'Morgan', 'Morris', 'Mort', 'Morten', 'Mortimer', 'Morton', 'Moses', 'Moss', 'Muffin', 'Muhammad', 'Munmro', 'Murdoch', 'Murdock', 'Myles', 'Mylo', 'Myron', 'Nahum', 'Napoleon', 'Nat', 'Nathan', 'Nathanael', 'Nathanial', 'Nathaniel', 'Nathanil', 'Neal', 'Neall', 'Nealon', 'Nealson', 'Ned', 'Neel', 'Neil', 'Nels', 'Nelsen', 'Nelson', 'Nero', 'Neron', 'Nester', 'Nestor', 'Nev', 'Nevil', 'Nevin', 'Nevins', 'Newton', 'Niall', 'Niccolo', 'Nicholas', 'Nichols', 'Nick', 'Nickolas', 'Nico', 'Nicolas', 'Niels', 'Nigel', 'Niki', 'Nikki', 'Nikolai', 'Nikos', 'Niles', 'Nils', 'Nilson', 'Niven', 'Noach', 'Noah', 'Noam', 'Noel', 'Nolan', 'Noland', 'Norbert', 'Norm', 'Norman', 'Normand', 'Norris', 'Northrop', 'Northrup', 'Norton', 'Norwood', 'Nunzio', 'Obadiah', 'Obadias', 'Oberon', 'Octavius', 'Odell', 'Odin', 'Odysseus', 'Olaf', 'Olag', 'Oleg', 'Olin', 'Oliver', 'Olivier', 'Omar', 'Oral', 'Oran', 'Orazio', 'Orbadiah', 'Oren', 'Orin', 'Orion', 'Orlando', 'Orren', 'Orrin', 'Orson', 'Orton', 'Osbert', 'Osborn', 'Osbourn', 'Oscar', 'Osgood', 'Osmond', 'Osmund', 'Oswald', 'Oswell', 'Otes', 'Othello', 'Otho', 'Otis', 'Otto', 'Owen', 'Pablo', 'Paco', 'Padraig', 'Pail', 'Palmer', 'Paolo', 'Park', 'Parker', 'Parnell', 'Parrnell', 'Parsifal', 'Pascal', 'Pat', 'Patel', 'Paten', 'Patin', 'Paton', 'Patric', 'Patricio', 'Patrick', 'Patrik', 'Paul', 'Paulo', 'Pavel', 'Pedro', 'Pen', 'Penn', 'Penrod', 'Pepillo', 'Pepito', 'Perceval', 'Percival', 'Peter', 'Petr', 'Peyter', 'Peyton', 'Phil', 'Philbert', 'Philip', 'Phillip', 'Phillipp', 'Phineas', 'Phip', 'Pierson', 'Piet', 'Pieter', 'Pietro', 'Pincas', 'Pinchas', 'Pincus', 'Piotr', 'Pip', 'Plato', 'Pooh', 'Porter', 'Poul', 'Powell', 'Praneetf', 'Prasad', 'Prasun', 'Prent', 'Prentiss', 'Prescott', 'Preston', 'Puff', 'Purcell', 'Putnam', 'Pyotr', 'Quent', 'Quentin', 'Quigman', 'Quill', 'Quillan', 'Quinlan', 'Quinn', 'Quint', 'Quintin', 'Quinton', 'Quintus', 'Rab', 'Rabbi', 'Rabi', 'Rad', 'Rafael', 'Ragnar', 'Raimund', 'Rainer', 'Raj', 'Rajeev', 'Raleigh', 'Ralf', 'Ralph', 'Ram', 'Ramesh', 'Ramon', 'Rand', 'Randal', 'Randall', 'Randell', 'Randi', 'Randolf', 'Randolph', 'Ransell', 'Ransom', 'Raoul', 'Raphael', 'Raul', 'Ravi', 'Ravil', 'Raymond', 'Raymund', 'Raymundo', 'Raynard', 'Rayner', 'Raynor', 'Reagan', 'Red', 'Redford', 'Redmond', 'Reed', 'Rees', 'Reg', 'Regan', 'Regen', 'Reggis', 'Reginald', 'Reginauld', 'Reid', 'Reinhard', 'Reinhold', 'Rem', 'Remington', 'Remus', 'Renado', 'Renaldo', 'Renard', 'Renato', 'Renaud', 'Renault', 'Reuben', 'Reuven', 'Rex', 'Reynard', 'Reynold', 'Reynolds', 'Rhett', 'Ric', 'Ricard', 'Ricardo', 'Riccardo', 'Rich', 'Richard', 'Richardo', 'Richmond', 'Rick', 'Rickard', 'Ricki', 'Rik', 'Rikki', 'Rinaldo', 'Ritch', 'Rob', 'Robb', 'Robbert', 'Robert', 'Roberto', 'Robin', 'Robinson', 'Rochester', 'Rock', 'Rockwell', 'Rod', 'Rodd', 'Roderic', 'Roderich', 'Roderick', 'Roderigo', 'Rodger', 'Rodolfo', 'Rodolph', 'Rodrick', 'Rodrigo', 'Rog', 'Roger', 'Rogers', 'Roland', 'Rolando', 'Rolf', 'Rolland', 'Rollin', 'Rollins', 'Rollo', 'Rolph', 'Romain', 'Roman', 'Romeo', 'Ron', 'Ronald', 'Ronen', 'Roni', 'Roosevelt', 'Ross', 'Roth', 'Rowland', 'Royal', 'Ruben', 'Rubin', 'Rudd', 'Rudiger', 'Rudolf', 'Rudolfo', 'Rudolph', 'Rudyard', 'Rufus', 'Rupert', 'Ruperto', 'Russ', 'Russel', 'Russell', 'Rustin', 'Rutger', 'Rutherford', 'Rutter', 'Ryan', 'Sal', 'Salem', 'Salim', 'Salman', 'Salmon', 'Salomo', 'Salomon', 'Salvador', 'Salvidor', 'Sam', 'Sampson', 'Samson', 'Samuel', 'Sancho', 'Sander', 'Sanders', 'Sanderson', 'Sandor', 'Sandro', 'Sanford', 'Sanson', 'Sargent', 'Saul', 'Sauncho', 'Saunder', 'Saunders', 'Saunderson', 'Saw', 'Sawyer', 'Sax', 'Saxon', 'Sayer', 'Sayers', 'Sayres', 'Schroeder', 'Schuyler', 'Scot', 'Scott', 'Scotti', 'Seamus', 'Sean', 'Sebastian', 'Sebastiano', 'Sebastien', 'Selig', 'Sergeant', 'Sergei', 'Sergent', 'Sergio', 'Seth', 'Seymour', 'Shadow', 'Shalom', 'Shamus', 'Shanan', 'Shannan', 'Shannon', 'Shaughn', 'Shaun', 'Shaw', 'Shawn', 'Sheff', 'Sheffield', 'Shelden', 'Sheldon', 'Shell', 'Shelton', 'Shem', 'Shep', 'Shepard', 'Shepherd', 'Sheppard', 'Shepperd', 'Sheridan', 'Sherlock', 'Sherman', 'Sherwin', 'Sherwood', 'Sherwynd', 'Shimon', 'Shlomo', 'Sholom', 'Shurlock', 'Shurwood', 'Si', 'Sibyl', 'Sid', 'Siegfried', 'Sig', 'Sigfrid', 'Sigfried', 'Sigmund', 'Silas', 'Silvain', 'Silvan', 'Silvano', 'Silvanus', 'Silvester', 'Silvio', 'Sim', 'Simeon', 'Simmonds', 'Simon', 'Sinclair', 'Sivert', 'Siward', 'Skell', 'Skip', 'Skipp', 'Skipper', 'Skipton', 'Skylar', 'Skyler', 'Slim', 'Sloan', 'Smith', 'Socrates', 'Sol', 'Solomon', 'Somerset', 'Son', 'Spencer', 'Spenser', 'Spiro', 'Spiros', 'Spud', 'Srinivas', 'Staffard', 'Stafford', 'Staford', 'Stan', 'Standford', 'Stanfield', 'Stanford', 'Stanislaw', 'Stanleigh', 'Stanton', 'Stanwood', 'Stavros', 'Stearn', 'Stefan', 'Stefano', 'Steffen', 'Stephan', 'Stephanus', 'Stephen', 'Sterling', 'Stern', 'Steven', 'Stew', 'Steward', 'Stewart', 'Stig', 'Stillman', 'Stillmann', 'Sting', 'Stirling', 'Stu', 'Stuart', 'Sturgis', 'Sullivan', 'Sumner', 'Sutherland', 'Sutton', 'Sven', 'Swen', 'Syd', 'Sylvan', 'Sylvester', 'Tab', 'Tabb', 'Taber', 'Tabor', 'Tad', 'Tadd', 'Taddeo', 'Taddeus', 'Tadeas', 'Tailor', 'Tait', 'Talbert', 'Talbot', 'Tam', 'Tamas', 'Tan', 'Tann', 'Tanner', 'Tarrant', 'Tarzan', 'Taylor', 'Teador', 'Ted', 'Tedd', 'Tedman', 'Tedmund', 'Tedrick', 'Temp', 'Templeton', 'Teodoor', 'Teodor', 'Teodorico', 'Teodoro', 'Terencio', 'Terrel', 'Terrell', 'Terri', 'Terrill', 'Thacher', 'Thad', 'Thaddeus', 'Thaddius', 'Thaddus', 'Thadeus', 'Thain', 'Tharen', 'Thatch', 'Thatcher', 'Thaxter', 'Thebault', 'Thedric', 'Thedrick', 'Theo', 'Theobald', 'Theodor', 'Theodoric', 'Theophyllus', 'Thibaud', 'Thibaut', 'Thom', 'Thomas', 'Thor', 'Thorn', 'Thornton', 'Thorstein', 'Thorsten', 'Thorvald', 'Thurstan', 'Thurston', 'Tibold', 'Tiebold', 'Tiebout', 'Tiler', 'Tim', 'Timotheus', 'Tirrell', 'Tito', 'Titos', 'Titus', 'Tobiah', 'Tobias', 'Tobin', 'Tobit', 'Tod', 'Todd', 'Tom', 'Tomas', 'Tomkin', 'Tomlin', 'Torin', 'Torr', 'Torrin', 'Town', 'Townsend', 'Traver', 'Travers', 'Travis', 'Tremain', 'Trent', 'Trenton', 'Trev', 'Trevar', 'Trever', 'Trevor', 'Trip', 'Tristan', 'Truman', 'Tuck', 'Tucker', 'Tudor', 'Tull', 'Turner', 'Tybalt', 'Tyler', 'Tymon', 'Tynan', 'Tyrus', 'Tyson', 'Udall', 'Udell', 'Ugo', 'Ulberto', 'Uli', 'Ulick', 'Ulises', 'Ulric', 'Ulrich', 'Ulrick', 'Ulysses', 'Umberto', 'Upton', 'Urbain', 'Urban', 'Urbano', 'Urbanus', 'Uri', 'Uriah', 'Uriel', 'Urson', 'Vachel', 'Vaclav', 'Vail', 'Val', 'Valdemar', 'Valentin', 'Van', 'Vasili', 'Vasilis', 'Vassili', 'Vaughan', 'Vaughn', 'Venkat', 'Vergil', 'Vern', 'Vernen', 'Vernon', 'Vernor', 'Vic', 'Vick', 'Victor', 'Vilhelm', 'Vin', 'Vincent', 'Vincents', 'Vinod', 'Virgil', 'Virgilio', 'Vito', 'Vlad', 'Vladamir', 'Vladimir', 'Von', 'Wadsworth', 'Wain', 'Wainwright', 'Wait', 'Waiter', 'Wakefield', 'Wald', 'Waldemar', 'Walden', 'Waldo', 'Waldon', 'Waleed', 'Walker', 'Wallas', 'Wallis', 'Walsh', 'Walt', 'Walter', 'Walther', 'Walton', 'Wang', 'Ward', 'Warden', 'Waring', 'Warner', 'Warren', 'Wash', 'Washington', 'Wat', 'Waylan', 'Wayland', 'Waylen', 'Waylin', 'Waylon', 'Web', 'Webb', 'Weber', 'Webster', 'Weidar', 'Weider', 'Welch', 'Wells', 'Welsh', 'Wendall', 'Wendel', 'Wendell', 'Werner', 'Wes', 'West', 'Westbrook', 'Westleigh', 'Weston', 'Weylin', 'Wheeler', 'Whit', 'Whitaker', 'Whitman', 'Whittaker', 'Wiatt', 'Wilber', 'Wilbert', 'Wilbur', 'Wilburn', 'Wilburt', 'Wilden', 'Wildon', 'Wilek', 'Wilfred', 'Wilfrid', 'Wilhelm', 'Will', 'Willard', 'Willdon', 'Willem', 'Willi', 'William', 'Willis', 'Willmott', 'Wilmar', 'Wilmer', 'Wilson', 'Wilt', 'Wilton', 'Win', 'Windham', 'Winfield', 'Winford', 'Winfred', 'Winifield', 'Winn', 'Winslow', 'Winston', 'Winthrop', 'Winton', 'Wit', 'Witold', 'Wojciech', 'Wolf', 'Wolfgang', 'Wolfram', 'Woochang', 'Wood', 'Woodman', 'Woodrow', 'Worden', 'Worth', 'Worthington', 'Wright', 'Wyatan', 'Wyatt', 'Wyn', 'Wyndham', 'Wynn', 'Wynton', 'Xavier', 'Xenos', 'Xerxes', 'Xever', 'Ximenes', 'Ximenez', 'Xymenes', 'Yaakov', 'Yacov', 'Yanaton', 'Yank', 'Yard', 'Yehudi', 'Yigal', 'Yuri', 'Yves', 'Zach', 'Zachariah', 'Zacharias', 'Zack', 'Zackariah', 'Zak', 'Zalman', 'Zared', 'Zeb', 'Zebadiah', 'Zebulen', 'Zebulon', 'Zechariah', 'Zed', 'Zedekiah', 'Zelig', 'Zerk', 'Zeus', 'Zorro', 'Rahul', 'Shumeet', 'Vibhu']\n"
     ]
    }
   ],
   "source": [
    "words = []\n",
    "for line in open('male.txt'):\n",
    "    words += [w for w in line.split() if w.endswith('a') is False and w.endswith('y') is False and w.endswith('e') is False ]\n",
    "print(words)"
   ]
  },
  {
   "cell_type": "code",
   "execution_count": 4,
   "metadata": {},
   "outputs": [
    {
     "data": {
      "text/plain": [
       "2114"
      ]
     },
     "execution_count": 4,
     "metadata": {},
     "output_type": "execute_result"
    }
   ],
   "source": [
    "len(words)"
   ]
  },
  {
   "cell_type": "code",
   "execution_count": 5,
   "metadata": {},
   "outputs": [
    {
     "data": {
      "text/plain": [
       "5004"
      ]
     },
     "execution_count": 5,
     "metadata": {},
     "output_type": "execute_result"
    }
   ],
   "source": [
    "len(female.split())"
   ]
  },
  {
   "cell_type": "code",
   "execution_count": 6,
   "metadata": {},
   "outputs": [
    {
     "name": "stdout",
     "output_type": "stream",
     "text": [
      "['Abagael', 'Abagail', 'Abbe', 'Abbey', 'Abbi', 'Abbie', 'Abby', 'Abigael', 'Abigail', 'Abigale', 'Abra', 'Acacia', 'Ada', 'Adah', 'Adaline', 'Adara', 'Addie', 'Addis', 'Adel', 'Adela', 'Adelaide', 'Adele', 'Adelice', 'Adelina', 'Adelind', 'Adeline', 'Adella', 'Adelle', 'Adena', 'Adey', 'Adi', 'Adiana', 'Adina', 'Adora', 'Adore', 'Adoree', 'Adorne', 'Adrea', 'Adria', 'Adriaens', 'Adrian', 'Adriana', 'Adriane', 'Adrianna', 'Adrianne', 'Adrien', 'Adriena', 'Adrienne', 'Aeriel', 'Aeriela', 'Aeriell', 'Agace', 'Agata', 'Agatha', 'Agathe', 'Aggi', 'Aggie', 'Aggy', 'Agna', 'Agnella', 'Agnes', 'Agnese', 'Agnesse', 'Agneta', 'Agnola', 'Agretha', 'Aida', 'Aidan', 'Aigneis', 'Aila', 'Aile', 'Ailee', 'Aileen', 'Ailene', 'Ailey', 'Aili', 'Ailina', 'Ailyn', 'Aime', 'Aimee', 'Aimil', 'Aina', 'Aindrea', 'Ainslee', 'Ainsley', 'Ainslie', 'Ajay', 'Alaine', 'Alameda', 'Alana', 'Alanah', 'Alane', 'Alanna', 'Alayne', 'Alberta', 'Albertina', 'Albertine', 'Albina', 'Alecia', 'Aleda', 'Aleece', 'Aleecia', 'Aleen', 'Alejandra', 'Alejandrina', 'Alena', 'Alene', 'Alessandra', 'Aleta', 'Alethea', 'Alexa', 'Alexandra', 'Alexandrina', 'Alexi', 'Alexia', 'Alexina', 'Alexine', 'Alexis', 'Alfie', 'Alfreda', 'Ali', 'Alia', 'Alica', 'Alice', 'Alicea', 'Alicia', 'Alida', 'Alidia', 'Alina', 'Aline', 'Alis', 'Alisa', 'Alisha', 'Alison', 'Alissa', 'Alisun', 'Aliza', 'Alla', 'Alleen', 'Allegra', 'Allene', 'Alli', 'Allianora', 'Allie', 'Allina', 'Allis', 'Allison', 'Allissa', 'Allsun', 'Ally', 'Allyce', 'Allyn', 'Allys', 'Allyson', 'Alma', 'Almeda', 'Almeria', 'Almeta', 'Almira', 'Almire', 'Aloise', 'Aloisia', 'Aloysia', 'Alpa', 'Alta', 'Althea', 'Alvera', 'Alvina', 'Alvinia', 'Alvira', 'Alyce', 'Alyda', 'Alys', 'Alysa', 'Alyse', 'Alysia', 'Alyson', 'Alyss', 'Alyssa', 'Amabel', 'Amabelle', 'Amalea', 'Amalee', 'Amaleta', 'Amalia', 'Amalie', 'Amalita', 'Amalle', 'Amanda', 'Amandi', 'Amandie', 'Amandy', 'Amara', 'Amargo', 'Amata', 'Amber', 'Amberly', 'Ambrosia', 'Ambur', 'Ame', 'Amelia', 'Amelie', 'Amelina', 'Ameline', 'Amelita', 'Ami', 'Amie', 'Amity', 'Ammamaria', 'Ana', 'Anabel', 'Anabella', 'Anabelle', 'Anais', 'Analiese', 'Analise', 'Anallese', 'Anallise', 'Anastasia', 'Anastasie', 'Anastassia', 'Anatola', 'Andee', 'Andi', 'Andie', 'Andra', 'Andrea', 'Andreana', 'Andree', 'Andrei', 'Andria', 'Andriana', 'Andriette', 'Andromache', 'Andromeda', 'Andy', 'Anestassia', 'Anet', 'Anett', 'Anetta', 'Anette', 'Ange', 'Angel', 'Angela', 'Angele', 'Angelia', 'Angelica', 'Angelika', 'Angelina', 'Angeline', 'Angelique', 'Angelita', 'Angelle', 'Angie', 'Angil', 'Angy', 'Ania', 'Anica', 'Anissa', 'Anita', 'Anitra', 'Anja', 'Anjanette', 'Anjela', 'Ann', 'Ann-Mari', 'Ann-Marie', 'Anna', 'Anna-Diana', 'Anna-Diane', 'Anna-Maria', 'Annabal', 'Annabel', 'Annabela', 'Annabell', 'Annabella', 'Annabelle', 'Annadiana', 'Annadiane', 'Annalee', 'Annalena', 'Annaliese', 'Annalisa', 'Annalise', 'Annalyse', 'Annamari', 'Annamaria', 'Annamarie', 'Anne', 'Anne-Corinne', 'Anne-Mar', 'Anne-Marie', 'Annecorinne', 'Anneliese', 'Annelise', 'Annemarie', 'Annetta', 'Annette', 'Anni', 'Annice', 'Annie', 'Annissa', 'Annmaria', 'Annmarie', 'Annnora', 'Annora', 'Anny', 'Anselma', 'Ansley', 'Anstice', 'Anthe', 'Anthea', 'Anthia', 'Antoinette', 'Antonella', 'Antonetta', 'Antonia', 'Antonie', 'Antonietta', 'Antonina', 'Anya', 'Aphrodite', 'Appolonia', 'April', 'Aprilette', 'Ara', 'Arabel', 'Arabela', 'Arabele', 'Arabella', 'Arabelle', 'Arda', 'Ardath', 'Ardeen', 'Ardelia', 'Ardelis', 'Ardella', 'Ardelle', 'Arden', 'Ardene', 'Ardenia', 'Ardine', 'Ardis', 'Ardith', 'Ardra', 'Ardyce', 'Ardys', 'Ardyth', 'Aretha', 'Ariadne', 'Ariana', 'Arianne', 'Aridatha', 'Ariel', 'Ariela', 'Ariella', 'Arielle', 'Arlana', 'Arlee', 'Arleen', 'Arlen', 'Arlena', 'Arlene', 'Arleta', 'Arlette', 'Arleyne', 'Arlie', 'Arliene', 'Arlina', 'Arlinda', 'Arline', 'Arly', 'Arlyn', 'Arlyne', 'Aryn', 'Ashely', 'Ashlee', 'Ashleigh', 'Ashlen', 'Ashley', 'Ashli', 'Ashlie', 'Ashly', 'Asia', 'Astra', 'Astrid', 'Atalanta', 'Athena', 'Athene', 'Atlanta', 'Atlante', 'Auberta', 'Aubine', 'Aubree', 'Aubrette', 'Aubrey', 'Aubrie', 'Aubry', 'Audi', 'Audie', 'Audra', 'Audre', 'Audrey', 'Audrie', 'Audry', 'Audrye', 'Audy', 'Augusta', 'Auguste', 'Augustina', 'Augustine', 'Aura', 'Aurea', 'Aurel', 'Aurelea', 'Aurelia', 'Aurelie', 'Auria', 'Aurie', 'Aurilia', 'Aurlie', 'Auroora', 'Aurora', 'Aurore', 'Austin', 'Austina', 'Austine', 'Ava', 'Aveline', 'Averil', 'Averyl', 'Avie', 'Avis', 'Aviva', 'Avivah', 'Avril', 'Avrit', 'Ayn', 'Bab', 'Babara', 'Babette', 'Babita', 'Babs', 'Bambi', 'Bambie', 'Bamby', 'Barb', 'Barbabra', 'Barbara', 'Barbara-Anne', 'Barbaraanne', 'Barbe', 'Barbee', 'Barbette', 'Barbey', 'Barbi', 'Barbie', 'Barbra', 'Barby', 'Bari', 'Barrie', 'Barry', 'Basia', 'Bathsheba', 'Batsheva', 'Bea', 'Beatrice', 'Beatrisa', 'Beatriz', 'Beau', 'Bebe', 'Becca', 'Becka', 'Becki', 'Beckie', 'Becky', 'Bee', 'Beilul', 'Beitris', 'Bekki', 'Bel', 'Belia', 'Belicia', 'Belinda', 'Belita', 'Bell', 'Bella', 'Bellanca', 'Belle', 'Bellina', 'Belva', 'Belvia', 'Bendite', 'Benedetta', 'Benedicta', 'Benedikta', 'Benetta', 'Benita', 'Benni', 'Bennie', 'Benny', 'Benoite', 'Berenice', 'Beret', 'Berget', 'Berna', 'Bernadene', 'Bernadette', 'Bernadina', 'Bernadine', 'Bernardina', 'Bernardine', 'Bernelle', 'Bernete', 'Bernetta', 'Bernette', 'Berni', 'Bernice', 'Bernie', 'Bernita', 'Berny', 'Berri', 'Berrie', 'Berry', 'Bert', 'Berta', 'Berte', 'Bertha', 'Berthe', 'Berti', 'Bertie', 'Bertina', 'Bertine', 'Berty', 'Beryl', 'Beryle', 'Bess', 'Bessie', 'Bessy', 'Beth', 'Bethanne', 'Bethany', 'Bethena', 'Bethina', 'Betsey', 'Betsy', 'Betta', 'Bette', 'Bette-Ann', 'Betteann', 'Betteanne', 'Betti', 'Bettie', 'Bettina', 'Bettine', 'Betty', 'Bettye', 'Beulah', 'Bev', 'Beverie', 'Beverlee', 'Beverlie', 'Beverly', 'Bevvy', 'Bianca', 'Bianka', 'Biddy', 'Bidget', 'Bill', 'Billi', 'Billie', 'Billy', 'Binni', 'Binnie', 'Binny', 'Bird', 'Birdie', 'Birgit', 'Birgitta', 'Blair', 'Blaire', 'Blake', 'Blakelee', 'Blakeley', 'Blanca', 'Blanch', 'Blancha', 'Blanche', 'Blinni', 'Blinnie', 'Blinny', 'Bliss', 'Blisse', 'Blithe', 'Blondell', 'Blondelle', 'Blondie', 'Blondy', 'Blythe', 'Bo', 'Bobbette', 'Bobbi', 'Bobbie', 'Bobby', 'Bobette', 'Bobina', 'Bobine', 'Bobinette', 'Bonita', 'Bonnee', 'Bonni', 'Bonnie', 'Bonny', 'Brana', 'Brandais', 'Brande', 'Brandea', 'Brandi', 'Brandice', 'Brandie', 'Brandise', 'Brandy', 'Brea', 'Breanne', 'Brear', 'Bree', 'Breena', 'Bren', 'Brena', 'Brenda', 'Brenn', 'Brenna', 'Brett', 'Bria', 'Briana', 'Brianna', 'Brianne', 'Bride', 'Bridget', 'Bridgett', 'Bridgette', 'Bridie', 'Brier', 'Brietta', 'Brigid', 'Brigida', 'Brigit', 'Brigitta', 'Brigitte', 'Brina', 'Briney', 'Briny', 'Brit', 'Brita', 'Britaney', 'Britani', 'Briteny', 'Britney', 'Britni', 'Britt', 'Britta', 'Brittan', 'Brittany', 'Britte', 'Brittney', 'Brook', 'Brooke', 'Brooks', 'Brunella', 'Brunhilda', 'Brunhilde', 'Bryana', 'Bryn', 'Bryna', 'Brynn', 'Brynna', 'Brynne', 'Buffy', 'Bunni', 'Bunnie', 'Bunny', 'Burta', 'Cabrina', 'Cacilia', 'Cacilie', 'Caitlin', 'Caitrin', 'Cal', 'Calida', 'Calla', 'Calley', 'Calli', 'Callida', 'Callie', 'Cally', 'Calypso', 'Camala', 'Camel', 'Camella', 'Camellia', 'Cameo', 'Cami', 'Camila', 'Camile', 'Camilla', 'Camille', 'Cammi', 'Cammie', 'Canada', 'Candace', 'Candi', 'Candice', 'Candida', 'Candide', 'Candie', 'Candis', 'Candra', 'Candy', 'Cappella', 'Caprice', 'Cara', 'Caralie', 'Caren', 'Carena', 'Caresa', 'Caressa', 'Caresse', 'Carey', 'Cari', 'Caria', 'Carie', 'Caril', 'Carilyn', 'Carin', 'Carina', 'Carine', 'Cariotta', 'Carissa', 'Carita', 'Caritta', 'Carla', 'Carlee', 'Carleen', 'Carlen', 'Carlena', 'Carlene', 'Carley', 'Carli', 'Carlie', 'Carlin', 'Carlina', 'Carline', 'Carlisle', 'Carlita', 'Carlota', 'Carlotta', 'Carly', 'Carlye', 'Carlyn', 'Carlynn', 'Carlynne', 'Carma', 'Carmel', 'Carmela', 'Carmelia', 'Carmelina', 'Carmelita', 'Carmella', 'Carmelle', 'Carmen', 'Carmina', 'Carmine', 'Carmita', 'Carmon', 'Caro', 'Carol', 'Carol-Jean', 'Carola', 'Carolan', 'Carolann', 'Carole', 'Carolee', 'Caroleen', 'Carolie', 'Carolin', 'Carolina', 'Caroline', 'Caroljean', 'Carolyn', 'Carolyne', 'Carolynn', 'Caron', 'Carree', 'Carri', 'Carrie', 'Carrissa', 'Carrol', 'Carroll', 'Carry', 'Cary', 'Caryl', 'Caryn', 'Casandra', 'Casey', 'Casi', 'Casia', 'Casie', 'Cass', 'Cassandra', 'Cassandre', 'Cassandry', 'Cassaundra', 'Cassey', 'Cassi', 'Cassie', 'Cassondra', 'Cassy', 'Cat', 'Catarina', 'Cate', 'Caterina', 'Catha', 'Catharina', 'Catharine', 'Cathe', 'Cathee', 'Catherin', 'Catherina', 'Catherine', 'Cathi', 'Cathie', 'Cathleen', 'Cathlene', 'Cathrin', 'Cathrine', 'Cathryn', 'Cathy', 'Cathyleen', 'Cati', 'Catie', 'Catina', 'Catlaina', 'Catlee', 'Catlin', 'Catrina', 'Catriona', 'Caty', 'Cayla', 'Cecelia', 'Cecil', 'Cecile', 'Ceciley', 'Cecilia', 'Cecilla', 'Cecily', 'Ceil', 'Cele', 'Celene', 'Celesta', 'Celeste', 'Celestia', 'Celestina', 'Celestine', 'Celestyn', 'Celestyna', 'Celia', 'Celie', 'Celina', 'Celinda', 'Celine', 'Celinka', 'Celisse', 'Celle', 'Cesya', 'Chad', 'Chanda', 'Chandal', 'Chandra', 'Channa', 'Chantal', 'Chantalle', 'Charil', 'Charin', 'Charis', 'Charissa', 'Charisse', 'Charita', 'Charity', 'Charla', 'Charlean', 'Charleen', 'Charlena', 'Charlene', 'Charline', 'Charlot', 'Charlott', 'Charlotta', 'Charlotte', 'Charmain', 'Charmaine', 'Charmane', 'Charmian', 'Charmine', 'Charmion', 'Charo', 'Charyl', 'Chastity', 'Chelsae', 'Chelsea', 'Chelsey', 'Chelsie', 'Chelsy', 'Cher', 'Chere', 'Cherey', 'Cheri', 'Cherianne', 'Cherice', 'Cherida', 'Cherie', 'Cherilyn', 'Cherilynn', 'Cherin', 'Cherise', 'Cherish', 'Cherlyn', 'Cherri', 'Cherrita', 'Cherry', 'Chery', 'Cherye', 'Cheryl', 'Cheslie', 'Chiarra', 'Chickie', 'Chicky', 'Chiquita', 'Chloe', 'Chloette', 'Chloris', 'Chris', 'Chriss', 'Chrissa', 'Chrissie', 'Chrissy', 'Christa', 'Christabel', 'Christabella', 'Christabelle', 'Christal', 'Christalle', 'Christan', 'Christean', 'Christel', 'Christen', 'Christi', 'Christian', 'Christiana', 'Christiane', 'Christie', 'Christin', 'Christina', 'Christine', 'Christy', 'Christyna', 'Chrysa', 'Chrysler', 'Chrystal', 'Chryste', 'Chrystel', 'Ciara', 'Cicely', 'Cicily', 'Ciel', 'Cilka', 'Cinda', 'Cindee', 'Cindelyn', 'Cinderella', 'Cindi', 'Cindie', 'Cindra', 'Cindy', 'Cinnamon', 'Cissie', 'Cissy', 'Clair', 'Claire', 'Clara', 'Clarabelle', 'Clare', 'Claresta', 'Clareta', 'Claretta', 'Clarette', 'Clarey', 'Clari', 'Claribel', 'Clarice', 'Clarie', 'Clarinda', 'Clarine', 'Clarisa', 'Clarissa', 'Clarisse', 'Clarita', 'Clary', 'Claude', 'Claudelle', 'Claudetta', 'Claudette', 'Claudia', 'Claudie', 'Claudina', 'Claudine', 'Clea', 'Clemence', 'Clementia', 'Clementina', 'Clementine', 'Clemmie', 'Cleo', 'Cleopatra', 'Clerissa', 'Cleva', 'Clio', 'Clo', 'Cloe', 'Cloris', 'Clotilda', 'Clovis', 'Codee', 'Codi', 'Codie', 'Cody', 'Coleen', 'Colene', 'Coletta', 'Colette', 'Colleen', 'Collete', 'Collette', 'Collie', 'Colline', 'Colly', 'Con', 'Concettina', 'Conchita', 'Concordia', 'Conney', 'Conni', 'Connie', 'Conny', 'Consolata', 'Constance', 'Constancia', 'Constancy', 'Constanta', 'Constantia', 'Constantina', 'Constantine', 'Consuela', 'Consuelo', 'Cookie', 'Cora', 'Corabel', 'Corabella', 'Corabelle', 'Coral', 'Coralie', 'Coraline', 'Coralyn', 'Cordelia', 'Cordelie', 'Cordey', 'Cordie', 'Cordula', 'Cordy', 'Coreen', 'Corella', 'Corena', 'Corenda', 'Corene', 'Coretta', 'Corette', 'Corey', 'Cori', 'Corie', 'Corilla', 'Corina', 'Corine', 'Corinna', 'Corinne', 'Coriss', 'Corissa', 'Corliss', 'Corly', 'Cornela', 'Cornelia', 'Cornelle', 'Cornie', 'Corny', 'Correna', 'Correy', 'Corri', 'Corrianne', 'Corrie', 'Corrina', 'Corrine', 'Corrinne', 'Corry', 'Cortney', 'Cory', 'Cosetta', 'Cosette', 'Courtenay', 'Courtney', 'Cresa', 'Cris', 'Crissie', 'Crissy', 'Crista', 'Cristabel', 'Cristal', 'Cristen', 'Cristi', 'Cristie', 'Cristin', 'Cristina', 'Cristine', 'Cristionna', 'Cristy', 'Crysta', 'Crystal', 'Crystie', 'Cyb', 'Cybal', 'Cybel', 'Cybelle', 'Cybil', 'Cybill', 'Cyndi', 'Cyndy', 'Cynthea', 'Cynthia', 'Cynthie', 'Cynthy', 'Dacey', 'Dacia', 'Dacie', 'Dacy', 'Dael', 'Daffi', 'Daffie', 'Daffy', 'Dafna', 'Dagmar', 'Dahlia', 'Daile', 'Daisey', 'Daisi', 'Daisie', 'Daisy', 'Dale', 'Dalenna', 'Dalia', 'Dalila', 'Dallas', 'Daloris', 'Damara', 'Damaris', 'Damita', 'Dana', 'Danell', 'Danella', 'Danelle', 'Danette', 'Dani', 'Dania', 'Danica', 'Danice', 'Daniel', 'Daniela', 'Daniele', 'Daniella', 'Danielle', 'Danika', 'Danila', 'Danit', 'Danita', 'Danna', 'Danni', 'Dannie', 'Danny', 'Dannye', 'Danya', 'Danyelle', 'Danyette', 'Daphene', 'Daphna', 'Daphne', 'Dara', 'Darb', 'Darbie', 'Darby', 'Darcee', 'Darcey', 'Darci', 'Darcie', 'Darcy', 'Darda', 'Dareen', 'Darell', 'Darelle', 'Dari', 'Daria', 'Darice', 'Darla', 'Darleen', 'Darlene', 'Darline', 'Darryl', 'Darsey', 'Darsie', 'Darya', 'Daryl', 'Daryn', 'Dasha', 'Dasi', 'Dasie', 'Dasya', 'Datha', 'Daune', 'Daveen', 'Daveta', 'Davida', 'Davina', 'Davine', 'Davita', 'Dawn', 'Dawna', 'Dayle', 'Dayna', 'Dea', 'Deana', 'Deane', 'Deanna', 'Deanne', 'Deb', 'Debbi', 'Debbie', 'Debbra', 'Debby', 'Debee', 'Debera', 'Debi', 'Debor', 'Debora', 'Deborah', 'Debra', 'Dede', 'Dedie', 'Dedra', 'Dee', 'Dee', 'Dee', 'Deeann', 'Deeanne', 'Deedee', 'Deena', 'Deerdre', 'Dehlia', 'Deidre', 'Deina', 'Deirdre', 'Del', 'Dela', 'Delaney', 'Delcina', 'Delcine', 'Delia', 'Delila', 'Delilah', 'Delinda', 'Dell', 'Della', 'Delly', 'Delora', 'Delores', 'Deloria', 'Deloris', 'Delphina', 'Delphine', 'Delphinia', 'Demeter', 'Demetra', 'Demetria', 'Demetris', 'Dena', 'Deni', 'Denice', 'Denise', 'Denna', 'Denni', 'Dennie', 'Denny', 'Deny', 'Denys', 'Denyse', 'Deonne', 'Desaree', 'Desdemona', 'Desirae', 'Desiree', 'Desiri', 'Deva', 'Devan', 'Devi', 'Devin', 'Devina', 'Devinne', 'Devon', 'Devondra', 'Devonna', 'Devonne', 'Devora', 'Dew', 'Di', 'Diahann', 'Diamond', 'Dian', 'Diana', 'Diandra', 'Diane', 'Diane-Marie', 'Dianemarie', 'Diann', 'Dianna', 'Dianne', 'Diannne', 'Didi', 'Dido', 'Diena', 'Dierdre', 'Dina', 'Dinah', 'Dinnie', 'Dinny', 'Dion', 'Dione', 'Dionis', 'Dionne', 'Dita', 'Dixie', 'Dode', 'Dodi', 'Dodie', 'Dody', 'Doe', 'Doll', 'Dolley', 'Dolli', 'Dollie', 'Dolly', 'Dolora', 'Dolores', 'Dolorita', 'Doloritas', 'Dominica', 'Dominique', 'Dona', 'Donella', 'Donelle', 'Donetta', 'Donia', 'Donica', 'Donielle', 'Donna', 'Donnajean', 'Donnamarie', 'Donni', 'Donnie', 'Donny', 'Dora', 'Doralia', 'Doralin', 'Doralyn', 'Doralynn', 'Doralynne', 'Dorcas', 'Dore', 'Doreen', 'Dorelia', 'Dorella', 'Dorelle', 'Dorena', 'Dorene', 'Doretta', 'Dorette', 'Dorey', 'Dori', 'Doria', 'Dorian', 'Dorice', 'Dorie', 'Dorine', 'Doris', 'Dorisa', 'Dorise', 'Dorit', 'Dorita', 'Doro', 'Dorolice', 'Dorolisa', 'Dorotea', 'Doroteya', 'Dorothea', 'Dorothee', 'Dorothy', 'Dorree', 'Dorri', 'Dorrie', 'Dorris', 'Dorry', 'Dorthea', 'Dorthy', 'Dory', 'Dosi', 'Dot', 'Doti', 'Dotti', 'Dottie', 'Dotty', 'Dove', 'Drea', 'Drew', 'Dulce', 'Dulcea', 'Dulci', 'Dulcia', 'Dulciana', 'Dulcie', 'Dulcine', 'Dulcinea', 'Dulcy', 'Dulsea', 'Dusty', 'Dyan', 'Dyana', 'Dyane', 'Dyann', 'Dyanna', 'Dyanne', 'Dyna', 'Dynah', \"E'Lane\", 'Eada', 'Eadie', 'Eadith', 'Ealasaid', 'Eartha', 'Easter', 'Eba', 'Ebba', 'Ebonee', 'Ebony', 'Eda', 'Eddi', 'Eddie', 'Eddy', 'Ede', 'Edee', 'Edeline', 'Eden', 'Edi', 'Edie', 'Edin', 'Edita', 'Edith', 'Editha', 'Edithe', 'Ediva', 'Edna', 'Edwina', 'Edy', 'Edyth', 'Edythe', 'Effie', 'Eileen', 'Eilis', 'Eimile', 'Eirena', 'Ekaterina', 'Elaina', 'Elaine', 'Elana', 'Elane', 'Elayne', 'Elberta', 'Elbertina', 'Elbertine', 'Eleanor', 'Eleanora', 'Eleanore', 'Electra', 'Elena', 'Elene', 'Eleni', 'Elenore', 'Eleonora', 'Eleonore', 'Elfie', 'Elfreda', 'Elfrida', 'Elfrieda', 'Elga', 'Elianora', 'Elianore', 'Elicia', 'Elie', 'Elinor', 'Elinore', 'Elisa', 'Elisabet', 'Elisabeth', 'Elisabetta', 'Elise', 'Elisha', 'Elissa', 'Elita', 'Eliza', 'Elizabet', 'Elizabeth', 'Elka', 'Elke', 'Ella', 'Elladine', 'Elle', 'Ellen', 'Ellene', 'Ellette', 'Elli', 'Ellie', 'Ellissa', 'Elly', 'Ellyn', 'Ellynn', 'Elmira', 'Elna', 'Elnora', 'Elnore', 'Eloisa', 'Eloise', 'Elonore', 'Elora', 'Elsa', 'Elsbeth', 'Else', 'Elsey', 'Elsi', 'Elsie', 'Elsinore', 'Elspeth', 'Elsy', 'Elva', 'Elvera', 'Elvina', 'Elvira', 'Elwina', 'Elwira', 'Elyn', 'Elyse', 'Elysee', 'Elysha', 'Elysia', 'Elyssa', 'Ema', 'Emalee', 'Emalia', 'Emanuela', 'Emelda', 'Emelia', 'Emelina', 'Emeline', 'Emelita', 'Emelyne', 'Emera', 'Emilee', 'Emili', 'Emilia', 'Emilie', 'Emiline', 'Emily', 'Emlyn', 'Emlynn', 'Emlynne', 'Emma', 'Emmalee', 'Emmaline', 'Emmalyn', 'Emmalynn', 'Emmalynne', 'Emmeline', 'Emmey', 'Emmi', 'Emmie', 'Emmye', 'Emogene', 'Emyle', 'Emylee', 'Endora', 'Engracia', 'Enid', 'Enrica', 'Enrichetta', 'Enrika', 'Enriqueta', 'Enya', 'Eolanda', 'Eolande', 'Eran', 'Erda', 'Erena', 'Erica', 'Ericha', 'Ericka', 'Erika', 'Erin', 'Erina', 'Erinn', 'Erinna', 'Erma', 'Ermengarde', 'Ermentrude', 'Ermina', 'Erminia', 'Erminie', 'Erna', 'Ernaline', 'Ernesta', 'Ernestine', 'Ertha', 'Eryn', 'Esma', 'Esmaria', 'Esme', 'Esmeralda', 'Esmerelda', 'Essa', 'Essie', 'Essy', 'Esta', 'Estel', 'Estele', 'Estell', 'Estella', 'Estelle', 'Ester', 'Esther', 'Estrella', 'Estrellita', 'Ethel', 'Ethelda', 'Ethelin', 'Ethelind', 'Etheline', 'Ethelyn', 'Ethyl', 'Etta', 'Etti', 'Ettie', 'Etty', 'Eudora', 'Eugenia', 'Eugenie', 'Eugine', 'Eula', 'Eulalie', 'Eunice', 'Euphemia', 'Eustacia', 'Eva', 'Evaleen', 'Evangelia', 'Evangelin', 'Evangelina', 'Evangeline', 'Evania', 'Evanne', 'Eve', 'Eveleen', 'Evelina', 'Eveline', 'Evelyn', 'Evette', 'Evey', 'Evie', 'Evita', 'Evonne', 'Evvie', 'Evvy', 'Evy', 'Eyde', 'Eydie', 'Fabrianne', 'Fabrice', 'Fae', 'Faina', 'Faith', 'Fallon', 'Fan', 'Fanchette', 'Fanchon', 'Fancie', 'Fancy', 'Fanechka', 'Fania', 'Fanni', 'Fannie', 'Fanny', 'Fanya', 'Fara', 'Farah', 'Farand', 'Farica', 'Farra', 'Farrah', 'Farrand', 'Fatima', 'Faun', 'Faunie', 'Faustina', 'Faustine', 'Fawn', 'Fawna', 'Fawne', 'Fawnia', 'Fay', 'Faydra', 'Faye', 'Fayette', 'Fayina', 'Fayre', 'Fayth', 'Faythe', 'Federica', 'Fedora', 'Felecia', 'Felicdad', 'Felice', 'Felicia', 'Felicity', 'Felicle', 'Felipa', 'Felisha', 'Felita', 'Feliza', 'Fenelia', 'Feodora', 'Ferdinanda', 'Ferdinande', 'Fern', 'Fernanda', 'Fernande', 'Fernandina', 'Ferne', 'Fey', 'Fiann', 'Fianna', 'Fidela', 'Fidelia', 'Fidelity', 'Fifi', 'Fifine', 'Filia', 'Filide', 'Filippa', 'Fina', 'Fiona', 'Fionna', 'Fionnula', 'Fiorenze', 'Fleur', 'Fleurette', 'Flo', 'Flor', 'Flora', 'Florance', 'Flore', 'Florella', 'Florence', 'Florencia', 'Florentia', 'Florenza', 'Florette', 'Flori', 'Floria', 'Florice', 'Florida', 'Florie', 'Florina', 'Florinda', 'Floris', 'Florri', 'Florrie', 'Florry', 'Flory', 'Flossi', 'Flossie', 'Flossy', 'Flower', 'Fortuna', 'Fortune', 'Fran', 'France', 'Francene', 'Frances', 'Francesca', 'Francesmary', 'Francine', 'Francis', 'Francisca', 'Franciska', 'Francoise', 'Francyne', 'Frank', 'Frankie', 'Franky', 'Franni', 'Frannie', 'Franny', 'Frayda', 'Fred', 'Freda', 'Freddi', 'Freddie', 'Freddy', 'Fredelia', 'Frederica', 'Fredericka', 'Fredi', 'Fredia', 'Fredra', 'Fredrika', 'Freida', 'Frieda', 'Friederike', 'Fulvia', 'Gabbey', 'Gabbi', 'Gabbie', 'Gabey', 'Gabi', 'Gabie', 'Gabriel', 'Gabriela', 'Gabriell', 'Gabriella', 'Gabrielle', 'Gabriellia', 'Gabrila', 'Gaby', 'Gae', 'Gael', 'Gail', 'Gale', 'Gale', 'Galina', 'Garland', 'Garnet', 'Garnette', 'Gates', 'Gavra', 'Gavrielle', 'Gay', 'Gayla', 'Gayle', 'Gayleen', 'Gaylene', 'Gaynor', 'Gelya', 'Gen', 'Gena', 'Gene', 'Geneva', 'Genevieve', 'Genevra', 'Genia', 'Genna', 'Genni', 'Gennie', 'Gennifer', 'Genny', 'Genovera', 'Genvieve', 'George', 'Georgeanna', 'Georgeanne', 'Georgena', 'Georgeta', 'Georgetta', 'Georgette', 'Georgia', 'Georgiamay', 'Georgiana', 'Georgianna', 'Georgianne', 'Georgie', 'Georgina', 'Georgine', 'Gera', 'Geralda', 'Geraldina', 'Geraldine', 'Gerda', 'Gerhardine', 'Geri', 'Gerianna', 'Gerianne', 'Gerladina', 'Germain', 'Germaine', 'Germana', 'Gerri', 'Gerrie', 'Gerrilee', 'Gerry', 'Gert', 'Gerta', 'Gerti', 'Gertie', 'Gertrud', 'Gertruda', 'Gertrude', 'Gertrudis', 'Gerty', 'Giacinta', 'Giana', 'Gianina', 'Gianna', 'Gigi', 'Gilberta', 'Gilberte', 'Gilbertina', 'Gilbertine', 'Gilda', 'Gill', 'Gillan', 'Gilli', 'Gillian', 'Gillie', 'Gilligan', 'Gilly', 'Gina', 'Ginelle', 'Ginevra', 'Ginger', 'Ginni', 'Ginnie', 'Ginnifer', 'Ginny', 'Giorgia', 'Giovanna', 'Gipsy', 'Giralda', 'Gisela', 'Gisele', 'Gisella', 'Giselle', 'Gizela', 'Glad', 'Gladi', 'Gladis', 'Gladys', 'Gleda', 'Glen', 'Glenda', 'Glenine', 'Glenn', 'Glenna', 'Glennie', 'Glennis', 'Glori', 'Gloria', 'Gloriana', 'Gloriane', 'Glorianna', 'Glory', 'Glyn', 'Glynda', 'Glynis', 'Glynnis', 'Godiva', 'Golda', 'Goldarina', 'Goldi', 'Goldia', 'Goldie', 'Goldina', 'Goldy', 'Grace', 'Gracia', 'Gracie', 'Grata', 'Gratia', 'Gratiana', 'Gray', 'Grayce', 'Grazia', 'Gredel', 'Greer', 'Greta', 'Gretal', 'Gretchen', 'Grete', 'Gretel', 'Grethel', 'Gretna', 'Gretta', 'Grier', 'Griselda', 'Grissel', 'Guendolen', 'Guenevere', 'Guenna', 'Guglielma', 'Gui', 'Guillema', 'Guillemette', 'Guinevere', 'Guinna', 'Gunilla', 'Gunvor', 'Gus', 'Gusella', 'Gussi', 'Gussie', 'Gussy', 'Gusta', 'Gusti', 'Gustie', 'Gusty', 'Gwen', 'Gwendolen', 'Gwendolin', 'Gwendolyn', 'Gweneth', 'Gwenette', 'Gwenn', 'Gwenneth', 'Gwenni', 'Gwennie', 'Gwenny', 'Gwenora', 'Gwenore', 'Gwyn', 'Gwyneth', 'Gwynne', 'Gypsy', 'Hadria', 'Hailee', 'Haily', 'Haleigh', 'Halette', 'Haley', 'Hali', 'Halie', 'Halimeda', 'Halley', 'Halli', 'Hallie', 'Hally', 'Hana', 'Hanna', 'Hannah', 'Hanni', 'Hannibal', 'Hannie', 'Hannis', 'Hanny', 'Happy', 'Harlene', 'Harley', 'Harli', 'Harlie', 'Harmonia', 'Harmonie', 'Harmony', 'Harri', 'Harrie', 'Harriet', 'Harriett', 'Harrietta', 'Harriette', 'Harriot', 'Harriott', 'Hatti', 'Hattie', 'Hatty', 'Havivah', 'Hayley', 'Hazel', 'Heath', 'Heather', 'Heda', 'Hedda', 'Heddi', 'Heddie', 'Hedi', 'Hedy', 'Heida', 'Heide', 'Heidi', 'Heidie', 'Helaina', 'Helaine', 'Helen', 'Helen-Elizabeth', 'Helena', 'Helene', 'Helga', 'Helge', 'Helise', 'Hellene', 'Helli', 'Heloise', 'Helsa', 'Helyn', 'Hendrika', 'Henka', 'Henrie', 'Henrieta', 'Henrietta', 'Henriette', 'Henryetta', 'Hephzibah', 'Hermia', 'Hermina', 'Hermine', 'Herminia', 'Hermione', 'Herta', 'Hertha', 'Hester', 'Hesther', 'Hestia', 'Hetti', 'Hettie', 'Hetty', 'Hilarie', 'Hilary', 'Hilda', 'Hildagard', 'Hildagarde', 'Hilde', 'Hildegaard', 'Hildegarde', 'Hildy', 'Hillary', 'Hilliary', 'Hinda', 'Holley', 'Holli', 'Hollie', 'Holly', 'Holly-Anne', 'Hollyanne', 'Honey', 'Honor', 'Honoria', 'Hope', 'Horatia', 'Hortense', 'Hortensia', 'Hulda', 'Hyacinth', 'Hyacintha', 'Hyacinthe', 'Hyacinthia', 'Hyacinthie', 'Hynda', 'Ianthe', 'Ibbie', 'Ibby', 'Ida', 'Idalia', 'Idalina', 'Idaline', 'Idell', 'Idelle', 'Idette', 'Ike', 'Ikey', 'Ilana', 'Ileana', 'Ileane', 'Ilene', 'Ilise', 'Ilka', 'Illa', 'Ilona', 'Ilsa', 'Ilse', 'Ilysa', 'Ilyse', 'Ilyssa', 'Imelda', 'Imogen', 'Imogene', 'Imojean', 'Ina', 'Inci', 'Indira', 'Ines', 'Inesita', 'Inessa', 'Inez', 'Inga', 'Inge', 'Inger', 'Ingrid', 'Ingunna', 'Inna', 'Ioana', 'Iolande', 'Iolanthe', 'Iona', 'Iormina', 'Ira', 'Irena', 'Irene', 'Irina', 'Iris', 'Irita', 'Irma', 'Isa', 'Isabeau', 'Isabel', 'Isabelita', 'Isabella', 'Isabelle', 'Isador', 'Isadora', 'Isadore', 'Isahella', 'Iseabal', 'Isidora', 'Isis', 'Isobel', 'Issi', 'Issie', 'Issy', 'Ivett', 'Ivette', 'Ivie', 'Ivonne', 'Ivory', 'Ivy', 'Izabel', 'Izzi', 'Jacenta', 'Jacinda', 'Jacinta', 'Jacintha', 'Jacinthe', 'Jackelyn', 'Jacki', 'Jackie', 'Jacklin', 'Jacklyn', 'Jackquelin', 'Jackqueline', 'Jacky', 'Jaclin', 'Jaclyn', 'Jacquelin', 'Jacqueline', 'Jacquelyn', 'Jacquelynn', 'Jacquenetta', 'Jacquenette', 'Jacquetta', 'Jacquette', 'Jacqui', 'Jacquie', 'Jacynth', 'Jada', 'Jade', 'Jaime', 'Jaimie', 'Jaine', 'Jaleh', 'Jami', 'Jamie', 'Jamima', 'Jammie', 'Jan', 'Jana', 'Janaya', 'Janaye', 'Jandy', 'Jane', 'Janean', 'Janeczka', 'Janeen', 'Janel', 'Janela', 'Janella', 'Janelle', 'Janene', 'Janenna', 'Janessa', 'Janet', 'Janeta', 'Janetta', 'Janette', 'Janeva', 'Janey', 'Jania', 'Janice', 'Janie', 'Janifer', 'Janina', 'Janine', 'Janis', 'Janith', 'Janka', 'Janna', 'Jannel', 'Jannelle', 'Janot', 'Jany', 'Jaquelin', 'Jaquelyn', 'Jaquenetta', 'Jaquenette', 'Jaquith', 'Jasmin', 'Jasmina', 'Jasmine', 'Jayme', 'Jaymee', 'Jayne', 'Jaynell', 'Jazmin', 'Jean', 'Jeana', 'Jeane', 'Jeanelle', 'Jeanette', 'Jeanie', 'Jeanine', 'Jeanna', 'Jeanne', 'Jeannette', 'Jeannie', 'Jeannine', 'Jehanna', 'Jelene', 'Jemie', 'Jemima', 'Jemimah', 'Jemmie', 'Jen', 'Jena', 'Jenda', 'Jenelle', 'Jenette', 'Jeni', 'Jenica', 'Jeniece', 'Jenifer', 'Jeniffer', 'Jenilee', 'Jenine', 'Jenn', 'Jenna', 'Jennee', 'Jennette', 'Jenni', 'Jennica', 'Jennie', 'Jennifer', 'Jennilee', 'Jennine', 'Jenny', 'Jeraldine', 'Jeralee', 'Jere', 'Jeri', 'Jermaine', 'Jerrie', 'Jerrilee', 'Jerrilyn', 'Jerrine', 'Jerry', 'Jerrylee', 'Jess', 'Jessa', 'Jessalin', 'Jessalyn', 'Jessamine', 'Jessamyn', 'Jesse', 'Jesselyn', 'Jessi', 'Jessica', 'Jessie', 'Jessika', 'Jessy', 'Jewel', 'Jewell', 'Jewelle', 'Jill', 'Jillana', 'Jillane', 'Jillayne', 'Jilleen', 'Jillene', 'Jilli', 'Jillian', 'Jillie', 'Jilly', 'Jinny', 'Jo', 'Jo', 'Ann', 'Jo-Ann', 'Jo-Anne', 'JoAnn', 'JoAnne', 'Joan', 'Joana', 'Joane', 'Joanie', 'Joann', 'Joanna', 'Joanne', 'Joannes', 'Jobey', 'Jobi', 'Jobie', 'Jobina', 'Joby', 'Jobye', 'Jobyna', 'Jocelin', 'Joceline', 'Jocelyn', 'Jocelyne', 'Jodee', 'Jodi', 'Jodie', 'Jody', 'Joela', 'Joelie', 'Joell', 'Joella', 'Joelle', 'Joellen', 'Joelly', 'Joellyn', 'Joelynn', 'Joete', 'Joey', 'Johanna', 'Johannah', 'Johnette', 'Johnna', 'Joice', 'Jojo', 'Jolee', 'Joleen', 'Jolene', 'Joletta', 'Joli', 'Jolie', 'Joline', 'Joly', 'Jolyn', 'Jolynn', 'Jonell', 'Joni', 'Jonie', 'Jonis', 'Jordain', 'Jordan', 'Jordana', 'Jordanna', 'Jorey', 'Jori', 'Jorie', 'Jorrie', 'Jorry', 'Joscelin', 'Josee', 'Josefa', 'Josefina', 'Joselyn', 'Josepha', 'Josephina', 'Josephine', 'Josey', 'Josi', 'Josie', 'Joslyn', 'Josselyn', 'Josy', 'Jourdan', 'Joy', 'Joya', 'Joyan', 'Joyann', 'Joyce', 'Joycelin', 'Joye', 'Joyous', 'Juana', 'Juanita', 'Jude', 'Judi', 'Judie', 'Judith', 'Juditha', 'Judy', 'Judye', 'Julee', 'Juli', 'Julia', 'Juliana', 'Juliane', 'Juliann', 'Julianna', 'Julianne', 'Julie', 'Julienne', 'Juliet', 'Julieta', 'Julietta', 'Juliette', 'Julina', 'Juline', 'Julissa', 'Julita', 'June', 'Junette', 'Junia', 'Junie', 'Junina', 'Justin', 'Justina', 'Justine', 'Jyoti', 'Kacey', 'Kacie', 'Kacy', 'Kai', 'Kaia', 'Kaila', 'Kaile', 'Kailey', 'Kaitlin', 'Kaitlyn', 'Kaitlynn', 'Kaja', 'Kakalina', 'Kala', 'Kaleena', 'Kali', 'Kalie', 'Kalila', 'Kalina', 'Kalinda', 'Kalindi', 'Kalli', 'Kally', 'Kameko', 'Kamila', 'Kamilah', 'Kamillah', 'Kandace', 'Kandy', 'Kania', 'Kanya', 'Kara', 'Kara-Lynn', 'Karalee', 'Karalynn', 'Kare', 'Karee', 'Karel', 'Karen', 'Karena', 'Kari', 'Karia', 'Karie', 'Karil', 'Karilynn', 'Karin', 'Karina', 'Karine', 'Kariotta', 'Karisa', 'Karissa', 'Karita', 'Karla', 'Karlee', 'Karleen', 'Karlen', 'Karlene', 'Karlie', 'Karlotta', 'Karlotte', 'Karly', 'Karlyn', 'Karmen', 'Karna', 'Karol', 'Karola', 'Karole', 'Karolina', 'Karoline', 'Karoly', 'Karon', 'Karrah', 'Karrie', 'Karry', 'Kary', 'Karyl', 'Karylin', 'Karyn', 'Kasey', 'Kass', 'Kassandra', 'Kassey', 'Kassi', 'Kassia', 'Kassie', 'Kaster', 'Kat', 'Kata', 'Katalin', 'Kate', 'Katee', 'Katerina', 'Katerine', 'Katey', 'Kath', 'Katha', 'Katharina', 'Katharine', 'Katharyn', 'Kathe', 'Katheleen', 'Katherina', 'Katherine', 'Katheryn', 'Kathi', 'Kathie', 'Kathleen', 'Kathlene', 'Kathlin', 'Kathrine', 'Kathryn', 'Kathryne', 'Kathy', 'Kathye', 'Kati', 'Katie', 'Katina', 'Katine', 'Katinka', 'Katleen', 'Katlin', 'Katrina', 'Katrine', 'Katrinka', 'Katti', 'Kattie', 'Katuscha', 'Katusha', 'Katy', 'Katya', 'Kay', 'Kaycee', 'Kaye', 'Kayla', 'Kayle', 'Kaylee', 'Kayley', 'Kaylil', 'Kaylyn', 'Kee', 'Keeley', 'Keelia', 'Keely', 'Kelcey', 'Kelci', 'Kelcie', 'Kelcy', 'Kelila', 'Kellen', 'Kelley', 'Kelli', 'Kellia', 'Kellie', 'Kellina', 'Kellsie', 'Kelly', 'Kellyann', 'Kelsey', 'Kelsi', 'Kelsy', 'Kendra', 'Kendre', 'Kenna', 'Keren', 'Keri', 'Keriann', 'Kerianne', 'Kerri', 'Kerrie', 'Kerrill', 'Kerrin', 'Kerry', 'Kerstin', 'Kesley', 'Keslie', 'Kessia', 'Kessiah', 'Ketti', 'Kettie', 'Ketty', 'Kevina', 'Kevyn', 'Ki', 'Kia', 'Kiah', 'Kial', 'Kiele', 'Kiersten', 'Kikelia', 'Kiley', 'Kimberlee', 'Kimberley', 'Kimberli', 'Kimberly', 'Kimberlyn', 'Kimbra', 'Kimmi', 'Kimmie', 'Kinna', 'Kip', 'Kipp', 'Kippie', 'Kippy', 'Kira', 'Kirbee', 'Kirbie', 'Kirby', 'Kiri', 'Kirsten', 'Kirsteni', 'Kirsti', 'Kirstie', 'Kirstin', 'Kirstyn', 'Kissee', 'Kissiah', 'Kissie', 'Kit', 'Kitti', 'Kittie', 'Kitty', 'Kizzee', 'Kizzie', 'Klara', 'Klarika', 'Klarrisa', 'Konstance', 'Konstanze', 'Koo', 'Kora', 'Koral', 'Koralle', 'Kordula', 'Kore', 'Korella', 'Koren', 'Koressa', 'Kori', 'Korie', 'Korney', 'Korrie', 'Korry', 'Kourtney', 'Kris', 'Krissie', 'Krissy', 'Krista', 'Kristal', 'Kristan', 'Kriste', 'Kristel', 'Kristen', 'Kristi', 'Kristien', 'Kristin', 'Kristina', 'Kristine', 'Kristy', 'Kristyn', 'Krysta', 'Krystal', 'Krystalle', 'Krystle', 'Krystyna', 'Kyla', 'Kyle', 'Kylen', 'Kylie', 'Kylila', 'Kylynn', 'Kynthia', 'Kyrstin', 'La', 'Lacee', 'Lacey', 'Lacie', 'Lacy', 'Ladonna', 'Laetitia', 'Laila', 'Laina', 'Lainey', 'Lamb', 'Lana', 'Lane', 'Lanette', 'Laney', 'Lani', 'Lanie', 'Lanita', 'Lanna', 'Lanni', 'Lanny', 'Lara', 'Laraine', 'Lari', 'Larina', 'Larine', 'Larisa', 'Larissa', 'Lark', 'Laryssa', 'Latashia', 'Latia', 'Latisha', 'Latrena', 'Latrina', 'Laura', 'Lauraine', 'Laural', 'Lauralee', 'Laure', 'Lauree', 'Laureen', 'Laurel', 'Laurella', 'Lauren', 'Laurena', 'Laurene', 'Lauretta', 'Laurette', 'Lauri', 'Laurianne', 'Laurice', 'Laurie', 'Lauryn', 'Lavena', 'Laverna', 'Laverne', 'Lavina', 'Lavinia', 'Lavinie', 'Layla', 'Layne', 'Layney', 'Lea', 'Leah', 'Leandra', 'Leann', 'Leanna', 'Leanne', 'Leanor', 'Leanora', 'Lebbie', 'Leda', 'Lee', 'LeeAnn', 'Leeann', 'Leeanne', 'Leela', 'Leelah', 'Leena', 'Leesa', 'Leese', 'Legra', 'Leia', 'Leiah', 'Leigh', 'Leigha', 'Leila', 'Leilah', 'Leisha', 'Lela', 'Lelah', 'Leland', 'Lelia', 'Lena', 'Lenee', 'Lenette', 'Lenka', 'Lenna', 'Lenora', 'Lenore', 'Leodora', 'Leoine', 'Leola', 'Leoline', 'Leona', 'Leonanie', 'Leone', 'Leonelle', 'Leonie', 'Leonora', 'Leonore', 'Leontine', 'Leontyne', 'Leora', 'Leorah', 'Leshia', 'Lesley', 'Lesli', 'Leslie', 'Lesly', 'Lesya', 'Leta', 'Lethia', 'Leticia', 'Letisha', 'Letitia', 'Letta', 'Letti', 'Lettie', 'Letty', 'Leyla', 'Lezlie', 'Lia', 'Lian', 'Liana', 'Liane', 'Lianna', 'Lianne', 'Lib', 'Libbey', 'Libbi', 'Libbie', 'Libby', 'Licha', 'Lida', 'Lidia', 'Lil', 'Lila', 'Lilah', 'Lilas', 'Lilia', 'Lilian', 'Liliane', 'Lilias', 'Lilith', 'Lilla', 'Lilli', 'Lillian', 'Lillis', 'Lilllie', 'Lilly', 'Lily', 'Lilyan', 'Lin', 'Lina', 'Lind', 'Linda', 'Lindi', 'Lindie', 'Lindsay', 'Lindsey', 'Lindsy', 'Lindy', 'Linea', 'Linell', 'Linet', 'Linette', 'Linn', 'Linnea', 'Linnell', 'Linnet', 'Linnie', 'Linzy', 'Liora', 'Liorah', 'Lira', 'Lisa', 'Lisabeth', 'Lisandra', 'Lisbeth', 'Lise', 'Lisetta', 'Lisette', 'Lisha', 'Lishe', 'Lissa', 'Lissi', 'Lissie', 'Lissy', 'Lita', 'Liuka', 'Livia', 'Liz', 'Liza', 'Lizabeth', 'Lizbeth', 'Lizette', 'Lizzie', 'Lizzy', 'Loella', 'Lois', 'Loise', 'Lola', 'Lolande', 'Loleta', 'Lolita', 'Lolly', 'Lona', 'Lonee', 'Loni', 'Lonna', 'Lonni', 'Lonnie', 'Lora', 'Lorain', 'Loraine', 'Loralee', 'Loralie', 'Loralyn', 'Loree', 'Loreen', 'Lorelei', 'Lorelle', 'Loren', 'Lorena', 'Lorene', 'Lorenza', 'Loretta', 'Lorettalorna', 'Lorette', 'Lori', 'Loria', 'Lorianna', 'Lorianne', 'Lorie', 'Lorilee', 'Lorilyn', 'Lorinda', 'Lorine', 'Lorita', 'Lorna', 'Lorne', 'Lorraine', 'Lorrayne', 'Lorri', 'Lorrie', 'Lorrin', 'Lorry', 'Lory', 'Lotta', 'Lotte', 'Lotti', 'Lottie', 'Lotty', 'Lou', 'Louella', 'Louisa', 'Louise', 'Louisette', 'Love', 'Luana', 'Luanna', 'Luce', 'Luci', 'Lucia', 'Luciana', 'Lucie', 'Lucienne', 'Lucila', 'Lucilia', 'Lucille', 'Lucina', 'Lucinda', 'Lucine', 'Lucita', 'Lucky', 'Lucretia', 'Lucy', 'Luella', 'Luelle', 'Luisa', 'Luise', 'Lula', 'Lulita', 'Lulu', 'Luna', 'Lura', 'Lurette', 'Lurleen', 'Lurlene', 'Lurline', 'Lusa', 'Lust', 'Lyda', 'Lydia', 'Lydie', 'Lyn', 'Lynda', 'Lynde', 'Lyndel', 'Lyndell', 'Lyndsay', 'Lyndsey', 'Lyndsie', 'Lyndy', 'Lynea', 'Lynelle', 'Lynett', 'Lynette', 'Lynn', 'Lynna', 'Lynne', 'Lynnea', 'Lynnell', 'Lynnelle', 'Lynnet', 'Lynnett', 'Lynnette', 'Lynsey', 'Lysandra', 'Lyssa', 'Mab', 'Mabel', 'Mabelle', 'Mable', 'Mada', 'Madalena', 'Madalyn', 'Maddalena', 'Maddi', 'Maddie', 'Maddy', 'Madel', 'Madelaine', 'Madeleine', 'Madelena', 'Madelene', 'Madelin', 'Madelina', 'Madeline', 'Madella', 'Madelle', 'Madelon', 'Madelyn', 'Madge', 'Madlen', 'Madlin', 'Madona', 'Madonna', 'Mady', 'Mae', 'Maegan', 'Magda', 'Magdaia', 'Magdalen', 'Magdalena', 'Magdalene', 'Maggee', 'Maggi', 'Maggie', 'Maggy', 'Magna', 'Mahala', 'Mahalia', 'Maia', 'Maible', 'Maiga', 'Mair', 'Maire', 'Mairead', 'Maisey', 'Maisie', 'Mala', 'Malanie', 'Malcah', 'Malena', 'Malia', 'Malina', 'Malinda', 'Malinde', 'Malissa', 'Malissia', 'Malka', 'Malkah', 'Mallissa', 'Mallorie', 'Mallory', 'Malorie', 'Malory', 'Malva', 'Malvina', 'Malynda', 'Mame', 'Mamie', 'Manda', 'Mandi', 'Mandie', 'Mandy', 'Manon', 'Manya', 'Mara', 'Marabel', 'Marcela', 'Marcelia', 'Marcella', 'Marcelle', 'Marcellina', 'Marcelline', 'Marchelle', 'Marci', 'Marcia', 'Marcie', 'Marcile', 'Marcille', 'Marcy', 'Mareah', 'Maren', 'Marena', 'Maressa', 'Marga', 'Margalit', 'Margalo', 'Margaret', 'Margareta', 'Margarete', 'Margaretha', 'Margarethe', 'Margaretta', 'Margarette', 'Margarita', 'Marge', 'Margery', 'Marget', 'Margette', 'Margi', 'Margie', 'Margit', 'Marglerite', 'Margo', 'Margot', 'Margret', 'Marguerite', 'Margurite', 'Margy', 'Mari', 'Maria', 'Marian', 'Mariana', 'Mariann', 'Marianna', 'Marianne', 'Maribel', 'Maribelle', 'Maribeth', 'Marice', 'Maridel', 'Marie', 'Marie-Ann', 'Marie-Jeanne', 'Marieann', 'Mariejeanne', 'Mariel', 'Mariele', 'Marielle', 'Mariellen', 'Marietta', 'Mariette', 'Marigold', 'Marijo', 'Marika', 'Marilee', 'Marilin', 'Marillin', 'Marilyn', 'Marin', 'Marina', 'Marinna', 'Marion', 'Mariquilla', 'Maris', 'Marisa', 'Mariska', 'Marissa', 'Marit', 'Marita', 'Maritsa', 'Mariya', 'Marj', 'Marja', 'Marje', 'Marji', 'Marjie', 'Marjorie', 'Marjory', 'Marjy', 'Marketa', 'Marla', 'Marlane', 'Marleah', 'Marlee', 'Marleen', 'Marlena', 'Marlene', 'Marley', 'Marlie', 'Marline', 'Marlo', 'Marlyn', 'Marna', 'Marne', 'Marney', 'Marni', 'Marnia', 'Marnie', 'Marquita', 'Marrilee', 'Marris', 'Marrissa', 'Marry', 'Marsha', 'Marsiella', 'Marta', 'Martelle', 'Martguerita', 'Martha', 'Marthe', 'Marthena', 'Marti', 'Martica', 'Martie', 'Martina', 'Martita', 'Marty', 'Martynne', 'Mary', 'Marya', 'Maryangelyn', 'Maryann', 'Maryanna', 'Maryanne', 'Marybelle', 'Marybeth', 'Maryellen', 'Maryjane', 'Maryjo', 'Maryl', 'Marylee', 'Marylin', 'Marylinda', 'Marylou', 'Marylynne', 'Maryrose', 'Marys', 'Marysa', 'Masha', 'Matelda', 'Mathilda', 'Mathilde', 'Matilda', 'Matilde', 'Matti', 'Mattie', 'Matty', 'Maud', 'Maude', 'Maudie', 'Maura', 'Maure', 'Maureen', 'Maureene', 'Maurene', 'Maurine', 'Maurise', 'Maurita', 'Mavis', 'Mavra', 'Maxi', 'Maxie', 'Maxine', 'Maxy', 'May', 'Maya', 'Maybelle', 'Mayda', 'Maye', 'Mead', 'Meade', 'Meagan', 'Meaghan', 'Meara', 'Mechelle', 'Megan', 'Megen', 'Meggan', 'Meggi', 'Meggie', 'Meggy', 'Meghan', 'Meghann', 'Mehetabel', 'Mei', 'Meira', 'Mel', 'Mela', 'Melamie', 'Melania', 'Melanie', 'Melantha', 'Melany', 'Melba', 'Melesa', 'Melessa', 'Melicent', 'Melina', 'Melinda', 'Melinde', 'Melisa', 'Melisande', 'Melisandra', 'Melisenda', 'Melisent', 'Melissa', 'Melisse', 'Melita', 'Melitta', 'Mella', 'Melli', 'Mellicent', 'Mellie', 'Mellisa', 'Mellisent', 'Mellissa', 'Melloney', 'Melly', 'Melodee', 'Melodie', 'Melody', 'Melonie', 'Melony', 'Melosa', 'Melva', 'Mercedes', 'Merci', 'Mercie', 'Mercy', 'Meredith', 'Meredithe', 'Meridel', 'Meridith', 'Meriel', 'Merilee', 'Merilyn', 'Meris', 'Merissa', 'Merl', 'Merla', 'Merle', 'Merlina', 'Merline', 'Merna', 'Merola', 'Merralee', 'Merridie', 'Merrie', 'Merrielle', 'Merrile', 'Merrilee', 'Merrili', 'Merrill', 'Merrily', 'Merry', 'Mersey', 'Meryl', 'Meta', 'Mia', 'Micaela', 'Michaela', 'Michaelina', 'Michaeline', 'Michaella', 'Michal', 'Michel', 'Michele', 'Michelina', 'Micheline', 'Michell', 'Michelle', 'Micki', 'Mickie', 'Micky', 'Midge', 'Mignon', 'Mignonne', 'Miguela', 'Miguelita', 'Mildred', 'Mildrid', 'Milena', 'Milicent', 'Milissent', 'Milka', 'Milli', 'Millicent', 'Millie', 'Millisent', 'Milly', 'Milzie', 'Mimi', 'Min', 'Mina', 'Minda', 'Mindy', 'Minerva', 'Minetta', 'Minette', 'Minna', 'Minni', 'Minnie', 'Minny', 'Minta', 'Miquela', 'Mira', 'Mirabel', 'Mirabella', 'Mirabelle', 'Miran', 'Miranda', 'Mireielle', 'Mireille', 'Mirella', 'Mirelle', 'Mirilla', 'Mirna', 'Misha', 'Missie', 'Missy', 'Misti', 'Misty', 'Mitra', 'Mitzi', 'Mmarianne', 'Modesta', 'Modestia', 'Modestine', 'Modesty', 'Moina', 'Moira', 'Moll', 'Mollee', 'Molli', 'Mollie', 'Molly', 'Mona', 'Monah', 'Monica', 'Monika', 'Monique', 'Mora', 'Moreen', 'Morena', 'Morgan', 'Morgana', 'Morganica', 'Morganne', 'Morgen', 'Moria', 'Morissa', 'Morlee', 'Morna', 'Moselle', 'Moya', 'Moyna', 'Moyra', 'Mozelle', 'Muffin', 'Mufi', 'Mufinella', 'Muire', 'Mureil', 'Murial', 'Muriel', 'Murielle', 'Myna', 'Myra', 'Myrah', 'Myranda', 'Myrilla', 'Myrle', 'Myrlene', 'Myrna', 'Myrta', 'Myrtia', 'Myrtice', 'Myrtie', 'Myrtle', 'Nada', 'Nadean', 'Nadeen', 'Nadia', 'Nadine', 'Nadiya', 'Nady', 'Nadya', 'Nalani', 'Nan', 'Nana', 'Nananne', 'Nance', 'Nancee', 'Nancey', 'Nanci', 'Nancie', 'Nancy', 'Nanete', 'Nanette', 'Nani', 'Nanice', 'Nanine', 'Nannette', 'Nanni', 'Nannie', 'Nanny', 'Nanon', 'Naoma', 'Naomi', 'Nara', 'Nari', 'Nariko', 'Nat', 'Nata', 'Natala', 'Natalee', 'Natalia', 'Natalie', 'Natalina', 'Nataline', 'Natalya', 'Natasha', 'Natassia', 'Nathalia', 'Nathalie', 'Natka', 'Natty', 'Neala', 'Neda', 'Nedda', 'Nedi', 'Neely', 'Neila', 'Neile', 'Neilla', 'Neille', 'Nela', 'Nelia', 'Nelie', 'Nell', 'Nelle', 'Nelli', 'Nellie', 'Nelly', 'Nena', 'Nerissa', 'Nerita', 'Nert', 'Nerta', 'Nerte', 'Nerti', 'Nertie', 'Nerty', 'Nessa', 'Nessi', 'Nessie', 'Nessy', 'Nesta', 'Netta', 'Netti', 'Nettie', 'Nettle', 'Netty', 'Nevsa', 'Neysa', 'Nichol', 'Nichole', 'Nicholle', 'Nicki', 'Nickie', 'Nicky', 'Nicol', 'Nicola', 'Nicole', 'Nicolea', 'Nicolette', 'Nicoli', 'Nicolina', 'Nicoline', 'Nicolle', 'Nidia', 'Nike', 'Niki', 'Nikki', 'Nikkie', 'Nikoletta', 'Nikolia', 'Nil', 'Nina', 'Ninetta', 'Ninette', 'Ninnetta', 'Ninnette', 'Ninon', 'Nisa', 'Nissa', 'Nisse', 'Nissie', 'Nissy', 'Nita', 'Nitin', 'Nixie', 'Noami', 'Noel', 'Noelani', 'Noell', 'Noella', 'Noelle', 'Noellyn', 'Noelyn', 'Noemi', 'Nola', 'Nolana', 'Nolie', 'Nollie', 'Nomi', 'Nona', 'Nonah', 'Noni', 'Nonie', 'Nonna', 'Nonnah', 'Nora', 'Norah', 'Norean', 'Noreen', 'Norene', 'Norina', 'Norine', 'Norma', 'Norri', 'Norrie', 'Norry', 'Nova', 'Novelia', 'Nydia', 'Nyssa', 'Octavia', 'Odele', 'Odelia', 'Odelinda', 'Odella', 'Odelle', 'Odessa', 'Odetta', 'Odette', 'Odilia', 'Odille', 'Ofelia', 'Ofella', 'Ofilia', 'Ola', 'Olenka', 'Olga', 'Olia', 'Olimpia', 'Olive', 'Olivette', 'Olivia', 'Olivie', 'Oliy', 'Ollie', 'Olly', 'Olva', 'Olwen', 'Olympe', 'Olympia', 'Olympie', 'Ondrea', 'Oneida', 'Onida', 'Onlea', 'Oona', 'Opal', 'Opalina', 'Opaline', 'Ophelia', 'Ophelie', 'Oprah', 'Ora', 'Oralee', 'Oralia', 'Oralie', 'Oralla', 'Oralle', 'Orel', 'Orelee', 'Orelia', 'Orelie', 'Orella', 'Orelle', 'Oreste', 'Oriana', 'Orly', 'Orsa', 'Orsola', 'Ortensia', 'Otha', 'Othelia', 'Othella', 'Othilia', 'Othilie', 'Ottilie', 'Pacifica', 'Page', 'Paige', 'Paloma', 'Pamela', 'Pamelina', 'Pamella', 'Pammi', 'Pammie', 'Pandora', 'Pansie', 'Pansy', 'Paola', 'Paolina', 'Parwane', 'Pat', 'Patience', 'Patrica', 'Patrice', 'Patricia', 'Patrizia', 'Patsy', 'Patti', 'Pattie', 'Patty', 'Paula', 'Paula-Grace', 'Paule', 'Pauletta', 'Paulette', 'Pauli', 'Paulie', 'Paulina', 'Pauline', 'Paulita', 'Pauly', 'Pavia', 'Pavla', 'Pearl', 'Pearla', 'Pearle', 'Pearline', 'Pegeen', 'Peggi', 'Peggie', 'Peggy', 'Pen', 'Penelopa', 'Penelope', 'Penni', 'Pennie', 'Penny', 'Pepi', 'Pepita', 'Peri', 'Peria', 'Perl', 'Perla', 'Perle', 'Perri', 'Perrine', 'Perry', 'Persis', 'Pet', 'Peta', 'Petra', 'Petrina', 'Petronella', 'Petronia', 'Petronilla', 'Petronille', 'Petunia', 'Phaedra', 'Phaidra', 'Phebe', 'Phedra', 'Phelia', 'Phil', 'Philipa', 'Philippa', 'Philippe', 'Philippine', 'Philis', 'Phillida', 'Phillie', 'Phillis', 'Philly', 'Philomena', 'Phoebe', 'Phylis', 'Phyllida', 'Phyllis', 'Phyllys', 'Phylys', 'Pia', 'Pier', 'Pierette', 'Pierrette', 'Pietra', 'Piper', 'Pippa', 'Pippy', 'Polly', 'Pollyanna', 'Pooh', 'Poppy', 'Portia', 'Pris', 'Prisca', 'Priscella', 'Priscilla', 'Prissie', 'Pru', 'Prudence', 'Prudi', 'Prudy', 'Prue', 'Prunella', 'Queada', 'Queenie', 'Quentin', 'Querida', 'Quinn', 'Quinta', 'Quintana', 'Quintilla', 'Quintina', 'Rachael', 'Rachel', 'Rachele', 'Rachelle', 'Rae', 'Raf', 'Rafa', 'Rafaela', 'Rafaelia', 'Rafaelita', 'Ragnhild', 'Rahal', 'Rahel', 'Raina', 'Raine', 'Rakel', 'Ralina', 'Ramona', 'Ramonda', 'Rana', 'Randa', 'Randee', 'Randene', 'Randi', 'Randie', 'Randy', 'Ranee', 'Rani', 'Rania', 'Ranice', 'Ranique', 'Ranna', 'Raphaela', 'Raquel', 'Raquela', 'Rasia', 'Rasla', 'Raven', 'Ray', 'Raychel', 'Raye', 'Rayna', 'Raynell', 'Rayshell', 'Rea', 'Reba', 'Rebbecca', 'Rebe', 'Rebeca', 'Rebecca', 'Rebecka', 'Rebeka', 'Rebekah', 'Rebekkah', 'Ree', 'Reeba', 'Reena', 'Reeta', 'Reeva', 'Regan', 'Reggi', 'Reggie', 'Regina', 'Regine', 'Reiko', 'Reina', 'Reine', 'Rena', 'Renae', 'Renata', 'Renate', 'Rene', 'Renee', 'Renel', 'Renell', 'Renelle', 'Renie', 'Rennie', 'Reta', 'Retha', 'Revkah', 'Rey', 'Reyna', 'Rhea', 'Rheba', 'Rheta', 'Rhetta', 'Rhiamon', 'Rhianna', 'Rhianon', 'Rhoda', 'Rhodia', 'Rhodie', 'Rhody', 'Rhona', 'Rhonda', 'Riane', 'Riannon', 'Rianon', 'Rica', 'Ricca', 'Rici', 'Ricki', 'Rickie', 'Ricky', 'Riki', 'Rikki', 'Rina', 'Risa', 'Rissa', 'Rita', 'Riva', 'Rivalee', 'Rivi', 'Rivkah', 'Rivy', 'Roana', 'Roanna', 'Roanne', 'Robbi', 'Robbie', 'Robbin', 'Robby', 'Robbyn', 'Robena', 'Robenia', 'Roberta', 'Robin', 'Robina', 'Robinet', 'Robinett', 'Robinetta', 'Robinette', 'Robinia', 'Roby', 'Robyn', 'Roch', 'Rochell', 'Rochella', 'Rochelle', 'Rochette', 'Roda', 'Rodi', 'Rodie', 'Rodina', 'Romola', 'Romona', 'Romonda', 'Rona', 'Ronalda', 'Ronda', 'Ronica', 'Ronna', 'Ronni', 'Ronnica', 'Ronnie', 'Ronny', 'Roobbie', 'Rora', 'Rori', 'Rorie', 'Rory', 'Ros', 'Rosa', 'Rosabel', 'Rosabella', 'Rosabelle', 'Rosaleen', 'Rosalia', 'Rosalie', 'Rosalind', 'Rosalinda', 'Rosalinde', 'Rosaline', 'Rosalyn', 'Rosalynd', 'Rosamond', 'Rosamund', 'Rosana', 'Rosanna', 'Rosanne', 'Rosario', 'Rose', 'Roseann', 'Roseanna', 'Roseanne', 'Roselia', 'Roselin', 'Roseline', 'Rosella', 'Roselle', 'Roselyn', 'Rosemaria', 'Rosemarie', 'Rosemary', 'Rosemonde', 'Rosene', 'Rosetta', 'Rosette', 'Roshelle', 'Rosie', 'Rosina', 'Rosita', 'Roslyn', 'Rosmunda', 'Rosy', 'Row', 'Rowe', 'Rowena', 'Roxana', 'Roxane', 'Roxanna', 'Roxanne', 'Roxi', 'Roxie', 'Roxine', 'Roxy', 'Roz', 'Rozalie', 'Rozalin', 'Rozamond', 'Rozanna', 'Rozanne', 'Roze', 'Rozele', 'Rozella', 'Rozelle', 'Rozina', 'Rubetta', 'Rubi', 'Rubia', 'Rubie', 'Rubina', 'Ruby', 'Ruella', 'Ruperta', 'Ruth', 'Ruthann', 'Ruthanne', 'Ruthe', 'Ruthi', 'Ruthie', 'Ruthy', 'Ryann', 'Rycca', 'Saba', 'Sabina', 'Sabine', 'Sabra', 'Sabrina', 'Sacha', 'Sada', 'Sadella', 'Sadie', 'Sal', 'Sallee', 'Salli', 'Sallie', 'Sally', 'Sallyann', 'Sallyanne', 'Salome', 'Samantha', 'Samara', 'Samaria', 'Samuela', 'Samuella', 'Sande', 'Sandi', 'Sandie', 'Sandra', 'Sandy', 'Sandye', 'Sapphira', 'Sapphire', 'Sara', 'Sara-Ann', 'Saraann', 'Sarah', 'Sarajane', 'Saree', 'Sarena', 'Sarene', 'Sarette', 'Sari', 'Sarina', 'Sarine', 'Sarita', 'Sascha', 'Sasha', 'Sashenka', 'Saudra', 'Saundra', 'Savina', 'Sayre', 'Scarlet', 'Scarlett', 'Scotty', 'Sean', 'Seana', 'Secunda', 'Seka', 'Sela', 'Selena', 'Selene', 'Selestina', 'Selia', 'Selie', 'Selina', 'Selinda', 'Seline', 'Sella', 'Selle', 'Selma', 'Sena', 'Sephira', 'Serena', 'Serene', 'Shaina', 'Shaine', 'Shalna', 'Shalne', 'Shamit', 'Shana', 'Shanda', 'Shandee', 'Shandie', 'Shandra', 'Shandy', 'Shane', 'Shani', 'Shanie', 'Shanna', 'Shannah', 'Shannen', 'Shannon', 'Shanon', 'Shanta', 'Shantee', 'Shara', 'Sharai', 'Shari', 'Sharia', 'Sharie', 'Sharity', 'Sharl', 'Sharla', 'Sharleen', 'Sharlene', 'Sharline', 'Sharna', 'Sharon', 'Sharona', 'Sharra', 'Sharron', 'Sharyl', 'Shaun', 'Shauna', 'Shawn', 'Shawna', 'Shawnee', 'Shay', 'Shayla', 'Shaylah', 'Shaylyn', 'Shaylynn', 'Shayna', 'Shayne', 'Shea', 'Sheba', 'Sheela', 'Sheelagh', 'Sheelah', 'Sheena', 'Sheeree', 'Sheila', 'Sheila-Kathryn', 'Sheilah', 'Sheilakathryn', 'Shel', 'Shela', 'Shelagh', 'Shelba', 'Shelbi', 'Shelby', 'Shelia', 'Shell', 'Shelley', 'Shelli', 'Shellie', 'Shelly', 'Shena', 'Sher', 'Sheree', 'Sheri', 'Sherie', 'Sheril', 'Sherill', 'Sherilyn', 'Sherline', 'Sherri', 'Sherrie', 'Sherry', 'Sherye', 'Sheryl', 'Shilpa', 'Shina', 'Shir', 'Shira', 'Shirah', 'Shirl', 'Shirlee', 'Shirleen', 'Shirlene', 'Shirley', 'Shirline', 'Shoshana', 'Shoshanna', 'Shoshie', 'Siana', 'Sianna', 'Sib', 'Sibbie', 'Sibby', 'Sibeal', 'Sibel', 'Sibella', 'Sibelle', 'Sibilla', 'Sibley', 'Sibyl', 'Sibylla', 'Sibylle', 'Sidoney', 'Sidonia', 'Sidonnie', 'Sigrid', 'Sile', 'Sileas', 'Silva', 'Silvana', 'Silvia', 'Silvie', 'Simona', 'Simone', 'Simonette', 'Simonne', 'Sindee', 'Sinead', 'Siobhan', 'Siouxie', 'Sisely', 'Sisile', 'Sissie', 'Sissy', 'Sofia', 'Sofie', 'Solange', 'Sondra', 'Sonia', 'Sonja', 'Sonni', 'Sonnie', 'Sonnnie', 'Sonny', 'Sonya', 'Sophey', 'Sophi', 'Sophia', 'Sophie', 'Sophronia', 'Sorcha', 'Sosanna', 'Stace', 'Stacee', 'Stacey', 'Staci', 'Stacia', 'Stacie', 'Stacy', 'Stafani', 'Star', 'Starla', 'Starlene', 'Starlin', 'Starr', 'Stefa', 'Stefania', 'Stefanie', 'Steffane', 'Steffi', 'Steffie', 'Stella', 'Stepha', 'Stephana', 'Stephani', 'Stephanie', 'Stephannie', 'Stephenie', 'Stephi', 'Stephie', 'Stephine', 'Stesha', 'Stevana', 'Stevena', 'Stoddard', 'Storey', 'Stormi', 'Stormie', 'Sue', 'Sue-elle', 'Suellen', 'Sukey', 'Suki', 'Sula', 'Sunny', 'Sunshine', 'Susan', 'Susana', 'Susanetta', 'Susann', 'Susanna', 'Susannah', 'Susanne', 'Susette', 'Susi', 'Susie', 'Sussi', 'Susy', 'Suzan', 'Suzann', 'Suzanna', 'Suzanne', 'Suzetta', 'Suzette', 'Suzi', 'Suzie', 'Suzy', 'Suzzy', 'Sybil', 'Sybila', 'Sybilla', 'Sybille', 'Sybyl', 'Sydel', 'Sydelle', 'Sydney', 'Sylvia', 'Sylvie', 'Tabatha', 'Tabbatha', 'Tabbi', 'Tabbie', 'Tabbitha', 'Tabby', 'Tabina', 'Tabitha', 'Taffy', 'Talia', 'Tallia', 'Tallie', 'Tally', 'Talya', 'Talyah', 'Tamar', 'Tamara', 'Tamarah', 'Tamarra', 'Tamera', 'Tami', 'Tamiko', 'Tamma', 'Tammara', 'Tammi', 'Tammie', 'Tamra', 'Tana', 'Tandi', 'Tandie', 'Tandy', 'Tani', 'Tania', 'Tansy', 'Tanya', 'Tara', 'Tarah', 'Tarra', 'Tarrah', 'Taryn', 'Tasha', 'Tasia', 'Tate', 'Tatiana', 'Tatiania', 'Tawnya', 'Tawsha', 'Teane', 'Ted', 'Tedda', 'Teddi', 'Teddie', 'Teddy', 'Tedi', 'Tedra', 'Teena', 'Tella', 'Teodora', 'Tera', 'Teresa', 'TeresaAnne', 'Terese', 'Teresina', 'Teresita', 'Teressa', 'Teri', 'Teriann', 'Terina', 'Terra', 'Terri', 'Terri-Jo', 'Terrianne', 'Terrie', 'Terry', 'Terrye', 'Tersina', 'Teryl', 'Terza', 'Tess', 'Tessa', 'Tessi', 'Tessie', 'Tessy', 'Thalia', 'Thea', 'Theada', 'Theadora', 'Theda', 'Thekla', 'Thelma', 'Theo', 'Theodora', 'Theodosia', 'Theresa', 'Theresa-Marie', 'Therese', 'Theresina', 'Theresita', 'Theressa', 'Therine', 'Thia', 'Thomasa', 'Thomasin', 'Thomasina', 'Thomasine', 'Tia', 'Tiana', 'Tiena', 'Tierney', 'Tiertza', 'Tiff', 'Tiffani', 'Tiffanie', 'Tiffany', 'Tiffi', 'Tiffie', 'Tiffy', 'Tilda', 'Tildi', 'Tildie', 'Tildy', 'Tillie', 'Tilly', 'Timi', 'Timmi', 'Timmie', 'Timothea', 'Tina', 'Tine', 'Tiphani', 'Tiphanie', 'Tiphany', 'Tish', 'Tisha', 'Tobe', 'Tobey', 'Tobi', 'Tobie', 'Toby', 'Tobye', 'Toinette', 'Toma', 'Tomasina', 'Tomasine', 'Tomi', 'Tomiko', 'Tommi', 'Tommie', 'Toni', 'Tonia', 'Tonie', 'Tony', 'Tonya', 'Tootsie', 'Torey', 'Tori', 'Torie', 'Torrie', 'Tory', 'Tova', 'Tove', 'Trace', 'Tracee', 'Tracey', 'Traci', 'Tracie', 'Tracy', 'Trenna', 'Tresa', 'Trescha', 'Tressa', 'Tricia', 'Trina', 'Trish', 'Trisha', 'Trista', 'Trixi', 'Trixie', 'Trixy', 'Truda', 'Trude', 'Trudey', 'Trudi', 'Trudie', 'Trudy', 'Trula', 'Tuesday', 'Twila', 'Twyla', 'Tybi', 'Tybie', 'Tyne', 'Ula', 'Ulla', 'Ulrica', 'Ulrika', 'Ulrike', 'Umeko', 'Una', 'Ursa', 'Ursala', 'Ursola', 'Ursula', 'Ursulina', 'Ursuline', 'Uta', 'Val', 'Valaree', 'Valaria', 'Vale', 'Valeda', 'Valencia', 'Valene', 'Valenka', 'Valentia', 'Valentina', 'Valentine', 'Valera', 'Valeria', 'Valerie', 'Valery', 'Valerye', 'Valida', 'Valina', 'Valli', 'Vallie', 'Vally', 'Valma', 'Valry', 'Van', 'Vanda', 'Vanessa', 'Vania', 'Vanna', 'Vanni', 'Vannie', 'Vanny', 'Vanya', 'Veda', 'Velma', 'Velvet', 'Vena', 'Venita', 'Ventura', 'Venus', 'Vera', 'Veradis', 'Vere', 'Verena', 'Verene', 'Veriee', 'Verile', 'Verina', 'Verine', 'Verla', 'Verna', 'Vernice', 'Veronica', 'Veronika', 'Veronike', 'Veronique', 'Vi', 'Vicki', 'Vickie', 'Vicky', 'Victoria', 'Vida', 'Viki', 'Vikki', 'Vikkie', 'Vikky', 'Vilhelmina', 'Vilma', 'Vin', 'Vina', 'Vinita', 'Vinni', 'Vinnie', 'Vinny', 'Viola', 'Violante', 'Viole', 'Violet', 'Violetta', 'Violette', 'Virgie', 'Virgina', 'Virginia', 'Virginie', 'Vita', 'Vitia', 'Vitoria', 'Vittoria', 'Viv', 'Viva', 'Vivi', 'Vivia', 'Vivian', 'Viviana', 'Vivianna', 'Vivianne', 'Vivie', 'Vivien', 'Viviene', 'Vivienne', 'Viviyan', 'Vivyan', 'Vivyanne', 'Vonni', 'Vonnie', 'Vonny', 'Wallie', 'Wallis', 'Wally', 'Waly', 'Wanda', 'Wandie', 'Wandis', 'Waneta', 'Wenda', 'Wendeline', 'Wendi', 'Wendie', 'Wendy', 'Wenona', 'Wenonah', 'Whitney', 'Wileen', 'Wilhelmina', 'Wilhelmine', 'Wilie', 'Willa', 'Willabella', 'Willamina', 'Willetta', 'Willette', 'Willi', 'Willie', 'Willow', 'Willy', 'Willyt', 'Wilma', 'Wilmette', 'Wilona', 'Wilone', 'Wilow', 'Windy', 'Wini', 'Winifred', 'Winna', 'Winnah', 'Winne', 'Winni', 'Winnie', 'Winnifred', 'Winny', 'Winona', 'Winonah', 'Wren', 'Wrennie', 'Wylma', 'Wynn', 'Wynne', 'Wynnie', 'Wynny', 'Xaviera', 'Xena', 'Xenia', 'Xylia', 'Xylina', 'Yalonda', 'Yehudit', 'Yelena', 'Yetta', 'Yettie', 'Yetty', 'Yevette', 'Yoko', 'Yolanda', 'Yolande', 'Yolane', 'Yolanthe', 'Yonina', 'Yoshi', 'Yoshiko', 'Yovonnda', 'Yvette', 'Yvonne', 'Zabrina', 'Zahara', 'Zandra', 'Zaneta', 'Zara', 'Zarah', 'Zaria', 'Zarla', 'Zea', 'Zelda', 'Zelma', 'Zena', 'Zenia', 'Zia', 'Zilvia', 'Zita', 'Zitella', 'Zoe', 'Zola', 'Zonda', 'Zondra', 'Zonnya', 'Zora', 'Zorah', 'Zorana', 'Zorina', 'Zorine', 'Zsa', 'Zsa', 'Zsazsa', 'Zulema', 'Zuzana', 'Mikako', 'Kaari', 'Gita', 'Geeta']\n"
     ]
    }
   ],
   "source": [
    "word = []\n",
    "for line in open('female.txt'):\n",
    "    word += [w for w in line.split() if w.endswith('x') is False and w.endswith('g') is False and w.endswith('m') is False and w.endswith('my') is False ]\n",
    "print(word)"
   ]
  },
  {
   "cell_type": "code",
   "execution_count": 7,
   "metadata": {},
   "outputs": [
    {
     "data": {
      "text/plain": [
       "4955"
      ]
     },
     "execution_count": 7,
     "metadata": {},
     "output_type": "execute_result"
    }
   ],
   "source": [
    "len(word)"
   ]
  },
  {
   "cell_type": "code",
   "execution_count": 8,
   "metadata": {
    "collapsed": true
   },
   "outputs": [],
   "source": [
    "c = ['Names']\n",
    "f = pd.DataFrame(word, columns=c)\n",
    "m = pd.DataFrame(words, columns=c)"
   ]
  },
  {
   "cell_type": "code",
   "execution_count": 9,
   "metadata": {
    "collapsed": true
   },
   "outputs": [],
   "source": [
    "f['Sex'] = \"female\"\n",
    "m['Sex'] = \"male\""
   ]
  },
  {
   "cell_type": "code",
   "execution_count": 10,
   "metadata": {
    "collapsed": true
   },
   "outputs": [],
   "source": [
    "f_train = f.iloc[:1900, :]\n",
    "f_test = f.iloc[1900:, :]\n",
    "m_train = m.iloc[:1900, :]\n",
    "m_test = m.iloc[1900:, :]"
   ]
  },
  {
   "cell_type": "code",
   "execution_count": 11,
   "metadata": {
    "collapsed": true
   },
   "outputs": [],
   "source": [
    "df_train = pd.concat([f_train, m_train])\n",
    "df_test = pd.concat([f_test, m_test])"
   ]
  },
  {
   "cell_type": "markdown",
   "metadata": {},
   "source": [
    "##  Часть 2. Базовый метод классификации\n",
    "\n",
    "Используйте метод наивного Байеса или логистическую регрессию для классификации имен: в качестве признаков используйте символьные $n$-граммы. Сравните результаты, получаемые при разных $n=2,3,4$ по $F$-мере и аккуратности. В каких случаях метод ошибается?\n",
    "\n",
    "Для генерации $n$-грамм используйте:"
   ]
  },
  {
   "cell_type": "code",
   "execution_count": 12,
   "metadata": {
    "collapsed": true
   },
   "outputs": [],
   "source": [
    "from nltk.util import ngrams\n",
    "from sklearn.naive_bayes import MultinomialNB\n",
    "from sklearn.linear_model import SGDClassifier, LogisticRegression\n",
    "from sklearn.ensemble import RandomForestClassifier\n",
    "from sklearn.decomposition import TruncatedSVD\n",
    "from sklearn.feature_extraction.text import *\n",
    "from sklearn.metrics import *\n",
    "from sklearn.pipeline import Pipeline"
   ]
  },
  {
   "cell_type": "markdown",
   "metadata": {},
   "source": [
    "#### Mетод наивного Байеса"
   ]
  },
  {
   "cell_type": "code",
   "execution_count": 13,
   "metadata": {
    "collapsed": true
   },
   "outputs": [],
   "source": [
    "Val1 = 1\n",
    "Val2 = 1\n",
    "\n",
    "clf = Pipeline([\n",
    "    ('vect',CountVectorizer(analyzer='char', ngram_range=(Val1,Val2))),\n",
    "    ('clf',  MultinomialNB()),\n",
    "])"
   ]
  },
  {
   "cell_type": "code",
   "execution_count": 14,
   "metadata": {},
   "outputs": [
    {
     "data": {
      "text/plain": [
       "Pipeline(memory=None,\n",
       "     steps=[('vect', CountVectorizer(analyzer='char', binary=False, decode_error='strict',\n",
       "        dtype=<class 'numpy.int64'>, encoding='utf-8', input='content',\n",
       "        lowercase=True, max_df=1.0, max_features=None, min_df=1,\n",
       "        ngram_range=(1, 1), preprocessor=None, stop_words=None,\n",
       "        strip_accents=None, token_pattern='(?u)\\\\b\\\\w\\\\w+\\\\b',\n",
       "        tokenizer=None, vocabulary=None)), ('clf', MultinomialNB(alpha=1.0, class_prior=None, fit_prior=True))])"
      ]
     },
     "execution_count": 14,
     "metadata": {},
     "output_type": "execute_result"
    }
   ],
   "source": [
    "clf.fit(df_train.Names, df_train.Sex)"
   ]
  },
  {
   "cell_type": "code",
   "execution_count": 15,
   "metadata": {
    "collapsed": true
   },
   "outputs": [],
   "source": [
    "predicted = clf.predict(df_test.Names)"
   ]
  },
  {
   "cell_type": "code",
   "execution_count": 16,
   "metadata": {},
   "outputs": [
    {
     "name": "stdout",
     "output_type": "stream",
     "text": [
      "Accuracy:   0.46\n",
      "F1-measure:   0.39\n"
     ]
    }
   ],
   "source": [
    "print(\"Accuracy: {0:6.2f}\".format(accuracy_score(df_test.Sex, predicted)))\n",
    "print(\"F1-measure: {0:6.2f}\".format(f1_score(df_test.Sex, predicted, average='macro')))"
   ]
  },
  {
   "cell_type": "markdown",
   "metadata": {},
   "source": [
    "Самый лучший результат достигается при n = 4\n",
    "* ngram_range=(4,4) Accuracy:   0.73, F1-measure:   0.51\n",
    "* ngram_range=(3, 3) Accuracy:   0.62, F1-measure:   0.48\n",
    "* ngram_range=(2, 2) Accuracy:   0.56, F1-measure:   0.45\n",
    "* ngram_range=(1, 1) Accuracy:   0.46, F1-measure:   0.39"
   ]
  },
  {
   "cell_type": "markdown",
   "metadata": {},
   "source": [
    "#### Логистическая регрессия"
   ]
  },
  {
   "cell_type": "code",
   "execution_count": 17,
   "metadata": {
    "collapsed": true
   },
   "outputs": [],
   "source": [
    "Val1 = 2\n",
    "Val2 = 2\n",
    "\n",
    "clf1 = Pipeline([\n",
    "    ('vect', CountVectorizer(analyzer='char', ngram_range=(Val1,Val2))),\n",
    "    ('clf1',  LogisticRegression())\n",
    "    ])"
   ]
  },
  {
   "cell_type": "code",
   "execution_count": 18,
   "metadata": {},
   "outputs": [
    {
     "data": {
      "text/plain": [
       "Pipeline(memory=None,\n",
       "     steps=[('vect', CountVectorizer(analyzer='char', binary=False, decode_error='strict',\n",
       "        dtype=<class 'numpy.int64'>, encoding='utf-8', input='content',\n",
       "        lowercase=True, max_df=1.0, max_features=None, min_df=1,\n",
       "        ngram_range=(2, 2), preprocessor=None, stop_words=None,\n",
       "        strip...ty='l2', random_state=None, solver='liblinear', tol=0.0001,\n",
       "          verbose=0, warm_start=False))])"
      ]
     },
     "execution_count": 18,
     "metadata": {},
     "output_type": "execute_result"
    }
   ],
   "source": [
    "clf1.fit(df_train.Names, df_train.Sex)"
   ]
  },
  {
   "cell_type": "code",
   "execution_count": 19,
   "metadata": {
    "collapsed": true
   },
   "outputs": [],
   "source": [
    "predicted1 = clf1.predict(df_test.Names)"
   ]
  },
  {
   "cell_type": "code",
   "execution_count": 20,
   "metadata": {},
   "outputs": [
    {
     "name": "stdout",
     "output_type": "stream",
     "text": [
      "Accuracy:   0.60\n",
      "F1-measure:   0.48\n"
     ]
    }
   ],
   "source": [
    "print(\"Accuracy: {0:6.2f}\".format(accuracy_score(df_test.Sex, predicted1)))\n",
    "print(\"F1-measure: {0:6.2f}\".format(f1_score(df_test.Sex, predicted1, average='macro')))"
   ]
  },
  {
   "cell_type": "markdown",
   "metadata": {},
   "source": [
    "Самый лучший результат достигается при n = 2\n",
    "* ngram_range=(4,4) Accuracy:   0.49, F1-measure:   0.41\n",
    "* ngram_range=(3, 3) Accuracy:   0.56, F1-measure:   0.45\n",
    "* ngram_range=(2, 2) Accuracy:   0.60, F1-measure:   0.48\n",
    "* ngram_range=(1, 1) Accuracy:   0.48, F1-measure:   0.40"
   ]
  },
  {
   "cell_type": "markdown",
   "metadata": {},
   "source": [
    "Если использовать analyzer='char_wb' вместо analyzer='char', можно улучшить результат до Accuracy:   0.65, F1-measure:   0.52"
   ]
  },
  {
   "cell_type": "markdown",
   "metadata": {},
   "source": [
    "##  Часть 3. Нейронная сеть\n",
    "\n",
    "\n",
    "Используйте  реккурентную нейронную сеть с  LSTM для решения задачи. В ней может быть несколько слоев с LSTM, несколько слоев c Bidirectional(LSTM).  У нейронной сети один выход, определяющий класс имени. \n",
    "\n",
    "Представление имени для классификации в этом случае: бинарная матрица размера (количество букв в алфавите $\\times$ максимальная длина имени). Обозначим его через $x$. Если первая буква имени a, то $x[1][1] = 1$, если вторая – b, то  $x[2][1] = 1$.  \n",
    "\n",
    "Не забудьте про регуляризацию нейронной сети дропаутами. \n",
    "\n",
    "Сравните результаты классификации разными методами. Какой метод лучше и почему?\n",
    "\n",
    "Сравните результаты, получаемые при разных значениях дропаута, разных числах узлов на слоях нейронной сети по $F$-мере и аккуратности. В каких случаях нейронная сеть ошибается?"
   ]
  },
  {
   "cell_type": "markdown",
   "metadata": {},
   "source": [
    "Если совсем не получается запрограммировать нейронную сеть самостоятельно, обратитесь к туториалу тут: https://github.com/divamgupta/lstm-gender-predictor"
   ]
  }
 ],
 "metadata": {
  "kernelspec": {
   "display_name": "Python 3",
   "language": "python",
   "name": "python3"
  },
  "language_info": {
   "codemirror_mode": {
    "name": "ipython",
    "version": 3
   },
   "file_extension": ".py",
   "mimetype": "text/x-python",
   "name": "python",
   "nbconvert_exporter": "python",
   "pygments_lexer": "ipython3",
   "version": "3.6.3"
  }
 },
 "nbformat": 4,
 "nbformat_minor": 2
}
