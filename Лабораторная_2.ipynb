{
 "cells": [
  {
   "cell_type": "markdown",
   "metadata": {},
   "source": [
    "# Домашнее задание 2 по обработке текстов\n",
    "\n",
    "Рассмотрим задачу бинарной классификации. Пусть дано два списка имен: мужские и женские имена. Требуется разработать классификатор, который по данному имени будет определять мужское оно или женское.\n",
    "\n",
    "Данные: \n",
    "* Женские имена: female.txt\n",
    "* Мужские имена: male.txt"
   ]
  },
  {
   "cell_type": "code",
   "execution_count": 1,
   "metadata": {
    "collapsed": true
   },
   "outputs": [],
   "source": [
    "import pandas as pd\n",
    "\n",
    "with open ('female.txt') as f:\n",
    "    female = f.read()\n",
    "with open ('male.txt') as f:\n",
    "    male = f.read()"
   ]
  },
  {
   "cell_type": "markdown",
   "metadata": {},
   "source": [
    "## Часть 1. Предварительная обработка данных\n",
    "\n",
    "1. Удалите неоднозначные имена (те имена, которые являются и мужскими, и женскими дновременно), если такие есть; \n",
    "2. Создайте обучающее и тестовое множество так, чтобы в обучающем множестве классы были сбалансированы, т.е. к классу принадлежало бы одинаковое количество имен;"
   ]
  },
  {
   "cell_type": "code",
   "execution_count": 1,
   "metadata": {},
   "outputs": [
    {
     "name": "stdout",
     "output_type": "stream",
     "text": [
      "Parse(word='vibhu', tag=OpencorporaTag('LATN'), normal_form='vibhu', score=1.0, methods_stack=((<LatinAnalyzer>, 'Vibhu'),))\n"
     ]
    }
   ],
   "source": [
    "import pymorphy2\n",
    "morph = pymorphy2.MorphAnalyzer()\n",
    "for line in open ('male.txt'):\n",
    "    p = morph.parse(line)[0]\n",
    "print(p)"
   ]
  },
  {
   "cell_type": "markdown",
   "metadata": {},
   "source": [
    "С помощью pymorphy2 не удалось посмотреть к какому полу относится имя, pymorphy тоже определят пол очень плохо. Попробуем перевести имена на русский язык и снова применить pymorphy2. Используем для этого ф-ю translate, которая переведет имена из латиницы в кириллицу"
   ]
  },
  {
   "cell_type": "code",
   "execution_count": 5,
   "metadata": {
    "collapsed": true
   },
   "outputs": [],
   "source": [
    "def translate(name):\n",
    " \n",
    "    #Заменяем пробелы и преобразуем строку к нижнему регистру\n",
    "    name = name.replace(' ','-').lower()\n",
    " \n",
    "    #\n",
    "    transtable = (\n",
    "        (u\"Sch\", u\"Щ\"),\n",
    "        (u\"SCH\", u\"Щ\"),\n",
    "        ( u\"Yo\", u\"Ё\"),\n",
    "        ( u\"YO\", u\"Ё\"),\n",
    "        ( u\"Zh\", u\"Ж\"),\n",
    "        ( u\"ZH\", u\"Ж\"),\n",
    "        ( u\"Ts\", u\"Ц\"),\n",
    "        ( u\"TS\", u\"Ц\"),\n",
    "        ( u\"Ch\", u\"Ч\"),\n",
    "        ( u\"CH\", u\"Ч\"),\n",
    "        ( u\"Sh\", u\"Ш\"),\n",
    "        ( u\"SH\", u\"Ш\"),\n",
    "        ( u\"Yi\", u\"Ы\"),\n",
    "        ( u\"YI\", u\"Ы\"),\n",
    "        ( u\"Yu\", u\"Ю\"),\n",
    "        ( u\"YU\", u\"Ю\"),\n",
    "        ( u\"Ya\", u\"Я\"),\n",
    "        ( u\"YA\", u\"Я\"),\n",
    "        ( u\"A\", u\"А\"),\n",
    "        ( u\"B\", u\"Б\"),\n",
    "        ( u\"V\", u\"В\"),\n",
    "        ( u\"G\", u\"Г\"),\n",
    "        ( u\"D\", u\"Д\"),\n",
    "        ( u\"E\", u\"Е\"),\n",
    "        ( u\"Z\", u\"З\"),\n",
    "        ( u\"I\", u\"И\"),\n",
    "        ( u\"J\", u\"Й\"),\n",
    "        ( u\"K\", u\"К\"),\n",
    "        ( u\"L\", u\"Л\"),\n",
    "        ( u\"M\", u\"М\"),\n",
    "        ( u\"N\", u\"Н\"),\n",
    "        ( u\"O\", u\"О\"),\n",
    "        ( u\"P\", u\"П\"),\n",
    "        ( u\"R\", u\"Р\"),\n",
    "        ( u\"S\", u\"С\"),\n",
    "        ( u\"T\", u\"Т\"),\n",
    "        ( u\"U\", u\"У\"),\n",
    "        ( u\"F\", u\"Ф\"),\n",
    "        ( u\"H\", u\"Х\"),\n",
    "        ( u\"E\", u\"Э\"),\n",
    "        ( u\"sch\", u\"щ\"),\n",
    "        ( u\"yo\", u\"ё\"),\n",
    "        ( u\"zh\", u\"ж\"),\n",
    "        ( u\"ts\", u\"ц\"),\n",
    "        ( u\"ch\", u\"ч\"),\n",
    "        ( u\"sh\", u\"ш\"),\n",
    "        ( u\"yi\", u\"ы\"),\n",
    "        ( u\"yu\", u\"ю\"),\n",
    "        ( u\"ya\", u\"я\"),\n",
    "        ( u\"a\", u\"а\"),\n",
    "        ( u\"b\", u\"б\"),\n",
    "        ( u\"v\", u\"в\"),\n",
    "        ( u\"g\", u\"г\"),\n",
    "        ( u\"d\", u\"д\"),\n",
    "        ( u\"e\", u\"е\"),\n",
    "        ( u\"z\", u\"з\"),\n",
    "        ( u\"i\", u\"и\"),\n",
    "        ( u\"j\", u\"й\"),\n",
    "        ( u\"k\", u\"к\"),\n",
    "        ( u\"l\", u\"л\"),\n",
    "        ( u\"m\", u\"м\"),\n",
    "        ( u\"n\", u\"н\"),\n",
    "        ( u\"o\", u\"о\"),\n",
    "        ( u\"p\", u\"п\"),\n",
    "        ( u\"r\", u\"р\"),\n",
    "        ( u\"s\", u\"с\"),\n",
    "        ( u\"t\", u\"т\"),\n",
    "        ( u\"u\", u\"у\"),\n",
    "        ( u\"f\", u\"ф\"),\n",
    "        ( u\"h\", u\"х\"),\n",
    "        ( u\"e\", u\"э\"),\n",
    "    )\n",
    "    #перебираем символы в таблице и заменяем\n",
    "    for symb_in, symb_out in transtable:\n",
    "        name = name.replace(symb_in, symb_out)\n",
    "    #возвращаем переменную\n",
    "    return name"
   ]
  },
  {
   "cell_type": "code",
   "execution_count": 6,
   "metadata": {
    "collapsed": true
   },
   "outputs": [],
   "source": [
    "femn = []\n",
    "for line in female.split():\n",
    "    p = morph.parse(translate(line))[0]\n",
    "    g = p.tag.gender\n",
    "    if p.tag.gender == 'femn':\n",
    "        femn.append(line)\n",
    "        #print(femn)"
   ]
  },
  {
   "cell_type": "code",
   "execution_count": 10,
   "metadata": {},
   "outputs": [
    {
     "name": "stdout",
     "output_type": "stream",
     "text": [
      "5004\n",
      "2121\n"
     ]
    }
   ],
   "source": [
    "print(len(female.split()))\n",
    "print(len(femn))"
   ]
  },
  {
   "cell_type": "code",
   "execution_count": 11,
   "metadata": {
    "collapsed": true
   },
   "outputs": [],
   "source": [
    "masc = []\n",
    "for line in male.split():\n",
    "    p = morph.parse(translate(line))[0]\n",
    "    g = p.tag.gender\n",
    "    if p.tag.gender == 'masc':\n",
    "        masc.append(line)\n",
    "        #print(masc)"
   ]
  },
  {
   "cell_type": "code",
   "execution_count": 12,
   "metadata": {},
   "outputs": [
    {
     "name": "stdout",
     "output_type": "stream",
     "text": [
      "2943\n",
      "1765\n"
     ]
    }
   ],
   "source": [
    "print(len(male.split()))\n",
    "print(len(masc))"
   ]
  },
  {
   "cell_type": "code",
   "execution_count": 13,
   "metadata": {
    "collapsed": true
   },
   "outputs": [],
   "source": [
    "c = ['Names']\n",
    "f = pd.DataFrame(femn, columns=c)\n",
    "m = pd.DataFrame(masc, columns=c)"
   ]
  },
  {
   "cell_type": "code",
   "execution_count": 14,
   "metadata": {
    "collapsed": true
   },
   "outputs": [],
   "source": [
    "f['Sex'] = \"female\"\n",
    "m['Sex'] = \"male\""
   ]
  },
  {
   "cell_type": "code",
   "execution_count": 15,
   "metadata": {
    "collapsed": true
   },
   "outputs": [],
   "source": [
    "f_train = f.iloc[:1580, :]\n",
    "f_test = f.iloc[1580:, :]\n",
    "m_train = m.iloc[:1580, :]\n",
    "m_test = m.iloc[1580:, :]"
   ]
  },
  {
   "cell_type": "code",
   "execution_count": 16,
   "metadata": {
    "collapsed": true
   },
   "outputs": [],
   "source": [
    "df_train = pd.concat([f_train, m_train])\n",
    "df_test = pd.concat([f_test, m_test])"
   ]
  },
  {
   "cell_type": "markdown",
   "metadata": {},
   "source": [
    "##  Часть 2. Базовый метод классификации\n",
    "\n",
    "Используйте метод наивного Байеса или логистическую регрессию для классификации имен: в качестве признаков используйте символьные $n$-граммы. Сравните результаты, получаемые при разных $n=2,3,4$ по $F$-мере и аккуратности. В каких случаях метод ошибается?\n",
    "\n",
    "Для генерации $n$-грамм используйте:"
   ]
  },
  {
   "cell_type": "code",
   "execution_count": 17,
   "metadata": {
    "collapsed": true
   },
   "outputs": [],
   "source": [
    "from nltk.util import ngrams\n",
    "from sklearn.naive_bayes import MultinomialNB\n",
    "from sklearn.linear_model import SGDClassifier, LogisticRegression\n",
    "from sklearn.ensemble import RandomForestClassifier\n",
    "from sklearn.decomposition import TruncatedSVD\n",
    "from sklearn.feature_extraction.text import *\n",
    "from sklearn.metrics import *\n",
    "from sklearn.pipeline import Pipeline"
   ]
  },
  {
   "cell_type": "markdown",
   "metadata": {},
   "source": [
    "#### Mетод наивного Байеса"
   ]
  },
  {
   "cell_type": "code",
   "execution_count": 18,
   "metadata": {
    "collapsed": true
   },
   "outputs": [],
   "source": [
    "Val1 = 2\n",
    "Val2 = 3\n",
    "\n",
    "clf = Pipeline([\n",
    "    ('vect',CountVectorizer(analyzer='char', ngram_range=(Val1,Val2))),\n",
    "    ('clf',  MultinomialNB()),\n",
    "])"
   ]
  },
  {
   "cell_type": "code",
   "execution_count": 19,
   "metadata": {},
   "outputs": [
    {
     "data": {
      "text/plain": [
       "Pipeline(memory=None,\n",
       "     steps=[('vect', CountVectorizer(analyzer='char', binary=False, decode_error='strict',\n",
       "        dtype=<class 'numpy.int64'>, encoding='utf-8', input='content',\n",
       "        lowercase=True, max_df=1.0, max_features=None, min_df=1,\n",
       "        ngram_range=(2, 3), preprocessor=None, stop_words=None,\n",
       "        strip_accents=None, token_pattern='(?u)\\\\b\\\\w\\\\w+\\\\b',\n",
       "        tokenizer=None, vocabulary=None)), ('clf', MultinomialNB(alpha=1.0, class_prior=None, fit_prior=True))])"
      ]
     },
     "execution_count": 19,
     "metadata": {},
     "output_type": "execute_result"
    }
   ],
   "source": [
    "clf.fit(df_train.Names, df_train.Sex)"
   ]
  },
  {
   "cell_type": "code",
   "execution_count": 20,
   "metadata": {
    "collapsed": true
   },
   "outputs": [],
   "source": [
    "predicted = clf.predict(df_test.Names)"
   ]
  },
  {
   "cell_type": "code",
   "execution_count": 21,
   "metadata": {},
   "outputs": [
    {
     "name": "stdout",
     "output_type": "stream",
     "text": [
      "Accuracy:   0.70\n",
      "F1-measure:   0.67\n"
     ]
    }
   ],
   "source": [
    "print(\"Accuracy: {0:6.2f}\".format(accuracy_score(df_test.Sex, predicted)))\n",
    "print(\"F1-measure: {0:6.2f}\".format(f1_score(df_test.Sex, predicted, average='macro')))"
   ]
  },
  {
   "cell_type": "markdown",
   "metadata": {},
   "source": [
    "Результаты:\n",
    "* ngram_range=(4, 4) Accuracy:   0.73, F1-measure:   0.66\n",
    "* ngram_range=(3, 3) Accuracy:   0.72, F1-measure:   0.68\n",
    "* ngram_range=(2, 2) Accuracy:   0.67, F1-measure:   0.64\n",
    "* ngram_range=(1, 1) Accuracy:   0.56, F1-measure:   0.55"
   ]
  },
  {
   "cell_type": "markdown",
   "metadata": {},
   "source": [
    "#### Логистическая регрессия"
   ]
  },
  {
   "cell_type": "code",
   "execution_count": 22,
   "metadata": {
    "collapsed": true
   },
   "outputs": [],
   "source": [
    "Val1 = 2\n",
    "Val2 = 4\n",
    "\n",
    "clf1 = Pipeline([\n",
    "    ('vect', CountVectorizer(analyzer='char', ngram_range=(Val1,Val2))),\n",
    "    ('clf1',  LogisticRegression())\n",
    "    ])"
   ]
  },
  {
   "cell_type": "code",
   "execution_count": 23,
   "metadata": {},
   "outputs": [
    {
     "data": {
      "text/plain": [
       "Pipeline(memory=None,\n",
       "     steps=[('vect', CountVectorizer(analyzer='char', binary=False, decode_error='strict',\n",
       "        dtype=<class 'numpy.int64'>, encoding='utf-8', input='content',\n",
       "        lowercase=True, max_df=1.0, max_features=None, min_df=1,\n",
       "        ngram_range=(2, 4), preprocessor=None, stop_words=None,\n",
       "        strip...ty='l2', random_state=None, solver='liblinear', tol=0.0001,\n",
       "          verbose=0, warm_start=False))])"
      ]
     },
     "execution_count": 23,
     "metadata": {},
     "output_type": "execute_result"
    }
   ],
   "source": [
    "clf1.fit(df_train.Names, df_train.Sex)"
   ]
  },
  {
   "cell_type": "code",
   "execution_count": 24,
   "metadata": {
    "collapsed": true
   },
   "outputs": [],
   "source": [
    "predicted1 = clf1.predict(df_test.Names)"
   ]
  },
  {
   "cell_type": "code",
   "execution_count": 25,
   "metadata": {},
   "outputs": [
    {
     "name": "stdout",
     "output_type": "stream",
     "text": [
      "Accuracy:   0.76\n",
      "F1-measure:   0.74\n"
     ]
    }
   ],
   "source": [
    "print(\"Accuracy: {0:6.2f}\".format(accuracy_score(df_test.Sex, predicted1)))\n",
    "print(\"F1-measure: {0:6.2f}\".format(f1_score(df_test.Sex, predicted1, average='macro')))"
   ]
  },
  {
   "cell_type": "markdown",
   "metadata": {},
   "source": [
    "Результаты:\n",
    "* ngram_range=(4, 4) Accuracy:   0.64, F1-measure:   0.63\n",
    "* ngram_range=(3, 3) Accuracy:   0.73, F1-measure:   0.71\n",
    "* ngram_range=(2, 2) Accuracy:   0.75, F1-measure:   0.72\n",
    "* ngram_range=(1, 1) Accuracy:   0.62, F1-measure:   0.60"
   ]
  },
  {
   "cell_type": "markdown",
   "metadata": {},
   "source": [
    "Если использовать analyzer='char_wb' вместо analyzer='char', можно еще улучшить результат."
   ]
  },
  {
   "cell_type": "markdown",
   "metadata": {},
   "source": [
    "##  Часть 3. Нейронная сеть\n",
    "\n",
    "\n",
    "Используйте  реккурентную нейронную сеть с  LSTM для решения задачи. В ней может быть несколько слоев с LSTM, несколько слоев c Bidirectional(LSTM).  У нейронной сети один выход, определяющий класс имени. \n",
    "\n",
    "Представление имени для классификации в этом случае: бинарная матрица размера (количество букв в алфавите $\\times$ максимальная длина имени). Обозначим его через $x$. Если первая буква имени a, то $x[1][1] = 1$, если вторая – b, то  $x[2][1] = 1$.  \n",
    "\n",
    "Не забудьте про регуляризацию нейронной сети дропаутами. \n",
    "\n",
    "Сравните результаты классификации разными методами. Какой метод лучше и почему?\n",
    "\n",
    "Сравните результаты, получаемые при разных значениях дропаута, разных числах узлов на слоях нейронной сети по $F$-мере и аккуратности. В каких случаях нейронная сеть ошибается?"
   ]
  },
  {
   "cell_type": "markdown",
   "metadata": {},
   "source": [
    "Если совсем не получается запрограммировать нейронную сеть самостоятельно, обратитесь к туториалу тут: https://github.com/divamgupta/lstm-gender-predictor"
   ]
  }
 ],
 "metadata": {
  "kernelspec": {
   "display_name": "Python 3",
   "language": "python",
   "name": "python3"
  },
  "language_info": {
   "codemirror_mode": {
    "name": "ipython",
    "version": 3
   },
   "file_extension": ".py",
   "mimetype": "text/x-python",
   "name": "python",
   "nbconvert_exporter": "python",
   "pygments_lexer": "ipython3",
   "version": "3.6.3"
  }
 },
 "nbformat": 4,
 "nbformat_minor": 2
}
