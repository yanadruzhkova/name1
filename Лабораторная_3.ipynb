{
 "cells": [
  {
   "cell_type": "markdown",
   "metadata": {},
   "source": [
    "# Домашнее задание 3\n",
    "\n",
    "## Сбор данных из интернета и генерация текстов\n",
    "\n",
    "В этом домашнем задании вам предстоит: \n",
    "1. выбрать свой источник структурированных данных (прогноз погоды, курс акций, счет спортивных мероприятий, или что-нибудь еще) \n",
    "2. научиться извлекать данные из с выбранной веб-страницы\n",
    "3. научиться генерировать текст по шаблонам"
   ]
  },
  {
   "cell_type": "markdown",
   "metadata": {},
   "source": [
    "## Часть 1\n",
    "\n",
    "В качестве источника данных используется сайт МФТИ https://mipt.ru/, извлекается информация о сотрудниках ректората (ФИО, должность и контактная информация)."
   ]
  },
  {
   "cell_type": "code",
   "execution_count": 1,
   "metadata": {
    "collapsed": true
   },
   "outputs": [],
   "source": [
    "import urllib.request \n",
    "import pandas as pd\n",
    "import re\n",
    "\n",
    "from nltk import tokenize\n",
    "from nltk.corpus import stopwords\n",
    "from pymystem3 import Mystem\n",
    "\n",
    "from scrapy.selector import Selector\n",
    "from scrapy.http import HtmlResponse\n",
    "from tqdm import tqdm"
   ]
  },
  {
   "cell_type": "code",
   "execution_count": 2,
   "metadata": {
    "collapsed": true
   },
   "outputs": [],
   "source": [
    "link = urllib.request.urlopen('https://mipt.ru/persons/rectorat/')\n",
    " \n",
    "lines = []\n",
    "for line in link.readlines():\n",
    "    #взяли все строки с сотрудниками\n",
    "    if line.find(b'<h3>') != -1 and line.find(b'<a class') != -1 and line.find(b'href') != -1:\n",
    "        lines.append(line)\n",
    "link.close()\n",
    "\n",
    "#Переводим bytes в str\n",
    "for i in range(len(lines)):\n",
    "    lines[i] = lines[i].decode('utf-8')\n",
    "    \n",
    "for i in range(len(lines)):\n",
    "    #Убираем все лишнее\n",
    "    lines[i] = lines[i].replace('\\t\\t\\t<div class=\"name_pers\">', '')\n",
    "    lines[i] = lines[i].replace('<h3>', '')\n",
    "    lines[i] = lines[i].replace('<a class=\"name_pers-headlink\" href=\"', 'https://mipt.ru')\n",
    "    lines[i] = lines[i].replace('\">', ' ')\n",
    "    lines[i] = lines[i].replace('</a></h3></div>\\n', '')\n",
    "\n",
    "#Фио сотрудников\n",
    "names = []\n",
    "#URL`ы с их контактными данными\n",
    "urls = []\n",
    "for line in lines:\n",
    "    words = line.split(' ')\n",
    "    urls.append(words[0])\n",
    "    name = words[1] + ' ' + words[2] + ' ' + words[3]\n",
    "    names.append(name)"
   ]
  },
  {
   "cell_type": "code",
   "execution_count": 3,
   "metadata": {
    "collapsed": true
   },
   "outputs": [],
   "source": [
    "#Ученая степень\n",
    "degree = []\n",
    "for url in urls:\n",
    "    link = urllib.request.urlopen(url)\n",
    "    for line in link.readlines():\n",
    "        if line.find(b'<div class=\"person_main_academic_degree') == -1: #and \n",
    "            if line.find(b'<p>') != -1 and line.find(b'<em>') != -1:\n",
    "                degree.append(line)\n",
    "    link.close()\n",
    "    \n",
    "for i in range(len(degree)):\n",
    "    degree[i] = degree[i].decode('utf-8')\n",
    "    \n",
    "for i in range(len(degree)):\n",
    "    degree[i] = degree[i].replace('\\t\\t\\t\\t\\t\\t<p><em></em></p>\\n', 'Нет информации')\n",
    "    degree[i] = degree[i].replace('\\t\\t\\t\\t\\t\\t<p><em>', '')\n",
    "    degree[i] = degree[i].replace('</em></p>\\n', '')\n",
    "    "
   ]
  },
  {
   "cell_type": "code",
   "execution_count": 4,
   "metadata": {
    "collapsed": true
   },
   "outputs": [],
   "source": [
    "#Контакты\n",
    "contact = []\n",
    "for url in urls:\n",
    "    link = urllib.request.urlopen(url)\n",
    "    for line in link.readlines():\n",
    "        if line.find(b'<div class=\"person_main') == -1: \n",
    "            if line.find(b'<div class=\"person_main_contact\">') == -1 and line.find(b'<p>') != -1 and line.find(b'<a href=\"mailto:') != -1:\n",
    "                contact.append(line)\n",
    "    \n",
    "    link.close()\n",
    "\n",
    "for i in range(len(contact)):\n",
    "    contact[i] = contact[i].decode('utf-8')\n",
    "for i in range(len(contact)):    \n",
    "    contact[i] = contact[i].replace('\\t\\t\\t            \\t\\t\\t\\t<p>', '')\n",
    "    contact[i] = contact[i].replace('<a href=\"mailto:rector@mipt.ru\">', '')\n",
    "    contact[i] = contact[i].replace('</a></p>\\n', '')\n",
    "    contact[i] = contact[i].replace('          <p><a href=\"', '')\n",
    "    contact[i] = contact[i].replace('+74954084800\" target=\"_blank\">', ' ')\n",
    "    contact[i] = contact[i].replace('</a><br> <a href=\"mailto:pk@mipt.ru\">', ' Эл. почта: ')\n",
    "    contact[i] = contact[i].replace('                            <p>', '')\n",
    "    contact[i] = contact[i].replace('\\t\\t\\t            \\t\\t\\t\\t<p>', '')\n",
    "    contact[i] = contact[i].replace('<a href=\"mailto:bagan.va@mipt.ru\">', '')\n",
    "    contact[i] = contact[i].replace('<a href=\"mailto:ffke@mipt.ru\">', '')    \n",
    "    contact[i] = contact[i].replace('\\t\\t\\t\\t\\t\\t\\t<p>', '')\n",
    "    contact[i] = contact[i].replace('\\t\\t\\t            \\t\\t\\t\\t<p>', '')\n",
    "    contact[i] = contact[i].replace('<a href=\"mailto:evgeny.evseev@gmail.com\">', '')\n",
    "    contact[i] = contact[i].replace('</a></p>\\n', '')   \n",
    "    contact[i] = contact[i].replace('          <p><a href=\"', '') \n",
    "    contact[i] = contact[i].replace('</a><br> <a href=\"mailto:pk@mipt.ru\">', '') \n",
    "    contact[i] = contact[i].replace('\\t\\t\\t            \\t\\t\\t\\t<p>', '')\n",
    "    contact[i] = contact[i].replace('<a href=\"mailto:evgeny.evseev@gmail.com\">', '')\n",
    "    contact[i] = contact[i].replace('</a></p>\\n', '')\n",
    "    contact[i] = contact[i].replace('\\t\\t\\t\\t\\t\\t\\t<p>', '')\n",
    "    contact[i] = contact[i].replace('          <p><a href=\"', '')\n",
    "    contact[i] = contact[i].replace('+74954084800\" target=\"_blank\">', ' ')\n",
    "    contact[i] = contact[i].replace('</a><br> <a href=\"mailto:pk@mipt.ru\">', ' ')\n",
    "    contact[i] = contact[i].replace('+74954084800\" target=\"_blank\">', ' ')\n",
    "    contact[i] = contact[i].replace('<a href=\"mailto:evseev.eg@mipt.ru\">', ' ')\n",
    "    contact[i] = contact[i].replace('<a href=\"mailto:zubtsov@phystech.edu\">', ' ')\n",
    "    contact[i] = contact[i].replace('<a href=\"mailto:zubtsov.da@mipt.ru\">', ' ')\n",
    "    contact[i] = contact[i].replace('+74954084800\" target=\"_blank\">', ' ') \n",
    "    contact[i] = contact[i].replace('tel', 'Тел') "
   ]
  },
  {
   "cell_type": "code",
   "execution_count": 5,
   "metadata": {},
   "outputs": [
    {
     "name": "stdout",
     "output_type": "stream",
     "text": [
      "Кудрявцев Николай Николаевич : Доктор физико-математических наук, член-корреспондент РАН Эл. почта: rector@mipt.ru\n",
      "Воронов Артем Анатольевич : Кандидат физико-математических наук Тел: +7 (495) 408-48-00 Эл. почта: pk@mipt.ru\n",
      "Гаричев Сергей Николаевич : Доктор технических наук Тел: +7 (495) 408-48-00 Эл. почта: pk@mipt.ru\n",
      "Анохова Елена Владимировна : кандидат экономических наук Тел: +7 (495) 408-48-00 Эл. почта: pk@mipt.ru\n",
      "Ланчаков Александр Борисович : Нет информации Тел: +7 (495) 408-48-00 Эл. почта: pk@mipt.ru\n",
      "Зайцев Константин Кириллович : Нет информации Тел: +7 (495) 408-48-00 Эл. почта: pk@mipt.ru\n",
      "Петушков Владимир Сергеевич : Нет информации Тел: +7 (495) 408-48-00 Эл. почта: pk@mipt.ru\n",
      "Дворкович Александр Викторович : Доктор технических наук, член-корр. РАН Тел: +7 (495) 408-48-00 Эл. почта: pk@mipt.ru\n",
      "Киселев Валерий Валерьевич : Доктор физико-математических наук, доцент Тел: +7 (495) 408-48-00 Эл. почта: pk@mipt.ru\n",
      "Негодяев Сергей Серафимович : Кандидат технических наук Тел: +7 (495) 408-48-00 Эл. почта: pk@mipt.ru\n",
      "Иванов Виктор Владимирович : Доктор физико-математических наук, член-корреспондент РАН Тел: +7 (495) 408-48-00 Эл. почта: pk@mipt.ru\n",
      "Райгородский Андрей Михайлович : Доктор физико-математических наук, профессор Эл. почта: ffke@mipt.ru\n",
      "Назаров Виктор Борисович : Доктор биологических наук (2004), кандидат химических наук (1999) Тел: +7 (495) 408-48-00 Эл. почта: pk@mipt.ru\n",
      "Баган Виталий Анатольевич : кандидат физико-математических наук Тел: +7 (495) 408-48-00 Эл. почта: pk@mipt.ru\n",
      "Евсеев Евгений Григорьевич : кандидат физико-математических наук, доцент Тел: +7 (495) 408-48-00 Эл. почта: pk@mipt.ru\n",
      "Зубцов Дмитрий Александрович : Кандидат физико-математических наук по специальности «‭молекулярная биология» Эл. почта: bagan.va@mipt.ru\n",
      "Скалько Юрий Иванович : кандидат физико-математических наук Тел: +7 (495) 408-48-00 Эл. почта: pk@mipt.ru\n"
     ]
    }
   ],
   "source": [
    "for i in range(len(names)):\n",
    "    print(names[i], ':', degree[i], contact[i])"
   ]
  },
  {
   "cell_type": "code",
   "execution_count": null,
   "metadata": {
    "collapsed": true
   },
   "outputs": [],
   "source": []
  },
  {
   "cell_type": "markdown",
   "metadata": {},
   "source": [
    "## Часть 2\n",
    "Запрограммируйте шаблон, описывающие температуру, уровень осадков и скорость ветра сегодня. Например,\n",
    "\"Температура сегодня составляет X градусов\", где Х – излеченное выше число. Сгенерируйте таким образом описание погоды сегодня. Учтите, величина X влияет на грамматическое число, использованное в единицах измерения (\"двадцать градусов\", но \"двадцать один градус\"). Используйте бибилиотеку utg или дополнительные функции pymorphy2"
   ]
  },
  {
   "cell_type": "code",
   "execution_count": 6,
   "metadata": {},
   "outputs": [
    {
     "name": "stdout",
     "output_type": "stream",
     "text": [
      "бутявки\n",
      "бутявок\n"
     ]
    }
   ],
   "source": [
    "import pymorphy2\n",
    "morph = pymorphy2.MorphAnalyzer()\n",
    "butyavka = morph.parse('бутявка')[0] \n",
    "print(butyavka.inflect({'gent'}).word) #нет кого? родительный падеж\n",
    "print(butyavka.make_agree_with_number(5).word) #согласование с числительным 5"
   ]
  },
  {
   "cell_type": "code",
   "execution_count": 7,
   "metadata": {},
   "outputs": [
    {
     "name": "stdout",
     "output_type": "stream",
     "text": [
      "кудрявцева николая николаевича\n",
      "воронова артёма анатолиевича\n",
      "гаричева сергея николаевича\n",
      "анохова елены владимировны\n",
      "ланчаков александра борисовича\n",
      "зайцева константина кирилловича\n",
      "петушков владимира сергеевича\n",
      "дворковича александра викторовича\n",
      "киселева валерия валериевича\n",
      "негодяев сергея серафимовича\n",
      "иванова виктора владимировича\n",
      "райгородского андрея михайловича\n",
      "назарова виктора борисовича\n",
      "багана виталия анатолиевича\n",
      "евсеева евгения григориевича\n",
      "зубцова дмитрия александровича\n",
      "скалько юрия ивановича\n"
     ]
    }
   ],
   "source": [
    "import pymorphy2\n",
    "morph = pymorphy2.MorphAnalyzer()\n",
    "for i in range(len(names)):\n",
    "    familiya = morph.parse(names[i].split()[0])[0]  \n",
    "    imya =  morph.parse(names[i].split()[1])[0]\n",
    "    otchestvo =  morph.parse(names[i].split()[2])[0]\n",
    "    print(familiya.inflect({'gent'}).word, imya.inflect({'gent'}).word, otchestvo.inflect({'gent'}).word) #нет кого? родительный падеж\n",
    "    #print(butyavka.make_agree_with_number(5).word) #согласование с числительным 5"
   ]
  },
  {
   "cell_type": "code",
   "execution_count": 9,
   "metadata": {
    "collapsed": true
   },
   "outputs": [],
   "source": [
    "import pymorphy2\n",
    "\n",
    "morph = pymorphy2.MorphAnalyzer()\n",
    "\n",
    "def generate_forms(word):\n",
    "    p = morph.parse(word)[0]\n",
    "    res = []\n",
    "    lexems = p.lexeme\n",
    "    if 'NOUN' in p.tag:\n",
    "        for i in range(len(lexems)):\n",
    "            res.append(lexems[i][4][0][1])\n",
    "        #print(res)\n",
    "        if 'femn' in p.tag:\n",
    "            res1 = res[:5]\n",
    "            res1.append(res[6])\n",
    "            res1.extend(res[7:])\n",
    "            res1.extend(res1[6:])\n",
    "            return(res1)\n",
    "        else:\n",
    "            res.extend(res[6:])\n",
    "            return(res)\n",
    "    if 'VERB' in p.tag or 'INFN' in p.tag:\n",
    "        for i in [0,1,3,2,4]:\n",
    "            res.append(lexems[i][4][0][1])\n",
    "        return(res)\n",
    "    if 'ADJF' in p.tag:\n",
    "        for i in range(18):\n",
    "            res.append(lexems[i][4][0][1])\n",
    "        return(res)"
   ]
  },
  {
   "cell_type": "code",
   "execution_count": 11,
   "metadata": {},
   "outputs": [
    {
     "name": "stdout",
     "output_type": "stream",
     "text": [
      "Студенты вручили николаю николаевичу прощальную открытку.\n",
      "Студенты вручили артёму анатолиевича прощальную открытку.\n",
      "Студенты вручили сергею николаевичу прощальную открытку.\n",
      "Студенты вручили елене владимировича прощальную открытку.\n",
      "Студенты вручили александру борисовичу прощальную открытку.\n",
      "Студенты вручили константину кирилловичу прощальную открытку.\n",
      "Студенты вручили владимиру сергеевичу прощальную открытку.\n",
      "Студенты вручили александру викторовичу прощальную открытку.\n",
      "Студенты вручили валерию валериевича прощальную открытку.\n",
      "Студенты вручили сергею серафимовичу прощальную открытку.\n",
      "Студенты вручили виктору владимировичу прощальную открытку.\n",
      "Студенты вручили андрею михайловичам прощальную открытку.\n",
      "Студенты вручили виктору борисовичу прощальную открытку.\n",
      "Студенты вручили виталию анатолиевича прощальную открытку.\n",
      "Студенты вручили евгению григориевича прощальную открытку.\n",
      "Студенты вручили дмитрию александровичу прощальную открытку.\n",
      "Студенты вручили юрию ивановичу прощальную открытку.\n"
     ]
    }
   ],
   "source": [
    "from utg import relations as r\n",
    "from utg import logic\n",
    "from utg import data\n",
    "from utg import dictionary\n",
    "from utg import words\n",
    "from utg import templates\n",
    "from utg import constructors\n",
    "\n",
    "# описываем существительное для словаря\n",
    "noun_word = words.Word(type=r.WORD_TYPE.NOUN,\n",
    "                        forms=generate_forms('открытка'),\n",
    "                        properties=words.Properties(r.ANIMALITY.INANIMATE, r.GENDER.FEMININE)) \n",
    "\n",
    "# описываем глагол для словаря\n",
    "action_word = words.Word(type=r.WORD_TYPE.VERB,\n",
    "                         forms=generate_forms('вручил') + [u''] * (len(data.WORDS_CACHES[r.WORD_TYPE.VERB]) - 5),\n",
    "                         properties=words.Properties(r.ASPECT.PERFECTIVE, r.VOICE.DIRECT) )\n",
    "\n",
    "\n",
    "# создаём словарь для использования в шаблонах\n",
    "test_dictionary = dictionary.Dictionary(words=[noun_word, action_word])\n",
    "\n",
    "# создаём шаблон\n",
    "template = templates.Template()\n",
    "\n",
    "# externals — внешние переменные, не обязаны быть в словаре\n",
    "template.parse(u'[Obj|мн] [вручили|obj|прш] [subj|дт] [subj_1|дт] [red|вн|мр] [card|вн].', externals=('subj', 'subj_1', 'obj', 'card', 'red'))\n",
    "\n",
    "for i in range(len(names)):\n",
    "    imya =  morph.parse(names[i].split()[1])[0]\n",
    "    otchestvo =  morph.parse(names[i].split()[2])[0]\n",
    "# описываем внешние переменные\n",
    "    subj = words.WordForm(words.Word(type=r.WORD_TYPE.NOUN,\n",
    "                                         forms=generate_forms(imya[0])[:18],\n",
    "                                         properties=words.Properties(r.ANIMALITY.ANIMATE)))\n",
    "    \n",
    "    subj_1 = words.WordForm(words.Word(type=r.WORD_TYPE.NOUN,\n",
    "                                         forms=generate_forms(otchestvo[0])[12:30],\n",
    "                                         properties=words.Properties(r.ANIMALITY.ANIMATE)))\n",
    "\n",
    "    obj = words.WordForm(words.Word(type=r.WORD_TYPE.NOUN,\n",
    "                                        forms=generate_forms('студент'),\n",
    "                                         properties=words.Properties(r.ANIMALITY.ANIMATE, r.GENDER.MASCULINE)))\n",
    "    card = words.WordForm(words.Word(type=r.WORD_TYPE.NOUN,\n",
    "                                        forms=generate_forms('открытка'),\n",
    "                                         properties=words.Properties(r.ANIMALITY.ANIMATE, r.GENDER.FEMININE)))\n",
    "\n",
    "    red = words.WordForm(words.Word(type=r.WORD_TYPE.ADJECTIVE,\n",
    "                                        forms=generate_forms('прощальный')[8:] + [u''] * (8+len(data.WORDS_CACHES[r.WORD_TYPE.ADJECTIVE]) - len(generate_forms('красная'))) ,\n",
    "                                         properties=words.Properties(r.ANIMALITY.ANIMATE, r.GENDER.FEMININE, r.CASE.NOMINATIVE)))\n",
    "\n",
    "        # осуществляем подстановку\n",
    "    result = template.substitute(externals={'subj': subj,\n",
    "                                            'subj_1': subj_1,\n",
    "                                                'obj': obj,\n",
    "                                               'card':card,\n",
    "                                            'red':red},\n",
    "                                     dictionary=test_dictionary)\n",
    "    print(result)\n"
   ]
  },
  {
   "cell_type": "markdown",
   "metadata": {
    "collapsed": true
   },
   "source": [
    "## Часть 3 (необязательная)\n",
    "Соберите данные не только за сегодняшний, но и за вчерашний день, и напишите шаблоны, которые сравнивают вчерашние и сегодняшние показатели (например, \"сегодня похолодало на Х градусов по сравнению со вчера\")."
   ]
  }
 ],
 "metadata": {
  "kernelspec": {
   "display_name": "Python 3",
   "language": "python",
   "name": "python3"
  },
  "language_info": {
   "codemirror_mode": {
    "name": "ipython",
    "version": 3
   },
   "file_extension": ".py",
   "mimetype": "text/x-python",
   "name": "python",
   "nbconvert_exporter": "python",
   "pygments_lexer": "ipython3",
   "version": "3.6.3"
  }
 },
 "nbformat": 4,
 "nbformat_minor": 2
}
